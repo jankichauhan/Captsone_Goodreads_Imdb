{
 "cells": [
  {
   "cell_type": "code",
   "execution_count": 94,
   "metadata": {},
   "outputs": [],
   "source": [
    "import pyspark as ps    # for the pyspark suite\n",
    "from pyspark.sql.functions import *\n",
    "from matplotlib.pyplot import *\n",
    "import pandas as pd"
   ]
  },
  {
   "cell_type": "code",
   "execution_count": 2,
   "metadata": {},
   "outputs": [],
   "source": [
    "spark = (ps.sql.SparkSession\n",
    "         .builder\n",
    "         .master('local[4]')\n",
    "         .appName('capstone')\n",
    "         .getOrCreate()\n",
    "        )\n",
    "sc = spark.sparkContext"
   ]
  },
  {
   "cell_type": "code",
   "execution_count": null,
   "metadata": {},
   "outputs": [],
   "source": [
    "spark"
   ]
  },
  {
   "cell_type": "code",
   "execution_count": 5,
   "metadata": {},
   "outputs": [
    {
     "name": "stdout",
     "output_type": "stream",
     "text": [
      "++\n",
      "||\n",
      "++\n",
      "++\n",
      "\n"
     ]
    }
   ],
   "source": [
    "spark.sql(\"Create Database Imdb\").show()"
   ]
  },
  {
   "cell_type": "code",
   "execution_count": 6,
   "metadata": {},
   "outputs": [],
   "source": [
    "df_movie_raw = spark.read.csv('data/title.basics.tsv',\n",
    "                         header=True,       # use headers or not\n",
    "                         quote='\"',         # char for quotes\n",
    "                         sep=\"\\t\",           # char for separation\n",
    "                         inferSchema=True)  # do we infer schema or not ?"
   ]
  },
  {
   "cell_type": "code",
   "execution_count": 485,
   "metadata": {},
   "outputs": [
    {
     "data": {
      "text/plain": [
       "6737752"
      ]
     },
     "execution_count": 485,
     "metadata": {},
     "output_type": "execute_result"
    }
   ],
   "source": [
    "df_movie_raw.createOrReplaceTempView('Imdb_All')\n",
    "df_movie_raw.count()"
   ]
  },
  {
   "cell_type": "code",
   "execution_count": 8,
   "metadata": {},
   "outputs": [
    {
     "name": "stdout",
     "output_type": "stream",
     "text": [
      "+--------------+---------+-------+\n",
      "|      col_name|data_type|comment|\n",
      "+--------------+---------+-------+\n",
      "|        tconst|   string|   null|\n",
      "|     titleType|   string|   null|\n",
      "|  primaryTitle|   string|   null|\n",
      "| originalTitle|   string|   null|\n",
      "|       isAdult|      int|   null|\n",
      "|     startYear|   string|   null|\n",
      "|       endYear|   string|   null|\n",
      "|runtimeMinutes|   string|   null|\n",
      "|        genres|   string|   null|\n",
      "+--------------+---------+-------+\n",
      "\n"
     ]
    }
   ],
   "source": [
    "spark.sql(\"Desc Imdb_All\").show()"
   ]
  },
  {
   "cell_type": "code",
   "execution_count": 9,
   "metadata": {},
   "outputs": [
    {
     "name": "stdout",
     "output_type": "stream",
     "text": [
      "+------------+\n",
      "|   titleType|\n",
      "+------------+\n",
      "|    tvSeries|\n",
      "|tvMiniSeries|\n",
      "|     tvMovie|\n",
      "|   tvEpisode|\n",
      "|       movie|\n",
      "|   tvSpecial|\n",
      "|       video|\n",
      "|   videoGame|\n",
      "|     tvShort|\n",
      "|       short|\n",
      "+------------+\n",
      "\n"
     ]
    }
   ],
   "source": [
    "# Type of titles in Imdb\n",
    "spark.sql(\"Select distinct(m.titleType) from Imdb_All m\").show()"
   ]
  },
  {
   "cell_type": "code",
   "execution_count": 10,
   "metadata": {},
   "outputs": [],
   "source": [
    "df_ratings_raw = spark.read.csv('data/title.ratings.tsv',\n",
    "                         header=True,       # use headers or not\n",
    "                         quote='\"',         # char for quotes\n",
    "                         sep=\"\\t\",           # char for separation\n",
    "                         inferSchema=True)  # do we infer schema or not ?"
   ]
  },
  {
   "cell_type": "code",
   "execution_count": 486,
   "metadata": {},
   "outputs": [
    {
     "data": {
      "text/plain": [
       "1022316"
      ]
     },
     "execution_count": 486,
     "metadata": {},
     "output_type": "execute_result"
    }
   ],
   "source": [
    "df_ratings_raw.createOrReplaceTempView('Ratings')\n",
    "df_ratings_raw.count()"
   ]
  },
  {
   "cell_type": "code",
   "execution_count": 12,
   "metadata": {},
   "outputs": [
    {
     "name": "stdout",
     "output_type": "stream",
     "text": [
      "+-------------+---------+-------+\n",
      "|     col_name|data_type|comment|\n",
      "+-------------+---------+-------+\n",
      "|       tconst|   string|   null|\n",
      "|averageRating|   double|   null|\n",
      "|     numVotes|      int|   null|\n",
      "+-------------+---------+-------+\n",
      "\n"
     ]
    }
   ],
   "source": [
    "spark.sql(\"Desc Ratings\").show()"
   ]
  },
  {
   "cell_type": "code",
   "execution_count": 14,
   "metadata": {},
   "outputs": [],
   "source": [
    "df_principal_crew_raw = spark.read.csv('data/title.principals.tsv',\n",
    "                         header=True,       # use headers or not\n",
    "                         quote='\"',         # char for quotes\n",
    "                         sep=\"\\t\",           # char for separation\n",
    "                         inferSchema=True)  # do we infer schema or not ?"
   ]
  },
  {
   "cell_type": "code",
   "execution_count": 487,
   "metadata": {},
   "outputs": [
    {
     "data": {
      "text/plain": [
       "38643725"
      ]
     },
     "execution_count": 487,
     "metadata": {},
     "output_type": "execute_result"
    }
   ],
   "source": [
    "df_principal_crew_raw.createOrReplaceTempView('Principal_Crew')\n",
    "df_principal_crew_raw.count()"
   ]
  },
  {
   "cell_type": "code",
   "execution_count": 16,
   "metadata": {},
   "outputs": [
    {
     "name": "stdout",
     "output_type": "stream",
     "text": [
      "+----------+---------+-------+\n",
      "|  col_name|data_type|comment|\n",
      "+----------+---------+-------+\n",
      "|    tconst|   string|   null|\n",
      "|  ordering|      int|   null|\n",
      "|    nconst|   string|   null|\n",
      "|  category|   string|   null|\n",
      "|       job|   string|   null|\n",
      "|characters|   string|   null|\n",
      "+----------+---------+-------+\n",
      "\n"
     ]
    }
   ],
   "source": [
    "spark.sql(\"Desc Principal_Crew\").show()"
   ]
  },
  {
   "cell_type": "code",
   "execution_count": 17,
   "metadata": {},
   "outputs": [
    {
     "name": "stdout",
     "output_type": "stream",
     "text": [
      "+-------------------+\n",
      "|           category|\n",
      "+-------------------+\n",
      "|            actress|\n",
      "|           producer|\n",
      "|             writer|\n",
      "|           composer|\n",
      "|           director|\n",
      "|               self|\n",
      "|              actor|\n",
      "|             editor|\n",
      "|    cinematographer|\n",
      "|      archive_sound|\n",
      "|production_designer|\n",
      "|    archive_footage|\n",
      "+-------------------+\n",
      "\n"
     ]
    }
   ],
   "source": [
    "spark.sql(\"Select distinct(category) from Principal_Crew\").show()"
   ]
  },
  {
   "cell_type": "code",
   "execution_count": 18,
   "metadata": {},
   "outputs": [],
   "source": [
    "df_crew_names = spark.read.csv('data/name.basics.tsv',\n",
    "                         header=True,       # use headers or not\n",
    "                         quote='\"',         # char for quotes\n",
    "                         sep=\"\\t\",           # char for separation\n",
    "                         inferSchema=True)  # do we infer schema or not ?"
   ]
  },
  {
   "cell_type": "code",
   "execution_count": 488,
   "metadata": {},
   "outputs": [
    {
     "data": {
      "text/plain": [
       "9999865"
      ]
     },
     "execution_count": 488,
     "metadata": {},
     "output_type": "execute_result"
    }
   ],
   "source": [
    "df_crew_names.createOrReplaceTempView('Crew_names')\n",
    "df_crew_names.count()"
   ]
  },
  {
   "cell_type": "code",
   "execution_count": 20,
   "metadata": {},
   "outputs": [
    {
     "name": "stdout",
     "output_type": "stream",
     "text": [
      "+-----------------+---------+-------+\n",
      "|         col_name|data_type|comment|\n",
      "+-----------------+---------+-------+\n",
      "|           nconst|   string|   null|\n",
      "|      primaryName|   string|   null|\n",
      "|        birthYear|   string|   null|\n",
      "|        deathYear|   string|   null|\n",
      "|primaryProfession|   string|   null|\n",
      "|   knownForTitles|   string|   null|\n",
      "+-----------------+---------+-------+\n",
      "\n"
     ]
    }
   ],
   "source": [
    "spark.sql(\"Desc Crew_names\").show()"
   ]
  },
  {
   "cell_type": "code",
   "execution_count": 25,
   "metadata": {},
   "outputs": [
    {
     "name": "stdout",
     "output_type": "stream",
     "text": [
      "+--------+--------------+-----------+\n",
      "|database|     tableName|isTemporary|\n",
      "+--------+--------------+-----------+\n",
      "|        |    crew_names|       true|\n",
      "|        |      imdb_all|       true|\n",
      "|        |        movies|       true|\n",
      "|        |principal_crew|       true|\n",
      "|        |       ratings|       true|\n",
      "+--------+--------------+-----------+\n",
      "\n"
     ]
    }
   ],
   "source": [
    "spark.sql(\"Show tables\").show()"
   ]
  },
  {
   "cell_type": "code",
   "execution_count": 126,
   "metadata": {},
   "outputs": [],
   "source": [
    "# Filtering to movie and tvMovie type\n",
    "df_movies = spark.sql(\"select * from Imdb_All m where m.titleType in ('tvMovie','movie')\")"
   ]
  },
  {
   "cell_type": "code",
   "execution_count": 23,
   "metadata": {},
   "outputs": [],
   "source": [
    "df_movies.createOrReplaceTempView('Movies')"
   ]
  },
  {
   "cell_type": "code",
   "execution_count": 26,
   "metadata": {},
   "outputs": [],
   "source": [
    "#Filtering crew to writers only, writers have books the movie was adapted from\n",
    "df_writers = spark.sql(\"Select tconst, nconst, category, job from Principal_Crew where category = 'writer'\")"
   ]
  },
  {
   "cell_type": "code",
   "execution_count": 27,
   "metadata": {},
   "outputs": [],
   "source": [
    "df_writers.createOrReplaceTempView('Writers')"
   ]
  },
  {
   "cell_type": "code",
   "execution_count": 28,
   "metadata": {},
   "outputs": [
    {
     "name": "stdout",
     "output_type": "stream",
     "text": [
      "+--------+---------+-------+\n",
      "|col_name|data_type|comment|\n",
      "+--------+---------+-------+\n",
      "|  tconst|   string|   null|\n",
      "|  nconst|   string|   null|\n",
      "|category|   string|   null|\n",
      "|     job|   string|   null|\n",
      "+--------+---------+-------+\n",
      "\n"
     ]
    }
   ],
   "source": [
    "spark.sql(\"Desc Writers\").show()"
   ]
  },
  {
   "cell_type": "code",
   "execution_count": 29,
   "metadata": {},
   "outputs": [
    {
     "name": "stdout",
     "output_type": "stream",
     "text": [
      "+--------------+---------+-------+\n",
      "|      col_name|data_type|comment|\n",
      "+--------------+---------+-------+\n",
      "|        tconst|   string|   null|\n",
      "|     titleType|   string|   null|\n",
      "|  primaryTitle|   string|   null|\n",
      "| originalTitle|   string|   null|\n",
      "|       isAdult|      int|   null|\n",
      "|     startYear|   string|   null|\n",
      "|       endYear|   string|   null|\n",
      "|runtimeMinutes|   string|   null|\n",
      "|        genres|   string|   null|\n",
      "+--------------+---------+-------+\n",
      "\n"
     ]
    }
   ],
   "source": [
    "spark.sql(\"Desc Movies\").show()"
   ]
  },
  {
   "cell_type": "code",
   "execution_count": 30,
   "metadata": {},
   "outputs": [
    {
     "name": "stdout",
     "output_type": "stream",
     "text": [
      "+-------------+---------+-------+\n",
      "|     col_name|data_type|comment|\n",
      "+-------------+---------+-------+\n",
      "|       tconst|   string|   null|\n",
      "|averageRating|   double|   null|\n",
      "|     numVotes|      int|   null|\n",
      "+-------------+---------+-------+\n",
      "\n"
     ]
    }
   ],
   "source": [
    "spark.sql(\"Desc ratings\").show()"
   ]
  },
  {
   "cell_type": "code",
   "execution_count": 31,
   "metadata": {},
   "outputs": [],
   "source": [
    "# Joining movies and ratings table\n",
    "df_movies_ratings = spark.sql(\"select m.tconst as movie_id, m.titleType as title_type, m.primaryTitle as primary_title, m.originalTitle as original_title, m.startYear as year, m.runtimeMinutes as runtime_mins, m.genres as genres, r.averageRating as avg_ratings, r.numVotes as votes from Movies m inner join ratings r on m.tconst = r.tconst\")"
   ]
  },
  {
   "cell_type": "code",
   "execution_count": 489,
   "metadata": {},
   "outputs": [
    {
     "data": {
      "text/plain": [
       "289859"
      ]
     },
     "execution_count": 489,
     "metadata": {},
     "output_type": "execute_result"
    }
   ],
   "source": [
    "df_movies_ratings.createOrReplaceTempView('Movies_and_Ratings')\n",
    "df_movies_ratings.count()"
   ]
  },
  {
   "cell_type": "code",
   "execution_count": 34,
   "metadata": {},
   "outputs": [
    {
     "name": "stdout",
     "output_type": "stream",
     "text": [
      "+--------------+---------+-------+\n",
      "|      col_name|data_type|comment|\n",
      "+--------------+---------+-------+\n",
      "|      movie_id|   string|   null|\n",
      "|    title_type|   string|   null|\n",
      "| primary_title|   string|   null|\n",
      "|original_title|   string|   null|\n",
      "|          year|   string|   null|\n",
      "|  runtime_mins|   string|   null|\n",
      "|        genres|   string|   null|\n",
      "|   avg_ratings|   double|   null|\n",
      "|         votes|      int|   null|\n",
      "+--------------+---------+-------+\n",
      "\n"
     ]
    }
   ],
   "source": [
    "spark.sql(\"Desc Movies_and_Ratings\").show()"
   ]
  },
  {
   "cell_type": "code",
   "execution_count": 35,
   "metadata": {},
   "outputs": [],
   "source": [
    "# Joining writers and crew info table\n",
    "df_writer_info = spark.sql(\"select w.tconst as movie_id, w.nconst as crew_id, w.category as category, c.primaryName as name, c.birthYear as birth_year, c.primaryProfession as profession, w.job as job_desc from Writers w inner join crew_names c on w.nconst = c.nconst\")"
   ]
  },
  {
   "cell_type": "code",
   "execution_count": 36,
   "metadata": {},
   "outputs": [
    {
     "name": "stdout",
     "output_type": "stream",
     "text": [
      "root\n",
      " |-- movie_id: string (nullable = true)\n",
      " |-- crew_id: string (nullable = true)\n",
      " |-- category: string (nullable = true)\n",
      " |-- name: string (nullable = true)\n",
      " |-- birth_year: string (nullable = true)\n",
      " |-- profession: string (nullable = true)\n",
      " |-- job_desc: string (nullable = true)\n",
      "\n"
     ]
    }
   ],
   "source": [
    "df_writer_info.printSchema()"
   ]
  },
  {
   "cell_type": "code",
   "execution_count": 37,
   "metadata": {},
   "outputs": [],
   "source": [
    "df_writer_info.createOrReplaceTempView(\"Writer_Info\")"
   ]
  },
  {
   "cell_type": "code",
   "execution_count": 38,
   "metadata": {},
   "outputs": [
    {
     "name": "stdout",
     "output_type": "stream",
     "text": [
      "+--------+------------------+-----------+\n",
      "|database|         tableName|isTemporary|\n",
      "+--------+------------------+-----------+\n",
      "|        |        crew_names|       true|\n",
      "|        |          imdb_all|       true|\n",
      "|        |            movies|       true|\n",
      "|        |movies_and_ratings|       true|\n",
      "|        |    principal_crew|       true|\n",
      "|        |           ratings|       true|\n",
      "|        |       writer_info|       true|\n",
      "|        |           writers|       true|\n",
      "+--------+------------------+-----------+\n",
      "\n"
     ]
    }
   ],
   "source": [
    "spark.sql('Show tables').show()"
   ]
  },
  {
   "cell_type": "code",
   "execution_count": 39,
   "metadata": {},
   "outputs": [
    {
     "name": "stdout",
     "output_type": "stream",
     "text": [
      "+---------+---------+\n",
      "|max(year)|min(year)|\n",
      "+---------+---------+\n",
      "|     2020|     1894|\n",
      "+---------+---------+\n",
      "\n"
     ]
    }
   ],
   "source": [
    "spark.sql(\"select max(year), min(year) from movies_and_ratings where year > 0\").show()"
   ]
  },
  {
   "cell_type": "code",
   "execution_count": 40,
   "metadata": {},
   "outputs": [
    {
     "name": "stdout",
     "output_type": "stream",
     "text": [
      "+--------------+---------+-------+\n",
      "|      col_name|data_type|comment|\n",
      "+--------------+---------+-------+\n",
      "|      movie_id|   string|   null|\n",
      "|    title_type|   string|   null|\n",
      "| primary_title|   string|   null|\n",
      "|original_title|   string|   null|\n",
      "|          year|   string|   null|\n",
      "|  runtime_mins|   string|   null|\n",
      "|        genres|   string|   null|\n",
      "|   avg_ratings|   double|   null|\n",
      "|         votes|      int|   null|\n",
      "+--------------+---------+-------+\n",
      "\n"
     ]
    }
   ],
   "source": [
    "spark.sql(\"Desc movies_and_ratings\").show()"
   ]
  },
  {
   "cell_type": "code",
   "execution_count": 132,
   "metadata": {},
   "outputs": [
    {
     "name": "stdout",
     "output_type": "stream",
     "text": [
      "+----------+---------+-------+\n",
      "|  col_name|data_type|comment|\n",
      "+----------+---------+-------+\n",
      "|  movie_id|   string|   null|\n",
      "|   crew_id|   string|   null|\n",
      "|  category|   string|   null|\n",
      "|      name|   string|   null|\n",
      "|birth_year|   string|   null|\n",
      "|profession|   string|   null|\n",
      "|  job_desc|   string|   null|\n",
      "+----------+---------+-------+\n",
      "\n"
     ]
    }
   ],
   "source": [
    "spark.sql(\"Desc writer_info\").show()"
   ]
  },
  {
   "cell_type": "code",
   "execution_count": 137,
   "metadata": {},
   "outputs": [
    {
     "name": "stdout",
     "output_type": "stream",
     "text": [
      "+----------+----------+\n",
      "|max(votes)|min(votes)|\n",
      "+----------+----------+\n",
      "|   2210915|         5|\n",
      "+----------+----------+\n",
      "\n"
     ]
    }
   ],
   "source": [
    "spark.sql(\"select max(votes), min(votes) from movies_and_ratings\").show()"
   ]
  },
  {
   "cell_type": "code",
   "execution_count": 147,
   "metadata": {},
   "outputs": [
    {
     "name": "stdout",
     "output_type": "stream",
     "text": [
      "+---------+----------+--------------------+--------------------+----+------------+--------------------+-----------+-----+\n",
      "| movie_id|title_type|       primary_title|      original_title|year|runtime_mins|              genres|avg_ratings|votes|\n",
      "+---------+----------+--------------------+--------------------+----+------------+--------------------+-----------+-----+\n",
      "|tt0810922|     movie|Take Me Home Tonight|Take Me Home Tonight|2011|          97|Comedy,Drama,Romance|        6.3|50088|\n",
      "+---------+----------+--------------------+--------------------+----+------------+--------------------+-----------+-----+\n",
      "\n"
     ]
    }
   ],
   "source": [
    "spark.sql(\"select * from movies_and_ratings where movie_id = 'tt0810922'\").show()"
   ]
  },
  {
   "cell_type": "code",
   "execution_count": 189,
   "metadata": {},
   "outputs": [],
   "source": [
    "# combining movies+ratings and writer+crew info\n",
    "df_movies_writers = spark.sql(\"select m.movie_id, m.primary_title, m.year, m.genres, w.crew_id, w.name, w.profession, m.avg_ratings, m.votes, w.job_desc from movies_and_ratings m inner join writer_info w on m.movie_id = w.movie_id and m.year >=2005 and m.year <= 2020 and m.votes >= 100\")"
   ]
  },
  {
   "cell_type": "code",
   "execution_count": 190,
   "metadata": {},
   "outputs": [
    {
     "data": {
      "text/plain": [
       "52779"
      ]
     },
     "execution_count": 190,
     "metadata": {},
     "output_type": "execute_result"
    }
   ],
   "source": [
    "# Total number of movies gathered from year 2005 to 2020 with more than 100 votes(review count)\n",
    "df_movies_writers.count()"
   ]
  },
  {
   "cell_type": "code",
   "execution_count": 191,
   "metadata": {},
   "outputs": [],
   "source": [
    "df_movies_writers.createOrReplaceTempView('movies_and_writers')"
   ]
  },
  {
   "cell_type": "code",
   "execution_count": 192,
   "metadata": {},
   "outputs": [
    {
     "name": "stdout",
     "output_type": "stream",
     "text": [
      "+-------------+---------+-------+\n",
      "|     col_name|data_type|comment|\n",
      "+-------------+---------+-------+\n",
      "|     movie_id|   string|   null|\n",
      "|primary_title|   string|   null|\n",
      "|         year|   string|   null|\n",
      "|       genres|   string|   null|\n",
      "|      crew_id|   string|   null|\n",
      "|         name|   string|   null|\n",
      "|   profession|   string|   null|\n",
      "|  avg_ratings|   double|   null|\n",
      "|        votes|      int|   null|\n",
      "|     job_desc|   string|   null|\n",
      "+-------------+---------+-------+\n",
      "\n"
     ]
    }
   ],
   "source": [
    "spark.sql(\"desc movies_and_writers\").show()"
   ]
  },
  {
   "cell_type": "code",
   "execution_count": 158,
   "metadata": {},
   "outputs": [
    {
     "name": "stdout",
     "output_type": "stream",
     "text": [
      "+--------------------------------------------------------------------------------------------------------------------+\n",
      "|job_desc                                                                                                            |\n",
      "+--------------------------------------------------------------------------------------------------------------------+\n",
      "|based on the comic book \"The Secret Service\" by                                                                     |\n",
      "|short story \"The Link\"                                                                                              |\n",
      "|poetry                                                                                                              |\n",
      "|original story and screenplay by                                                                                    |\n",
      "|article \"On Seeing a Sex Surrogate\"                                                                                 |\n",
      "|novel \"Tony and Susan\"                                                                                              |\n",
      "|hindi dialogue consultant                                                                                           |\n",
      "|novel \"Iqbal Farooq og den sorte pjerrot                                                                            |\n",
      "|novel 'The Cab Driver'                                                                                              |\n",
      "|voice over writer                                                                                                   |\n",
      "|based on the novel 'Whatever Makes You Happy'                                                                       |\n",
      "|based on the movie 'Kraftidioten' written by                                                                        |\n",
      "|first rewrite                                                                                                       |\n",
      "|based on a short film by                                                                                            |\n",
      "|novels \"The Adventures of Huckleberry Finn\" and \"The Adventures of Tom Sawyer\"                                      |\n",
      "|animated series                                                                                                     |\n",
      "|play \"The Insect Play\"                                                                                              |\n",
      "|novel \"Don't Point That Thing at Me\"                                                                                |\n",
      "|based on the book: \"Queen Bees and Wannabes\" by                                                                     |\n",
      "|novel 'Le Portail                                                                                                   |\n",
      "|a film written by                                                                                                   |\n",
      "|additional contributions                                                                                            |\n",
      "|screenplay and story                                                                                                |\n",
      "|play \"Martyr\"                                                                                                       |\n",
      "|column                                                                                                              |\n",
      "|comic: Noroiya Shimai                                                                                               |\n",
      "|research advice                                                                                                     |\n",
      "|Script                                                                                                              |\n",
      "|novels \"Guardians of Ga'Hoole\"                                                                                      |\n",
      "|novel \"Unbridled Love\"                                                                                              |\n",
      "|original idea                                                                                                       |\n",
      "|novel \"Catching Fire\"                                                                                               |\n",
      "|character created by                                                                                                |\n",
      "|novel \"Tess of the d'Urbervilles\"                                                                                   |\n",
      "|book: Devil's Knot: The True Story of the West Memphis Three                                                        |\n",
      "|based on the book \"Stronger\" by                                                                                     |\n",
      "|character                                                                                                           |\n",
      "|story inspired by: \"The Snow Queen\" by                                                                              |\n",
      "|biography                                                                                                           |\n",
      "|based upon the book 'Colour Bar' by                                                                                 |\n",
      "|book \"Por Trás do Véu de Ísis\"                                                                                      |\n",
      "|book \"Act Like a Lady, Think Like a Man\"                                                                            |\n",
      "|novel \"Emma\"                                                                                                        |\n",
      "|adaptation & translation                                                                                            |\n",
      "|original screenplay: 50 First Dates                                                                                 |\n",
      "|credit only                                                                                                         |\n",
      "|based on \"Reality and Dreams\" by                                                                                    |\n",
      "|Artistic Collaborator                                                                                               |\n",
      "|based on the book: \"Quicksand\" by                                                                                   |\n",
      "|based on a film by                                                                                                  |\n",
      "|inspired by his Intimate Diary                                                                                      |\n",
      "|writer: documentary unit                                                                                            |\n",
      "|additional research material from the book \"Elizabeth\"                                                              |\n",
      "|Malayalam dialogue                                                                                                  |\n",
      "|book \"The Secret Life of Mrs. Claus\"                                                                                |\n",
      "|scenario staff                                                                                                      |\n",
      "|novel \"Nørdernes forvandling\"                                                                                       |\n",
      "|novel \"Shibito o kou\"                                                                                               |\n",
      "|original manga                                                                                                      |\n",
      "|short story \"Adjustment Team\"                                                                                       |\n",
      "|based on the television series by: \"Dora the Explorer\"                                                              |\n",
      "|additional script material by                                                                                       |\n",
      "|book \"VIPs - Histórias Reais de um Mentiroso\"                                                                       |\n",
      "|based on the Malibu comic by                                                                                        |\n",
      "|subject                                                                                                             |\n",
      "|marathi dialogue                                                                                                    |\n",
      "|novel: 'Rico, Oskar und die Tieferschatten'                                                                         |\n",
      "|based on the screenplay \"Untitled Joe Strummer Project\" by                                                          |\n",
      "|story planner                                                                                                       |\n",
      "|book \"Empty Cradles\"                                                                                                |\n",
      "|original screenplay: Corazon de Leon                                                                                |\n",
      "|based upon the \"Mary Poppins\" stories by                                                                            |\n",
      "|subtitles                                                                                                           |\n",
      "|based on                                                                                                            |\n",
      "|poetry anthology                                                                                                    |\n",
      "|novel \"Debi\"                                                                                                        |\n",
      "|book \"Full Service: My Adventures in Hollywood and the Secret Sex Lives of the Stars\"                               |\n",
      "|based on the Dark Horse graphic novel \"Polar: Came from the cold\" by                                                |\n",
      "|based on his play \"Blackbird\"                                                                                       |\n",
      "|novel: \"Peter Pan\"                                                                                                  |\n",
      "|based on a short story by                                                                                           |\n",
      "|earlier teleplay                                                                                                    |\n",
      "|novel \"The Prone Gunman\"                                                                                            |\n",
      "|adapted screenplay from film                                                                                        |\n",
      "|screen play and dialogue                                                                                            |\n",
      "|story and screenplay by                                                                                             |\n",
      "|book \"Neon Angel: The Cherie Currie Story\"                                                                          |\n",
      "|original creator                                                                                                    |\n",
      "|teleplay & story                                                                                                    |\n",
      "|additional screenwriting                                                                                            |\n",
      "|with characters introduced in the Millenium series by                                                               |\n",
      "|Justice League of America created by                                                                                |\n",
      "|dialogue advisor                                                                                                    |\n",
      "|based on the book My Friend Dahmer by                                                                               |\n",
      "|additional dialogue written and adapted by                                                                          |\n",
      "|television series: \"My Little Pony: Friendship is Magic\"                                                            |\n",
      "|based on the novel \"The Wife\" by                                                                                    |\n",
      "|short story \"Who Goes There?\"                                                                                       |\n",
      "|original story concept                                                                                              |\n",
      "|comic book series \"Dylan Dog\"                                                                                       |\n",
      "|based on the epic novels by                                                                                         |\n",
      "|novel from screenplay                                                                                               |\n",
      "|based on the \"Love Comes Softly\" book series by                                                                     |\n",
      "|idea & concept                                                                                                      |\n",
      "|novel \"High Rise\"                                                                                                   |\n",
      "|based on play by                                                                                                    |\n",
      "|based on \"Escape from New York\" written by                                                                          |\n",
      "|story \"Glück\"                                                                                                       |\n",
      "|based on stories by                                                                                                 |\n",
      "|based on motives of the novel trilogy by                                                                            |\n",
      "|novel \"Bulibasha: King of the Gypsies\"                                                                              |\n",
      "|novel \"Das war der gute Teil des Tages\"                                                                             |\n",
      "|novel \"Cloud Atlas\"                                                                                                 |\n",
      "|English translation                                                                                                 |\n",
      "|based on the book: 'Christmas for a Dollar' by                                                                      |\n",
      "|based on the film \"De Pernas Pro Ar\" written by                                                                     |\n",
      "|based on the novel by                                                                                               |\n",
      "|concept by                                                                                                          |\n",
      "|novel: The Bridge                                                                                                   |\n",
      "|Cheddar Goblin ad                                                                                                   |\n",
      "|scenario editor                                                                                                     |\n",
      "|after: \"The Case of the Missing Lady\" in \"Partners in Crime\" / \"Némésis\"                                            |\n",
      "|Hindi dialogue                                                                                                      |\n",
      "|book J'étais un homme pressé                                                                                        |\n",
      "|novel \"Ciencias Morales\"                                                                                            |\n",
      "|scenario                                                                                                            |\n",
      "|based on the memoir by                                                                                              |\n",
      "|story and teleplay                                                                                                  |\n",
      "|novella \"First Love\"                                                                                                |\n",
      "|book \"Paesa, el espía de las mil caras\"                                                                             |\n",
      "|novel 'Libre seul assoupi'                                                                                          |\n",
      "|book \"WikiLeaks: Inside Julian Assange's War on Secrecy\"                                                            |\n",
      "|quotation                                                                                                           |\n",
      "|excerpts from speeches                                                                                              |\n",
      "|horror screenplay                                                                                                   |\n",
      "|play \"Baño de Damas\"                                                                                                |\n",
      "|novel One for Sorrow                                                                                                |\n",
      "|novel Arlington Park                                                                                                |\n",
      "|screenplay revisions                                                                                                |\n",
      "|article: \"The Sicario\"                                                                                              |\n",
      "|based on the magazine article \"My Ex-Gay Friend\" by                                                                 |\n",
      "|script by                                                                                                           |\n",
      "|french adaptation                                                                                                   |\n",
      "|Script Writer                                                                                                       |\n",
      "|with collaboration by                                                                                               |\n",
      "|screen play by                                                                                                      |\n",
      "|screenplay co-writer                                                                                                |\n",
      "|based on the novel \"Cogan's Trade\" by                                                                               |\n",
      "|novel L'âge bête                                                                                                    |\n",
      "|Lyricist                                                                                                            |\n",
      "|book \"Po strnisti bos\"                                                                                              |\n",
      "|play \"Salome\"                                                                                                       |\n",
      "|co-author                                                                                                           |\n",
      "|character created by: Batman                                                                                        |\n",
      "|novel \"Le feu follet\"                                                                                               |\n",
      "|shooting script                                                                                                     |\n",
      "|fairy tale: \"Hansel and Gretel\"                                                                                     |\n",
      "|screenplay based on characters created by                                                                           |\n",
      "|characters by                                                                                                       |\n",
      "|based on the book \"The Spy Who Tried to Stop a War: Katharine Gun and the Secret Plot to Sanction the Iraq Invasion\"|\n",
      "|animation writer                                                                                                    |\n",
      "|opening sequence                                                                                                    |\n",
      "|based on characters from novels by                                                                                  |\n",
      "|based on the novel \"Cross\" by                                                                                       |\n",
      "|screenplay \"Cactus Flower\"                                                                                          |\n",
      "|based on a selection from \"The Master of Disguise\" by                                                               |\n",
      "|based on \"Fixer-Upper Mysteries\"                                                                                    |\n",
      "|based on the novel by: \"Ditch\"                                                                                      |\n",
      "|play \"Eu cand vreau sa fluier, fluier                                                                               |\n",
      "|play \"Sosluzhivtsy\"                                                                                                 |\n",
      "|dubbing adaptation/additional material                                                                              |\n",
      "|story development                                                                                                   |\n",
      "|based on novel by                                                                                                   |\n",
      "|book \"Hard Sell: The Evolution of a Viagra Salesman\"                                                                |\n",
      "|based on the book \"Queen of Scots: The True Life of Mary Stuart\" by                                                 |\n",
      "|video games                                                                                                         |\n",
      "|additional screenplay writer                                                                                        |\n",
      "|English adaptation, additional dialogue                                                                             |\n",
      "|additional story elements                                                                                           |\n",
      "|short story: Lord Arthur Savile's Crime                                                                             |\n",
      "|book \"The Last Victim\"                                                                                              |\n",
      "|orignal story                                                                                                       |\n",
      "|English adaptation, additional material                                                                             |\n",
      "|scenario revisions                                                                                                  |\n",
      "|original manga: comic                                                                                               |\n",
      "|extract from \"Pyjama Tops originally titled Moumou\"                                                                 |\n",
      "|play \"10 Dates with Mad Mary\"                                                                                       |\n",
      "|original story by                                                                                                   |\n",
      "|based on the railway series by                                                                                      |\n",
      "|novel \"Oh...\"                                                                                                       |\n",
      "|story/screenplay                                                                                                    |\n",
      "|based on: the series \"SpongeBob SquarePants\", developed by                                                          |\n",
      "|book \"Santa Cruise\"                                                                                                 |\n",
      "|freely inspired from the play 'GIF' by                                                                              |\n",
      "|based on the motion picture \"The Evil Dead\", written by                                                             |\n",
      "|novel \"Arab\"                                                                                                        |\n",
      "|novel \"A Woman in Jerusalem\"                                                                                        |\n",
      "|in collaboration with                                                                                               |\n",
      "|novel \"Chocolate Chip Cookie Murder\"                                                                                |\n",
      "|novel \"The Strange Case of Dr. Jekyll and Mr. Hyde\"                                                                 |\n",
      "|based on the manuscript by                                                                                          |\n",
      "|autobiography                                                                                                       |\n",
      "|based on the novel \"All You Need Is Kill\" by                                                                        |\n",
      "|story co-writer                                                                                                     |\n",
      "|based on The New York Times magazine article \"The Lawyer Who Became DuPont's Worst Nightmare\" by                    |\n",
      "|book \"The Operators\"                                                                                                |\n",
      "|play My Brilliant Divorce                                                                                           |\n",
      "|screen-play                                                                                                         |\n",
      "|source material: \"13: Game of Death\" by                                                                             |\n",
      "|screen story                                                                                                        |\n",
      "|based on the film written by                                                                                        |\n",
      "|based on the musical play                                                                                           |\n",
      "|additional writing credits                                                                                          |\n",
      "|source material                                                                                                     |\n",
      "|novel Mobbing                                                                                                       |\n",
      "|dialogue supervisor                                                                                                 |\n",
      "|based on the book \"Tweak\" by                                                                                        |\n",
      "|additional scriptwork                                                                                               |\n",
      "|Quirk Books novel                                                                                                   |\n",
      "|based on: the Heartland books by                                                                                    |\n",
      "|writer: graphic novel                                                                                               |\n",
      "|book \"Then They Came for Me: A Family's Story of Love, Captivity, and Survival\"                                     |\n",
      "|inspired by the works of                                                                                            |\n",
      "|redaction                                                                                                           |\n",
      "|novel \"Kono subarashii sekai ni shukufuku o! 5: Bakuretsu kôma ni rettsu & gô!!\"                                    |\n",
      "|novel \"The Water Margin\"                                                                                            |\n",
      "|screenwriter and story by                                                                                           |\n",
      "|screenplay punch up                                                                                                 |\n",
      "|novel \"Moartea lui Ipu\"                                                                                             |\n",
      "|based on the 2001 animated film \"Shrek\" animation screenplay by                                                     |\n",
      "|story and idea                                                                                                      |\n",
      "|dialogue director                                                                                                   |\n",
      "|short story \"Slim Vang Sy Baas\"                                                                                     |\n",
      "|graphic novel                                                                                                       |\n",
      "|basado en \"Destino\", \"Pronto\" y \"Silencio\" de                                                                       |\n",
      "|based on a radio story from WBEZ's This American Life, reported by                                                  |\n",
      "|novel Mbëkë mi. A l'assaut des vagues de l'Atlantique                                                               |\n",
      "|short story: \"Dream House\"                                                                                          |\n",
      "|book \"Four Days in November\"                                                                                        |\n",
      "|novel: \"Der Verlorene\"                                                                                              |\n",
      "|theater play                                                                                                        |\n",
      "|based upon the book series by                                                                                       |\n",
      "|novella \"The Singular Life of Albert Nobbs\"                                                                         |\n",
      "|short story \"Steel\"                                                                                                 |\n",
      "|movie \"All Inclusive\"                                                                                               |\n",
      "|adaptation: Swedish                                                                                                 |\n",
      "|associate screenwriter                                                                                              |\n",
      "|series composition                                                                                                  |\n",
      "|novel \"Prince of Thieves\"                                                                                           |\n",
      "|novel Merg en Been                                                                                                  |\n",
      "|inspired by \"A Christmas Carol\"                                                                                     |\n",
      "|novel \"Almayer's Folly\"                                                                                             |\n",
      "|additional creative writing                                                                                         |\n",
      "|novel \"Leave No Trace\"                                                                                              |\n",
      "|based on the Man of Action graphic novel \"I Kill Giants\" created by                                                 |\n",
      "|concept and treatment written by                                                                                    |\n",
      "|book \"Gangster Squad\"                                                                                               |\n",
      "|based on the movie \"3 Idiots\" written by                                                                            |\n",
      "|short story: \"Sezon w Wenecji\"                                                                                      |\n",
      "|based upon the characters and format created by: \"Sherman and Peabody\"                                              |\n",
      "|inspired by the novel \"Fingersmith\" by                                                                              |\n",
      "|script & dialogue                                                                                                   |\n",
      "|from a scenario by                                                                                                  |\n",
      "|based on the graphic novel written by                                                                               |\n",
      "|play: \"L'envers du décor\"                                                                                           |\n",
      "|screenplay assistance                                                                                               |\n",
      "|by                                                                                                                  |\n",
      "|based on the play \"Hamlet\" by                                                                                       |\n",
      "|story support                                                                                                       |\n",
      "|story \"Kompromiss\" / \"The Compromise\"                                                                               |\n",
      "|based on the film \"Either Way\"                                                                                      |\n",
      "|based on the diary by                                                                                               |\n",
      "|based on the book \"The Taliban Shuffle: Strange Days in Afghanistan and Pakistan\" by                                |\n",
      "|letters                                                                                                             |\n",
      "|created by: Batman                                                                                                  |\n",
      "|play written by                                                                                                     |\n",
      "|based on the original screenplay 'Son of Bigfoot' written by                                                        |\n",
      "|co-dialogue writer                                                                                                  |\n",
      "|stage play book                                                                                                     |\n",
      "|inspired by \"The Bourne Series\" created by                                                                          |\n",
      "|autobiography A Third Face                                                                                          |\n",
      "|play 'Ruz-Bárcenas'                                                                                                 |\n",
      "|original book                                                                                                       |\n",
      "|play \"The Man I Killed\"                                                                                             |\n",
      "|suggested by the documentary                                                                                        |\n",
      "|based on the movie \"Ninja\" written by                                                                               |\n",
      "|telugu dialogue & lyrics                                                                                            |\n",
      "|novel \"Headhunters\"                                                                                                 |\n",
      "|adapted from the book \"A Long Way Home\" by                                                                          |\n",
      "|foreword                                                                                                            |\n",
      "|inspired by the life of                                                                                             |\n",
      "|adr script                                                                                                          |\n",
      "|novel \"Am Anfang war die Nacht Musik\"                                                                               |\n",
      "|script contributions                                                                                                |\n",
      "|original screenplay: La cuisine au beurre                                                                           |\n",
      "|novel \"O Meu Pé de Laranja Lima\"                                                                                    |\n",
      "|novel, Life at These Speeds                                                                                         |\n",
      "|novel: His Country Cinderella                                                                                       |\n",
      "|book Dalida - Mon frère, tu écriras mes mémoires                                                                    |\n",
      "|based on the movie \"Shrek\" written by                                                                               |\n",
      "|in association with                                                                                                 |\n",
      "|head writer: FUNimation                                                                                             |\n",
      "|original screenplay: \"Cani Arrabbiati\"                                                                              |\n",
      "|adapted screenplay                                                                                                  |\n",
      "|based on the novel \"Little Women\" by                                                                                |\n",
      "|literary collaborator                                                                                               |\n",
      "|book \"Omar, la construction d'un coupable\"                                                                          |\n",
      "|fairy tale \"Adalmiinan helmi\"                                                                                       |\n",
      "|main story                                                                                                          |\n",
      "|play \"Otherwise Engaged\"                                                                                            |\n",
      "|additional story concepts                                                                                           |\n",
      "|story \"Zvozdnyye sobaki\"                                                                                            |\n",
      "|adaptation: French version                                                                                          |\n",
      "|based on the French film \"Papillon Noir\" written by                                                                 |\n",
      "|screenplay \"La Chance de ma Vie\"                                                                                    |\n",
      "|Harlequin novel \"Naked Pursuit\"                                                                                     |\n",
      "|novel 'The Septembers of Shiraz'                                                                                    |\n",
      "|radio series \"The Green Hornet\"                                                                                     |\n",
      "|novel \"Prinsesse af blodet\"                                                                                         |\n",
      "|novel \"A Slight Trick of the Mind\"                                                                                  |\n",
      "|play \"S lyubimymi ne rasstavaytes\"                                                                                  |\n",
      "|based on the book \"One Shot\" by                                                                                     |\n",
      "|co-writers                                                                                                          |\n",
      "|additional material by                                                                                              |\n",
      "|Story & Screenplay                                                                                                  |\n",
      "|story and additional screenplay                                                                                     |\n",
      "|novel \"Hummelhonung\"                                                                                                |\n",
      "|based on the story of Snow White                                                                                    |\n",
      "|based on the novel \"Firing Point\" written by                                                                        |\n",
      "|motion picture \"Mon frère se marie\"                                                                                 |\n",
      "|book \"L'affaire des affaires\"                                                                                       |\n",
      "|based on \"A Giacometti Portrait\" by                                                                                 |\n",
      "|characters                                                                                                          |\n",
      "|screenplay & dialogue                                                                                               |\n",
      "|based on the book by                                                                                                |\n",
      "|dubbed version: english                                                                                             |\n",
      "|original play                                                                                                       |\n",
      "|based upon the book \"A Captain's Duty: Somali Pirates, Navy SEALS, and Dangerous Days at Sea\" by                    |\n",
      "|book \"The Iceman: The True Story of a Cold-Blooded Killer\"                                                          |\n",
      "|and the screenplay by                                                                                               |\n",
      "|based on the 1974 motion picture written by                                                                         |\n",
      "|memoir \"Wild: From Lost to Found on the Pacific Crest Trail\"                                                        |\n",
      "|thanks                                                                                                              |\n",
      "|series writer                                                                                                       |\n",
      "|book writer                                                                                                         |\n",
      "|based on the book \"Swim Rat Swim\" by                                                                                |\n",
      "|writing credits                                                                                                     |\n",
      "|Wrote all of his own dialogue                                                                                       |\n",
      "|scenario advice                                                                                                     |\n",
      "|based on the story written by                                                                                       |\n",
      "|executive producer                                                                                                  |\n",
      "|consulting screenwriter                                                                                             |\n",
      "|book series                                                                                                         |\n",
      "|based on \"The Revelation of the Pyramids\" by                                                                        |\n",
      "|play \"Before We Vanish\"                                                                                             |\n",
      "|novel \"Ibun rônin-ki\"                                                                                               |\n",
      "|story \"When the Women Come Out to Dance\"                                                                            |\n",
      "|book \"The Scorpion's Sweet Venon\"                                                                                   |\n",
      "|based upon \"Star Trek\" created by                                                                                   |\n",
      "|novel \"Dejarse llover\"                                                                                              |\n",
      "|based on the novel                                                                                                  |\n",
      "|research                                                                                                            |\n",
      "|freely adapted from the novel by                                                                                    |\n",
      "|inspired by the book 'Diana Her Last Love' by                                                                       |\n",
      "|screen play                                                                                                         |\n",
      "|earlier film                                                                                                        |\n",
      "|Spanish adaptation                                                                                                  |\n",
      "|book \"The Kidnapping of Alfred Heineken\"                                                                            |\n",
      "|novel: Salut mon roi mongol!                                                                                        |\n",
      "|based on the novel \"The Little Broomstick\" by                                                                       |\n",
      "|book \"Médiator 150 mg: sous-titre censuré\"                                                                          |\n",
      "|based on story \"Chorabali\" Quick Sand                                                                               |\n",
      "|book \"Seven Deadly Sins: My Pursuit of Lance Armstrong\"                                                             |\n",
      "|based on his stage play \"King Dave\"                                                                                 |\n",
      "|original film \"La Cara Oculta\"                                                                                      |\n",
      "|play \"Reigen\"                                                                                                       |\n",
      "|additional conceptual material                                                                                      |\n",
      "|story writer                                                                                                        |\n",
      "|based on his book                                                                                                   |\n",
      "|play \"The Glass Menagerie\"                                                                                          |\n",
      "|screenplay by                                                                                                       |\n",
      "|novel: Wij                                                                                                          |\n",
      "|based on The Country Waif (François le Champi) by                                                                   |\n",
      "|inspired by the book \"The Ripple Effect\" by                                                                         |\n",
      "|based on the comic strip by: \"Far til fire\"                                                                         |\n",
      "|book \"Steve Jobs\"                                                                                                   |\n",
      "|novel \"Thérèse Raquin\"                                                                                              |\n",
      "|book: The Seventh Day: Soldiers Talk about the Six Day War                                                          |\n",
      "|novel by: \"Ils sont votre épouvante et vous êtes leur crainte\"                                                      |\n",
      "|based on the book \"Jumanji\" by                                                                                      |\n",
      "|play \"El Gran Calavera\"                                                                                             |\n",
      "|based on the stageplay \"End of the Rainbow\" by                                                                      |\n",
      "|based upon a screenplay by: \"Los muchachos de antes no usaban arsénico\"                                             |\n",
      "|based upon the book \"Speed Kills\" by                                                                                |\n",
      "|\"Paddington Bear\" created by                                                                                        |\n",
      "|book \"In the Sewers of Lvov: A Heroic Story of Survival from the Holocaust\"                                         |\n",
      "|text \"I cani del Sinai\"                                                                                             |\n",
      "|script writer: FUNimation                                                                                           |\n",
      "|screenplay in collaboration with                                                                                    |\n",
      "|source Material: \"13: Game of Death\" by                                                                             |\n",
      "|euphorismes                                                                                                         |\n",
      "|based on the novel and play by                                                                                      |\n",
      "|novel Mielensäpahoittaja                                                                                            |\n",
      "|based on characters created by                                                                                      |\n",
      "|screenplay & dialogues                                                                                              |\n",
      "|novel \"On Stranger Tides\"                                                                                           |\n",
      "|play: \"La vita che ti diedi\"                                                                                        |\n",
      "|novel \"Een kleine kans\"                                                                                             |\n",
      "|based on novel by: \"Kochanowo i okolice\"                                                                            |\n",
      "|consulting writer                                                                                                   |\n",
      "|based on an original screenplay by                                                                                  |\n",
      "|novel: \"The Wettest County in the World\"                                                                            |\n",
      "|novel 'Cornelia'                                                                                                    |\n",
      "|text \"Der Tod des Empedokles\"                                                                                       |\n",
      "|based on the gameshow created by                                                                                    |\n",
      "|novel \"The Price of Salt\"                                                                                           |\n",
      "|manuscript \"The Lost Women of Rabaul\"                                                                               |\n",
      "|orginal concept                                                                                                     |\n",
      "|based on Radical Comics' \"Hercules\" by                                                                              |\n",
      "|play \"Interrail\"                                                                                                    |\n",
      "|with participation of                                                                                               |\n",
      "|book by: \"John A, The Man Who Made Us: The Life and Times of John A. Macdonald Volume 1: 1815-1867\"                 |\n",
      "|based on the book \"How The Grinch Stole Christmas\" by                                                               |\n",
      "|tale \"Das Mädchen ohne Hände\"                                                                                       |\n",
      "|based on the film \"Truman\" written by                                                                               |\n",
      "|\\N                                                                                                                  |\n",
      "|story by                                                                                                            |\n",
      "|based on the novel \"Angel Angel\" by                                                                                 |\n",
      "|final script                                                                                                        |\n",
      "|original characters                                                                                                 |\n",
      "|collaborator on screenplay                                                                                          |\n",
      "|with the collaboration of                                                                                           |\n",
      "|writer: Egypt                                                                                                       |\n",
      "|scenario & adaptation                                                                                               |\n",
      "|based on the novel \"Boys Are Dogs\" by                                                                               |\n",
      "|story editing                                                                                                       |\n",
      "|novel \"Grievances\"                                                                                                  |\n",
      "|based on the GQ article \"Game Brain\" by                                                                             |\n",
      "|story editer                                                                                                        |\n",
      "|originally written for the stage by                                                                                 |\n",
      "|based on the comic book trilogy \"Paradox\" created by                                                                |\n",
      "|story and screenplay collaboration                                                                                  |\n",
      "|based on a character by                                                                                             |\n",
      "|original screenplay: \"How to Be a Latin Lover\"                                                                      |\n",
      "|adapted from the play \"Romeo and Juliet\"                                                                            |\n",
      "|The State versus Nelson Mandela                                                                                     |\n",
      "|Writer The Language of Birds                                                                                        |\n",
      "|lecture                                                                                                             |\n",
      "|short story                                                                                                         |\n",
      "|based on book by                                                                                                    |\n",
      "|English dialogue                                                                                                    |\n",
      "|additional writer: Sweden                                                                                           |\n",
      "|novel \"The Spook's Apprentice\"                                                                                      |\n",
      "|novel \"Schilf\"                                                                                                      |\n",
      "|based on the video game series created by                                                                           |\n",
      "|character creator                                                                                                   |\n",
      "|literary advisor                                                                                                    |\n",
      "|special guest writer                                                                                                |\n",
      "|inspired by the article \"True Crime: A Postmodern Murder Mystery\" by                                                |\n",
      "|based on his radio serial                                                                                           |\n",
      "|screenplay consultant                                                                                               |\n",
      "|novel \"Orange Mint and Honey\"                                                                                       |\n",
      "|additional Screenplay                                                                                               |\n",
      "|based upon the 1973 screenplay \"Papillon\" by                                                                        |\n",
      "|original author                                                                                                     |\n",
      "|inspired by a story on WBEZ Chicago's \"This American Life\" by                                                       |\n",
      "|based in part on the book \"Team of Rivals: The Political Genius of Abraham Lincoln\" by                              |\n",
      "|based on the story \"A Princess of Mars\" by                                                                          |\n",
      "|short story \"In Another Country\"                                                                                    |\n",
      "|based on the play written by                                                                                        |\n",
      "|Story & screenplay                                                                                                  |\n",
      "|comic \"Tôkyô Gûru\"                                                                                                  |\n",
      "|comic strip \"Little Orphan Annie\"                                                                                   |\n",
      "|based on the characters and works of                                                                                |\n",
      "|\"Oz\" works                                                                                                          |\n",
      "|play 'Bodas de sangre'                                                                                              |\n",
      "|monologues written by                                                                                               |\n",
      "|based on \"La Belle au bois dormant\" written by                                                                      |\n",
      "|book \"The Lost Child of Philomena Lee\"                                                                              |\n",
      "|book \"Secrecy World\"                                                                                                |\n",
      "|novel Of a Boy                                                                                                      |\n",
      "|Additional Screenwriter                                                                                             |\n",
      "|novel \"Nim at Sea\"                                                                                                  |\n",
      "|novel \"Nobody\"                                                                                                      |\n",
      "|novel \"Pour une vie plus douce\"                                                                                     |\n",
      "|book \"Ehrenmord: Ein deutsches Schicksal\"                                                                           |\n",
      "|based on characters from the novel \"Do Androids Dream of Electric Sheep?\" by                                        |\n",
      "|writer novel                                                                                                        |\n",
      "|character: Gingerdead Man                                                                                           |\n",
      "|dialogue adaptation                                                                                                 |\n",
      "|additional dialogue writer                                                                                          |\n",
      "|inspired by the series of books by                                                                                  |\n",
      "|presented by                                                                                                        |\n",
      "|original screenplay: Corazón de león                                                                                |\n",
      "|serial story \"Yôkame no semi\"                                                                                       |\n",
      "|translation: german                                                                                                 |\n",
      "|screenplay & dramaturgy                                                                                             |\n",
      "|novel \"Huhtikuun tytöt\"                                                                                             |\n",
      "|serial story                                                                                                        |\n",
      "|based on Le Transperceneige by                                                                                      |\n",
      "+--------------------------------------------------------------------------------------------------------------------+\n",
      "only showing top 500 rows\n",
      "\n"
     ]
    }
   ],
   "source": [
    "spark.sql(\"select distinct(job_desc) from movies_and_writers\").show(500, False)"
   ]
  },
  {
   "cell_type": "code",
   "execution_count": 159,
   "metadata": {},
   "outputs": [
    {
     "name": "stdout",
     "output_type": "stream",
     "text": [
      "+------------------------+\n",
      "|count(DISTINCT job_desc)|\n",
      "+------------------------+\n",
      "|2085                    |\n",
      "+------------------------+\n",
      "\n"
     ]
    }
   ],
   "source": [
    "spark.sql(\"select count(distinct(job_desc)) from movies_and_writers\").show(500, False)"
   ]
  },
  {
   "cell_type": "code",
   "execution_count": 161,
   "metadata": {},
   "outputs": [
    {
     "name": "stdout",
     "output_type": "stream",
     "text": [
      "+------------------------+\n",
      "|count(DISTINCT job_desc)|\n",
      "+------------------------+\n",
      "|805                     |\n",
      "+------------------------+\n",
      "\n"
     ]
    }
   ],
   "source": [
    "spark.sql(\"select count(distinct(job_desc)) from movies_and_writers where job_desc like 'novel %' OR job_desc like 'book %' or job_desc like 'based on %'\").show(500, False)"
   ]
  },
  {
   "cell_type": "code",
   "execution_count": 162,
   "metadata": {},
   "outputs": [
    {
     "name": "stdout",
     "output_type": "stream",
     "text": [
      "+----------+----------------------------------------------------------------------+----------+-----------------------------+------------------------------------------------+-----------+------+\n",
      "|movie_id  |primary_title                                                         |crew_id   |name                         |profession                                      |avg_ratings|votes |\n",
      "+----------+----------------------------------------------------------------------+----------+-----------------------------+------------------------------------------------+-----------+------+\n",
      "|tt2802144 |Kingsman: The Secret Service                                          |nm2092839 |Mark Millar                  |writer,producer,actor                           |7.7        |567762|\n",
      "|tt2802144 |Kingsman: The Secret Service                                          |nm1733301 |Dave Gibbons                 |writer,producer,art_department                  |7.7        |567762|\n",
      "|tt3446852 |Bodybuilder                                                           |nm2704850 |Bryan Friedman               |writer,director                                 |6.1        |568   |\n",
      "|tt3531824 |Nerve                                                                 |nm6290393 |Jeanne Ryan                  |writer,producer                                 |6.5        |109194|\n",
      "|tt4882548 |Burn Your Maps                                                        |nm7952088 |Robyn Joy Leff               |writer                                          |6.6        |1008  |\n",
      "|tt5657846 |Daddy's Home 2                                                        |nm0122602 |Brian Burns                  |producer,writer,director                        |6.0        |56654 |\n",
      "|tt7026672 |Every Day                                                             |nm2832819 |David Levithan               |writer,actor                                    |6.4        |16275 |\n",
      "|tt8365426 |Kill Mode                                                             |nm5048164 |Kris Patmo                   |director,writer,cinematographer                 |2.8        |136   |\n",
      "|tt8529186 |Hello Mr. Billionaire                                                 |nm0567346 |George Barr McCutcheon       |writer                                          |6.1        |1288  |\n",
      "|tt0385887 |Motherless Brooklyn                                                   |nm0504672 |Jonathan Lethem              |writer,actor,miscellaneous                      |6.8        |25743 |\n",
      "|tt0478970 |Ant-Man                                                               |nm1293367 |Larry Lieber                 |writer,miscellaneous                            |7.3        |537870|\n",
      "|tt0478970 |Ant-Man                                                               |nm0498278 |Stan Lee                     |producer,writer,actor                           |7.3        |537870|\n",
      "|tt0999913 |Straw Dogs                                                            |nm0930684 |Gordon Williams              |writer                                          |5.8        |31936 |\n",
      "|tt1731970 |Excuse Me                                                             |nm0421845 |Erling Jepsen                |writer                                          |5.8        |298   |\n",
      "|tt2347144 |Shield of Straw                                                       |nm0457842 |Kazuhiro Kiuchi              |writer,director,producer                        |6.2        |2258  |\n",
      "|tt5664636 |Goosebumps 2: Haunted Halloween                                       |nm0830419 |R.L. Stine                   |writer,producer,actor                           |5.6        |15390 |\n",
      "|tt7643644 |Rocky Mountain Christmas                                              |nm10885579|Jennifer Shirley             |null                                            |6.5        |1001  |\n",
      "|tt1361324 |The Fallen Angel                                                      |nm0206796 |Osamu Dazai                  |writer                                          |6.0        |192   |\n",
      "|tt3281548 |Little Women                                                          |nm0017301 |Louisa May Alcott            |writer                                          |7.9        |84894 |\n",
      "|tt3401392 |The Devotion of Suspect X                                             |nm0383258 |Keigo Higashino              |writer                                          |6.2        |669   |\n",
      "|tt4110388 |Superlopez                                                            |nm6835057 |Jan                          |writer                                          |5.3        |2466  |\n",
      "|tt4271918 |An Inspector Calls                                                    |nm0697362 |J.B. Priestley               |writer,producer                                 |7.7        |8081  |\n",
      "|tt4729560 |The Little Vampire                                                    |nm0814008 |Angela Sommer-Bodenburg      |writer                                          |5.4        |1097  |\n",
      "|tt0775440 |Cell                                                                  |nm0000175 |Stephen King                 |writer,producer,actor                           |4.3        |23626 |\n",
      "|tt1308729 |Bullet to the Head                                                    |nm1989798 |Alexis Nolent                |writer,miscellaneous,director                   |5.7        |46048 |\n",
      "|tt1308729 |Bullet to the Head                                                    |nm5631325 |Colin Wilson                 |writer                                          |5.7        |46048 |\n",
      "|tt1438216 |Oranges and Sunshine                                                  |nm4696100 |Margaret Humphreys           |writer                                          |7.1        |4907  |\n",
      "|tt1726637 |Fracture                                                              |nm0429617 |Thierry Jonquet              |writer                                          |7.1        |113   |\n",
      "|tt2023528 |The Idiot                                                             |nm0234502 |Fyodor Dostoevsky            |writer,soundtrack                               |6.5        |220   |\n",
      "|tt2283362 |Jumanji: Welcome to the Jungle                                        |nm0885575 |Chris Van Allsburg           |writer,producer,art_department                  |6.9        |293566|\n",
      "|tt2488496 |Star Wars: Episode VII - The Force Awakens                            |nm0000184 |George Lucas                 |writer,producer,director                        |7.9        |830712|\n",
      "|tt6660238 |Crazy Alien                                                           |nm7286732 |Cixin Liu                    |writer,producer                                 |5.7        |947   |\n",
      "|tt9556850 |Valentine in the Vineyard                                             |nm8435583 |Marina Adair                 |writer,producer                                 |6.3        |528   |\n",
      "|tt11617476|Riddled with Deceit: A Martha's Vineyard Mystery                      |nm11268770|Philip R. Craig              |writer                                          |6.9        |255   |\n",
      "|tt1213012 |Alpha and Omega                                                       |nm1558946 |Steve Moore                  |writer,producer,actor                           |5.2        |12890 |\n",
      "|tt1950235 |Let It Snow                                                           |nm4490217 |Lauren Myracle               |writer                                          |5.8        |14372 |\n",
      "|tt1950235 |Let It Snow                                                           |nm1981261 |John Green                   |producer,writer,director                        |5.8        |14372 |\n",
      "|tt1986089 |King's Game                                                           |nm4544545 |Nobuaki Kanazawa             |writer                                          |5.6        |177   |\n",
      "|tt2474958 |Kill Your Friends                                                     |nm3480267 |John Niven                   |writer,actor                                    |6.0        |8548  |\n",
      "|tt2763746 |My Man                                                                |nm5063134 |Kazuki Sakuraba              |writer,soundtrack                               |6.3        |526   |\n",
      "|tt3084294 |The Lion Standing in the Wind                                         |nm0755402 |Masashi Sada                 |writer,composer,actor                           |6.4        |187   |\n",
      "|tt4296254 |The Wrong Boyfriend                                                   |nm0111577 |Emily Brontë                 |writer                                          |3.9        |477   |\n",
      "|tt7080138 |The Crimes That Bind                                                  |nm0383258 |Keigo Higashino              |writer                                          |7.1        |702   |\n",
      "|tt8325442 |438 Days                                                              |nm6187101 |Johan Persson                |writer                                          |7.2        |1029  |\n",
      "|tt8325442 |438 Days                                                              |nm6187100 |Martin Schibbye              |writer                                          |7.2        |1029  |\n",
      "|tt1723012 |Qui a envie d'être aimé?                                              |nm1028181 |Thierry Bizot                |producer,writer,miscellaneous                   |6.2        |154   |\n",
      "|tt1946310 |Crazy Kind of Love                                                    |nm4487234 |April Stevens                |writer                                          |5.9        |1769  |\n",
      "|tt2251828 |Territory                                                             |nm0476654 |Oleg Kuvayev                 |writer                                          |6.5        |868   |\n",
      "|tt2590214 |Sisterakas                                                            |nm2109307 |Joel Mercado                 |writer,miscellaneous                            |5.4        |239   |\n",
      "|tt2837574 |The Old Man & the Gun                                                 |nm2970418 |David Grann                  |writer                                          |6.7        |36078 |\n",
      "|tt5361326 |The Ninth Passenger                                                   |nm0183307 |Jack Couffer                 |cinematographer,director,assistant_director     |3.0        |582   |\n",
      "|tt6835806 |Wilderness: Part Two                                                  |nm0855446 |Shûji Terayama               |writer,director,producer                        |7.1        |130   |\n",
      "|tt7138190 |Filosofi Kopi 2: Ben & Jody                                           |nm5225445 |Dewi Lestari                 |writer,actress                                  |7.4        |288   |\n",
      "|tt1278469 |Temple Grandin                                                        |nm0334880 |Temple Grandin               |writer                                          |8.3        |26087 |\n",
      "|tt1278469 |Temple Grandin                                                        |nm3439444 |Margaret Scariano            |writer                                          |8.3        |26087 |\n",
      "|tt1946285 |The Wings of the Kirin                                                |nm0383258 |Keigo Higashino              |writer                                          |6.7        |548   |\n",
      "|tt4090552 |The Incredible Adventures of Professor Branestawm                     |nm6820539 |Norman Hunter                |writer                                          |6.0        |196   |\n",
      "|tt4966532 |I Remember You                                                        |nm2969464 |Yrsa Sigurðardóttir          |writer                                          |6.1        |4024  |\n",
      "|tt1389098 |Mapplethorpe                                                          |nm4634676 |Bruce Goodrich               |writer                                          |6.1        |867   |\n",
      "|tt1413492 |12 Strong                                                             |nm3066678 |Doug Stanton                 |writer,producer                                 |6.5        |59179 |\n",
      "|tt1754277 |Kawa                                                                  |nm1065547 |Witi Ihimaera                |writer,producer                                 |6.1        |317   |\n",
      "|tt2527336 |Star Wars: Episode VIII - The Last Jedi                               |nm0000184 |George Lucas                 |writer,producer,director                        |7.0        |530015|\n",
      "|tt2674426 |Me Before You                                                         |nm4424713 |Jojo Moyes                   |writer                                          |7.4        |191086|\n",
      "|tt3202392 |La liste de mes envies                                                |nm0216081 |Grégoire Delacourt           |writer,director                                 |5.4        |366   |\n",
      "|tt9680630 |Jade Dynasty                                                          |nm11052940|Jian Yang                    |null                                            |5.9        |503   |\n",
      "|tt0803061 |Red Dog                                                               |nm0207408 |Louis de Bernières           |writer                                          |7.4        |16005 |\n",
      "|tt1298650 |Pirates of the Caribbean: On Stranger Tides                           |nm0694627 |Tim Powers                   |writer,actor                                    |6.6        |463551|\n",
      "|tt1353097 |Kennedy's Brain                                                       |nm0542520 |Henning Mankell              |writer,actor,director                           |5.8        |122   |\n",
      "|tt2006894 |All Is Silence                                                        |nm0729085 |Manuel Rivas                 |writer,director,actor                           |4.6        |214   |\n",
      "|tt2321517 |The Spy                                                               |nm1147589 |Boris Akunin                 |writer                                          |5.4        |1137  |\n",
      "|tt9028802 |Christmas Everlasting                                                 |nm11467363|Marie Bostwick               |writer                                          |6.4        |623   |\n",
      "|tt1138481 |Sonny Boy                                                             |nm3836274 |Annejet van der Zijl         |writer,actress                                  |6.4        |2847  |\n",
      "|tt1571234 |Mortal Engines                                                        |nm2245380 |Philip Reeve                 |writer                                          |6.1        |92303 |\n",
      "|tt1951264 |The Hunger Games: Catching Fire                                       |nm1056741 |Suzanne Collins              |writer,miscellaneous,producer                   |7.5        |592549|\n",
      "|tt2857458 |Mortadelo and Filemon: Mission Implausible                            |nm0406619 |Francisco Ibáñez             |writer,actor                                    |6.4        |1620  |\n",
      "|tt5929754 |Wildlife                                                              |nm0285840 |Richard Ford                 |writer                                          |6.8        |19476 |\n",
      "|tt6412452 |The Ballad of Buster Scruggs                                          |nm0518711 |Jack London                  |writer,actor                                    |7.3        |106090|\n",
      "|tt1302011 |Kung Fu Panda 2                                                       |nm0717550 |Ethan Reiff                  |writer,producer,cinematographer                 |7.2        |240894|\n",
      "|tt1302011 |Kung Fu Panda 2                                                       |nm0903456 |Cyrus Voris                  |writer,producer,art_department                  |7.2        |240894|\n",
      "|tt1559547 |Beautiful Creatures                                                   |nm3721581 |Kami Garcia                  |producer,writer                                 |6.1        |81876 |\n",
      "|tt1559547 |Beautiful Creatures                                                   |nm0831130 |Margaret Stohl               |writer                                          |6.1        |81876 |\n",
      "|tt2210834 |Jimmy P.                                                              |nm6629728 |Georges Devereux             |writer                                          |6.1        |2631  |\n",
      "|tt2338355 |Until the Break of Dawn                                               |nm4715159 |Mizuki Tsujimura             |writer,actress,producer                         |6.5        |127   |\n",
      "|tt3657684 |Vares: The Sheriff                                                    |nm1403017 |Reijo Mäki                   |writer,actor                                    |5.4        |490   |\n",
      "|tt4657460 |Double Life                                                           |nm1883976 |Mariko Koike                 |writer                                          |5.8        |112   |\n",
      "|tt0970179 |Hugo                                                                  |nm2561765 |Brian Selznick               |writer,actor                                    |7.5        |294036|\n",
      "|tt1483756 |The Trouble with Bliss                                                |nm2706184 |Douglas Light                |writer                                          |5.3        |2432  |\n",
      "|tt1835977 |Geek Charming                                                         |nm3596856 |Robin Palmer                 |writer,producer,miscellaneous                   |6.4        |10638 |\n",
      "|tt2557478 |Pacific Rim: Uprising                                                 |nm2012438 |Travis Beacham               |writer,producer,director                        |5.6        |98930 |\n",
      "|tt4247618 |The Dresser                                                           |nm0367838 |Ronald Harwood               |writer,actor,producer                           |6.8        |2598  |\n",
      "|tt4460190 |Garage Sale Mystery: The Deadly Room                                  |nm5860687 |Suzi Weinert                 |writer                                          |6.9        |884   |\n",
      "|tt5213744 |Jessica Darling's It List                                             |nm7740179 |Megan McCafferty             |writer                                          |5.4        |730   |\n",
      "|tt5346228 |What's for Dinner, Mom?                                               |nm4004165 |Tae Hitoto                   |actress,writer                                  |6.5        |138   |\n",
      "|tt1588173 |Warm Bodies                                                           |nm3772853 |Isaac Marion                 |writer,director,music_department                |6.9        |213495|\n",
      "|tt1594917 |Age of the Dragons                                                    |nm0578479 |Herman Melville              |writer,soundtrack                               |3.4        |4225  |\n",
      "|tt1703148 |The Hunter                                                            |nm3772967 |Julia Leigh                  |writer,director                                 |6.7        |35558 |\n",
      "|tt1818443 |Chronicle of My Mother                                                |nm0409327 |Yasushi Inoue                |writer                                          |7.2        |319   |\n",
      "|tt3986978 |Along for the Ride                                                    |nm0209305 |Satya De La Manitou          |miscellaneous,producer,transportation_department|6.6        |185   |\n",
      "|tt5326364 |Nelly                                                                 |nm2919653 |Nelly Arcan                  |writer                                          |5.7        |418   |\n",
      "|tt7042586 |Summer in the Vineyard                                                |nm8435583 |Marina Adair                 |writer,producer                                 |6.4        |814   |\n",
      "|tt1210166 |Moneyball                                                             |nm1034122 |Michael Lewis                |writer                                          |7.6        |343269|\n",
      "|tt1390398 |Bless Me, Ultima                                                      |nm3356282 |Rudolfo Anaya                |writer                                          |6.3        |1280  |\n",
      "|tt1716747 |Hellraiser: Revelations                                               |nm0000850 |Clive Barker                 |writer,producer,actor                           |2.7        |6616  |\n",
      "|tt2027265 |A Better Life                                                         |nm10906721|Philippe Routier             |null                                            |6.6        |1602  |\n",
      "|tt3356682 |The Dream Children                                                    |nm6110614 |Julia Britton                |writer,producer                                 |5.3        |310   |\n",
      "|tt3640682 |I Smile Back                                                          |nm6508110 |Amy Koppelman                |writer,director,producer                        |6.1        |4779  |\n",
      "|tt3786530 |The Big Bee                                                           |nm0383258 |Keigo Higashino              |writer                                          |5.8        |108   |\n",
      "|tt3874544 |The Boss Baby                                                         |nm2807682 |Marla Frazee                 |writer,producer                                 |6.3        |101388|\n",
      "|tt10886166|365 Days                                                              |nm10947022|Blanka Lipinska              |actress,writer                                  |3.0        |790   |\n",
      "|tt11068326|Time for You to Come Home for Christmas                               |nm5363410 |Dorothy Shackleford          |writer,producer,soundtrack                      |7.0        |406   |\n",
      "|tt1361835 |Das letzte Schweigen                                                  |nm3469217 |Jan Costin Wagner            |writer                                          |7.0        |6146  |\n",
      "|tt2077886 |The Phantom of the Opera at the Royal Albert Hall                     |nm0503693 |Gaston Leroux                |writer                                          |8.8        |6395  |\n",
      "|tt2436344 |A Very Unsettled Summer                                               |nm5311637 |Philip O'Ceallaigh           |writer                                          |5.5        |142   |\n",
      "|tt2989524 |Carrie Pilby                                                          |nm5737366 |Caren Lissner                |writer                                          |6.6        |5948  |\n",
      "|tt3038708 |Iron Sky: The Coming Race                                             |nm1990490 |Jarmo Puskala                |miscellaneous,writer,actor                      |5.0        |7033  |\n",
      "|tt3038708 |Iron Sky: The Coming Race                                             |nm1242274 |Johanna Sinisalo             |writer,script_department                        |5.0        |7033  |\n",
      "|tt3038708 |Iron Sky: The Coming Race                                             |nm1994659 |Samuli Torssonen             |visual_effects,writer,actor                     |5.0        |7033  |\n",
      "|tt7997042 |It Comes                                                              |nm9624378 |Ichi Sawamura                |writer                                          |6.4        |531   |\n",
      "|tt8413714 |L'école est finie                                                     |nm9961137 |Princesse Soso               |writer                                          |5.2        |322   |\n",
      "|tt0758752 |Love & Other Drugs                                                    |nm2168221 |Jamie Reidy                  |writer,miscellaneous                            |6.7        |173458|\n",
      "|tt2933544 |5 Flights Up                                                          |nm3263342 |Jill Ciment                  |writer                                          |6.2        |8668  |\n",
      "|tt4682788 |Loving Pablo                                                          |nm0885005 |Virginia Vallejo             |actress,writer                                  |6.3        |16358 |\n",
      "|tt5323642 |Night's Tightrope                                                     |nm3782063 |Kanae Minato                 |writer                                          |6.2        |194   |\n",
      "|tt7634968 |What Men Want                                                         |nm0326092 |Josh Goldsmith               |producer,writer,music_department                |5.2        |17406 |\n",
      "|tt9248340 |A Regular Woman                                                       |nm3957928 |Jo Goll                      |director,writer                                 |7.7        |615   |\n",
      "|tt9248340 |A Regular Woman                                                       |nm10597018|Matthias Deiß                |writer                                          |7.7        |615   |\n",
      "|tt0359950 |The Secret Life of Walter Mitty                                       |nm0862122 |James Thurber                |writer                                          |7.3        |283737|\n",
      "|tt1856101 |Blade Runner 2049                                                     |nm0001140 |Philip K. Dick               |writer                                          |8.0        |420809|\n",
      "|tt2183152 |The Lady Vanishes                                                     |nm0924781 |Ethel Lina White             |writer                                          |6.1        |1458  |\n",
      "|tt2234457 |Templar Nation                                                        |nm3234676 |Jacob Thorup                 |cinematographer,camera_department,editor        |3.3        |121   |\n",
      "|tt3126460 |The Boy with the Golden Pants                                         |nm0526453 |Max Lundgren                 |writer,miscellaneous                            |5.3        |656   |\n",
      "|tt3991412 |The 9th Life of Louis Drax                                            |nm2542577 |Liz Jensen                   |writer,actress                                  |6.3        |12898 |\n",
      "|tt6012792 |Golden Years                                                          |nm9284545 |Danièle Voldman              |writer                                          |5.6        |296   |\n",
      "|tt6012792 |Golden Years                                                          |nm7007096 |Fabrice Virgili              |writer                                          |5.6        |296   |\n",
      "|tt6346162 |Disney's Newsies: The Broadway Musical!                               |nm0879318 |Bob Tzudiker                 |actor,writer,miscellaneous                      |8.5        |1654  |\n",
      "|tt6346162 |Disney's Newsies: The Broadway Musical!                               |nm0925276 |Noni White                   |actress,writer,miscellaneous                    |8.5        |1654  |\n",
      "|tt0977855 |Fair Game                                                             |nm1976209 |Valerie Plame Wilson         |miscellaneous,writer                            |6.8        |44984 |\n",
      "|tt0977855 |Fair Game                                                             |nm1468642 |Joseph Wilson                |writer                                          |6.8        |44984 |\n",
      "|tt1441951 |Quartet                                                               |nm0367838 |Ronald Harwood               |writer,actor,producer                           |6.8        |18459 |\n",
      "|tt1942951 |Ricochet                                                              |nm0114635 |Sandra Brown                 |writer,producer,miscellaneous                   |4.5        |333   |\n",
      "|tt1954407 |Patatje Oorlog                                                        |nm4862940 |Marjolijn Hof                |writer                                          |6.2        |194   |\n",
      "|tt4384088 |Rage                                                                  |nm2398252 |Shûichi Yoshida              |writer,director                                 |7.1        |1998  |\n",
      "|tt4471634 |64: Part 2                                                            |nm1887887 |Hideo Yokoyama               |writer                                          |6.4        |226   |\n",
      "|tt4629032 |The Dawns Here Are Quiet...                                           |nm0890564 |Boris Vasilev                |writer                                          |6.7        |1164  |\n",
      "|tt4834622 |The Magnificent Nine                                                  |nm3707366 |Michifumi Isoda              |writer                                          |6.5        |249   |\n",
      "|tt5039860 |Dalida                                                                |nm1491637 |Orlando                      |writer,producer,actor                           |7.0        |2405  |\n",
      "|tt5039860 |Dalida                                                                |nm0726848 |Catherine Rihoit             |writer                                          |7.0        |2405  |\n",
      "|tt5091014 |Jasper Jones                                                          |nm7634609 |Craig Silvey                 |writer                                          |6.5        |2756  |\n",
      "|tt6806448 |Fast & Furious Presents: Hobbs & Shaw                                 |nm0860155 |Gary Scott Thompson          |writer,producer,director                        |6.5        |141470|\n",
      "|tt0765446 |Escape from Planet Earth                                              |nm0498555 |Tony Leech                   |writer,editor,director                          |5.9        |23904 |\n",
      "|tt0893412 |From Prada to Nada                                                    |nm0000807 |Jane Austen                  |writer                                          |5.5        |13929 |\n",
      "|tt1663708 |Absolute Killers                                                      |nm0873940 |Eric Troyer                  |soundtrack,producer,writer                      |4.8        |115   |\n",
      "|tt1674778 |The Floating Castle                                                   |nm3954159 |Ryô Wada                     |writer                                          |6.4        |401   |\n",
      "|tt1703125 |Someday This Pain Will Be Useful to You                               |nm0131702 |Peter Cameron                |writer                                          |5.8        |2469  |\n",
      "|tt1807944 |As I Lay Dying                                                        |nm0001203 |William Faulkner             |writer                                          |5.4        |3677  |\n",
      "|tt1821657 |The Night Stalker                                                     |nm2615181 |Philip Carlo                 |writer,miscellaneous                            |5.9        |573   |\n",
      "|tt2108538 |Isn't Anyone Alive?                                                   |nm3398768 |Shirô Maeda                  |writer,director,producer                        |5.3        |154   |\n",
      "|tt2510894 |Hotel Transylvania 2                                                  |nm0244110 |Todd Durham                  |writer,director,producer                        |6.7        |99803 |\n",
      "|tt2882850 |Passione sinistra                                                     |nm1359578 |Chiara Gamberale             |writer                                          |5.2        |397   |\n",
      "|tt6450186 |I Can Only Imagine                                                    |nm7237147 |Bart Millard                 |soundtrack,composer,writer                      |7.3        |12894 |\n",
      "|tt1365050 |Beasts of No Nation                                                   |nm3303697 |Uzodinma Iweala              |writer,producer,executive                       |7.7        |68396 |\n",
      "|tt1684555 |Horrid Henry: The Movie                                               |nm2586970 |Francesca Simon              |writer,miscellaneous                            |3.5        |2186  |\n",
      "|tt1685531 |Hattie                                                                |nm1098661 |Andy Merriman                |writer                                          |6.9        |348   |\n",
      "|tt1976009 |Victor Frankenstein                                                   |nm0791217 |Mary Shelley                 |writer                                          |6.0        |49937 |\n",
      "|tt2127305 |The Drudgery Train                                                    |nm4799531 |Kenta Nishimura              |writer                                          |6.9        |316   |\n",
      "|tt2382396 |Joe                                                                   |nm0114051 |Larry Brown                  |writer,actor                                    |6.9        |44148 |\n",
      "|tt3889642 |The Nine Lives of Christmas                                           |nm4225508 |Sheila Roberts               |writer                                          |7.1        |2814  |\n",
      "|tt5501104 |Border                                                                |nm0512137 |John Ajvide Lindqvist        |writer                                          |7.0        |19712 |\n",
      "|tt9239552 |Konosuba!: God's Blessing on This Wonderful World! - Legend of Crimson|nm9198462 |Natsume Akatsuki             |writer                                          |8.0        |515   |\n",
      "|tt9239552 |Konosuba!: God's Blessing on This Wonderful World! - Legend of Crimson|nm8963657 |Kurone Mishima               |animation_department,writer                     |8.0        |515   |\n",
      "|tt1219289 |Limitless                                                             |nm2982186 |Alan Glynn                   |writer                                          |7.4        |509780|\n",
      "|tt1658851 |Toast                                                                 |nm2305970 |Nigel Slater                 |writer,actor                                    |6.6        |8859  |\n",
      "|tt1685576 |Tada's Do-It-All House                                                |nm3627980 |Shiwon Miura                 |writer                                          |6.8        |284   |\n",
      "|tt1730768 |The Zookeeper's Wife                                                  |nm2430979 |Diane Ackerman               |writer                                          |7.0        |35241 |\n",
      "|tt2061756 |Muhammad Ali's Greatest Fight                                         |nm0082935 |Howard L. Bingham            |camera_department,producer,actor                |6.7        |2240  |\n",
      "|tt2061756 |Muhammad Ali's Greatest Fight                                         |nm6722310 |Mark Wallace                 |writer                                          |6.7        |2240  |\n",
      "|tt2678356 |Schneewittchen muss sterben                                           |nm5506218 |Nele Neuhaus                 |writer                                          |5.5        |135   |\n",
      "|tt3486626 |The Nut Job 2: Nutty by Nature                                        |nm0503259 |Peter Lepeniotis             |director,writer,animation_department            |5.4        |5372  |\n",
      "|tt3498820 |Captain America: Civil War                                            |nm0456158 |Jack Kirby                   |writer,animation_department,miscellaneous       |7.8        |625862|\n",
      "|tt3498820 |Captain America: Civil War                                            |nm0800209 |Joe Simon                    |writer,miscellaneous                            |7.8        |625862|\n",
      "|tt3696610 |Stuck                                                                 |nm2358507 |Riley Thomas                 |writer,producer,actor                           |5.6        |284   |\n",
      "|tt4298958 |Sweet Bean                                                            |nm5734659 |Durian Sukegawa              |writer                                          |7.4        |7848  |\n",
      "|tt5177088 |The Girl in the Spider's Web                                          |nm5409198 |David Lagercrantz            |writer,director,producer                        |6.1        |36463 |\n",
      "|tt5259966 |No manches Frida                                                      |nm1480916 |Bora Dagtekin                |writer,producer,director                        |5.6        |1778  |\n",
      "|tt1067774 |Monte Carlo                                                           |nm2719767 |Jules Bass                   |writer                                          |5.8        |39797 |\n",
      "|tt2328900 |Mary Queen of Scots                                                   |nm3288103 |John Guy                     |miscellaneous,actor,writer                      |6.3        |33797 |\n",
      "|tt2568862 |Going in Style                                                        |nm0134191 |Edward Cannon                |writer                                          |6.6        |71520 |\n",
      "|tt3501590 |Ithaca                                                                |nm0765490 |William Saroyan              |writer,soundtrack,actor                         |5.5        |2293  |\n",
      "|tt3609402 |Killing Jesus                                                         |nm3257709 |Martin Dugard                |writer,producer                                 |4.6        |1835  |\n",
      "|tt3609402 |Killing Jesus                                                         |nm0971123 |Bill O'Reilly                |producer,writer,actor                           |4.6        |1835  |\n",
      "|tt3877718 |Tokyo Fiancée                                                         |nm0636569 |Amélie Nothomb               |writer                                          |6.3        |1898  |\n",
      "|tt9029324 |Northern Lights of Christmas                                          |nm7770042 |Teri Wilson                  |writer                                          |6.7        |804   |\n",
      "|tt1604231 |The Kiss of Evil                                                      |nm1403017 |Reijo Mäki                   |writer,actor                                    |6.0        |1175  |\n",
      "|tt1646926 |Open Season 3                                                         |nm1558946 |Steve Moore                  |writer,producer,actor                           |5.1        |9467  |\n",
      "|tt1646926 |Open Season 3                                                         |nm0137811 |John B. Carls                |producer,writer,miscellaneous                   |5.1        |9467  |\n",
      "|tt1705064 |Genji monogatari: Sennen no nazo                                      |nm0847448 |Yukiko Takayama              |writer,director                                 |6.2        |124   |\n",
      "|tt1735907 |The Adderall Diaries                                                  |nm4107260 |Stephen Elliott              |writer,director,producer                        |5.2        |3826  |\n",
      "|tt2369047 |Horses of God                                                         |nm5551210 |Mahi Binebine                |writer                                          |7.1        |1569  |\n",
      "|tt3684490 |Twilight: Saya in Sasara                                              |nm4973041 |Tomoko Kanô                  |writer                                          |5.9        |119   |\n",
      "|tt4209788 |Molly's Game                                                          |nm6591098 |Molly Bloom                  |writer                                          |7.4        |121090|\n",
      "|tt4531412 |Beyond the Boundary Movie: I'll Be Here - Kako-hen                    |nm7197580 |Nagomu Torii                 |writer                                          |6.8        |324   |\n",
      "|tt4551882 |King Dave                                                             |nm2531440 |Alexandre Goyette            |actor,writer                                    |7.1        |423   |\n",
      "|tt5606664 |Doctor Sleep                                                          |nm0000175 |Stephen King                 |writer,producer,actor                           |7.4        |91887 |\n",
      "|tt6415838 |Ten                                                                   |nm2217792 |Gretchen McNeil              |actress,producer,writer                         |4.6        |200   |\n",
      "|tt7112154 |Asako I & II                                                          |nm9115052 |Tomoka Shibasaki             |writer                                          |6.9        |1552  |\n",
      "|tt2764784 |Phoenix                                                               |nm0599170 |Hubert Monteilhet            |writer                                          |7.3        |15671 |\n",
      "|tt3103576 |Love Is the Perfect Crime                                             |nm0229172 |Philippe Djian               |writer                                          |5.8        |1801  |\n",
      "|tt4198186 |Violent Shit: The Movie                                               |nm0773593 |Andreas Schnaas              |actor,director,soundtrack                       |2.6        |246   |\n",
      "|tt4198186 |Violent Shit: The Movie                                               |nm0032607 |Steve Aquilina               |cinematographer,editor,producer                 |2.6        |246   |\n",
      "|tt4289340 |The Emperor in August                                                 |nm2673065 |Kazutoshi Handô              |writer,miscellaneous                            |6.6        |454   |\n",
      "|tt4878482 |Dumplin'                                                              |nm7471342 |Julie Murphy                 |actor,writer                                    |6.6        |24803 |\n",
      "|tt5616294 |Spinning Man                                                          |nm2362124 |George Harrar                |writer                                          |5.6        |8415  |\n",
      "|tt8000718 |The Operative                                                         |nm10883621|Yiftach R. Atir              |writer                                          |5.6        |2736  |\n",
      "|tt9759864 |Aurora Teagarden Mysteries: A Game of Cat and Mouse                   |nm2363895 |Charlaine Harris             |writer,producer,actress                         |7.3        |440   |\n",
      "|tt0787442 |The Attack                                                            |nm1979166 |Yasmina Khadra               |writer                                          |7.1        |3872  |\n",
      "|tt3266284 |November Criminals                                                    |nm7087679 |Sam Munson                   |writer                                          |5.3        |7433  |\n",
      "|tt4008566 |The Influence                                                         |nm0132793 |Ramsey Campbell              |writer,miscellaneous                            |4.5        |2101  |\n",
      "|tt4697586 |Problemski Hotel                                                      |nm2329684 |Dimitri Verhulst             |writer,actor                                    |6.4        |263   |\n",
      "|tt5114984 |Team Spirit                                                           |nm3911306 |Jérôme Kerviel               |writer                                          |6.7        |992   |\n",
      "|tt5294550 |All the Money in the World                                            |nm0669301 |John Pearson                 |writer,miscellaneous                            |6.8        |67808 |\n",
      "|tt7415466 |Thomas & Friends: Big World! Big Adventures! The Movie                |nm0043423 |Wilbert Awdry                |writer                                          |5.5        |168   |\n",
      "|tt7415466 |Thomas & Friends: Big World! Big Adventures! The Movie                |nm9354573 |Kate Schlomann               |writer                                          |5.5        |168   |\n",
      "|tt0997152 |The Experiment                                                        |nm0320342 |Mario Giordano               |writer,actor                                    |6.4        |49978 |\n",
      "|tt3070936 |Shrek the Musical                                                     |nm0254645 |Ted Elliott                  |writer,producer,miscellaneous                   |7.1        |2468  |\n",
      "|tt3070936 |Shrek the Musical                                                     |nm1865755 |David Lindsay-Abaire         |writer,soundtrack,music_department              |7.1        |2468  |\n",
      "|tt3070936 |Shrek the Musical                                                     |nm0744429 |Terry Rossio                 |writer,director,producer                        |7.1        |2468  |\n",
      "|tt3070936 |Shrek the Musical                                                     |nm0825308 |William Steig                |writer,art_department                           |7.1        |2468  |\n",
      "|tt3070936 |Shrek the Musical                                                     |nm0776107 |Roger S.H. Schulman          |producer,writer,miscellaneous                   |7.1        |2468  |\n",
      "|tt4981636 |Middle School: The Worst Years of My Life                             |nm8032685 |Chris Tebbetts               |writer                                          |6.1        |7086  |\n",
      "|tt4981636 |Middle School: The Worst Years of My Life                             |nm0666248 |James Patterson              |writer,producer,actor                           |6.1        |7086  |\n",
      "|tt8634192 |Pride, Prejudice and Mistletoe                                        |nm4306012 |Melissa de la Cruz           |writer,producer,actress                         |6.3        |1294  |\n",
      "|tt1520498 |The Oogieloves in the Big Balloon Adventure                           |nm2355422 |Carol Sweeney                |writer,manager                                  |2.0        |14761 |\n",
      "|tt1520498 |The Oogieloves in the Big Balloon Adventure                           |nm2349218 |Alex J Greene                |producer,writer                                 |2.0        |14761 |\n",
      "|tt1562563 |Jerusalem Countdown                                                   |nm0353318 |John Hagee                   |writer,actor,producer                           |3.9        |1201  |\n",
      "|tt1563655 |Elisa K                                                               |nm2341294 |Lolita Bosch                 |writer                                          |5.9        |197   |\n",
      "|tt2290789 |Every Blessed Day                                                     |nm5297699 |Simone Lenzi                 |writer,soundtrack                               |6.8        |1519  |\n",
      "|tt2836364 |Teen's Confessions                                                    |nm0547043 |Maria Mariana                |actress,writer                                  |6.5        |553   |\n",
      "|tt3413692 |Cape Nostalgia                                                        |nm3898757 |Akio Morisawa                |writer                                          |6.1        |149   |\n",
      "|tt3716530 |Elle                                                                  |nm0229172 |Philippe Djian               |writer                                          |7.1        |57779 |\n",
      "|tt5277952 |Das Tagebuch der Anne Frank                                           |nm0290833 |Anne Frank                   |writer                                          |6.7        |916   |\n",
      "|tt6326184 |Voyangkor Sundor                                                      |nm4446160 |Moti Nandi                   |writer                                          |3.4        |129   |\n",
      "|tt7547410 |Dora and the Lost City of Gold                                        |nm0317513 |Chris Gifford                |producer,writer,miscellaneous                   |6.0        |16796 |\n",
      "|tt7547410 |Dora and the Lost City of Gold                                        |nm0909904 |Valerie Walsh                |producer,writer,miscellaneous                   |6.0        |16796 |\n",
      "|tt8041006 |Christmas with a View                                                 |nm10266826|Teresa Southwick             |writer                                          |5.1        |2955  |\n",
      "|tt0462335 |High-Rise                                                             |nm0050618 |J.G. Ballard                 |writer,actor                                    |5.6        |35689 |\n",
      "|tt0975645 |Hitchcock                                                             |nm1067289 |Stephen Rebello              |writer,actor,miscellaneous                      |6.8        |70040 |\n",
      "|tt1017451 |The Runaways                                                          |nm0192947 |Cherie Currie                |actress,soundtrack,writer                       |6.5        |44850 |\n",
      "|tt1499220 |Dead Cert                                                             |nm2584654 |Garry Charles                |writer,producer                                 |3.6        |906   |\n",
      "|tt2322441 |Fifty Shades of Grey                                                  |nm1093317 |E.L. James                   |miscellaneous,producer,writer                   |4.1        |288095|\n",
      "|tt4065340 |Arthur & Merlin                                                       |nm6819667 |Adam T. Winters              |writer,visual_effects,producer                  |4.3        |1212  |\n",
      "|tt4065340 |Arthur & Merlin                                                       |nm10263683|Paul Osborne                 |writer                                          |4.3        |1212  |\n",
      "|tt4065340 |Arthur & Merlin                                                       |nm3957323 |Leonora Lim-Moore            |actress,writer,director                         |4.3        |1212  |\n",
      "|tt4262142 |Cleveland Abduction                                                   |nm6497689 |Michelle Knight              |writer,miscellaneous                            |6.7        |4291  |\n",
      "|tt4411596 |My Cousin Rachel                                                      |nm0238898 |Daphne Du Maurier            |writer                                          |6.0        |16614 |\n",
      "|tt7657462 |A Bramble House Christmas                                             |nm10985606|C.J. Carmichael              |null                                            |7.1        |1548  |\n",
      "|tt1600438 |Scents and Sensibility                                                |nm0000807 |Jane Austen                  |writer                                          |5.3        |1305  |\n",
      "|tt3053228 |Day of the Dead: Bloodline                                            |nm0001681 |George A. Romero             |producer,writer,director                        |3.4        |8167  |\n",
      "|tt3922798 |The Siege of Jadotville                                               |nm7702379 |Declan Power                 |writer,art_department                           |7.2        |27522 |\n",
      "|tt4214024 |Mozu the Movie                                                        |nm4406808 |Go Ohsaka                    |writer                                          |4.9        |148   |\n",
      "|tt7826276 |Profile                                                               |nm7195529 |Anna Érelle                  |writer                                          |7.4        |284   |\n",
      "|tt1053810 |The Big Year                                                          |nm2696996 |Mark Obmascik                |writer                                          |6.2        |40523 |\n",
      "|tt10836760|Mayday                                                                |nm0177774 |Ray Cooney                   |writer,actor,producer                           |5.7        |109   |\n",
      "|tt1235548 |VIPs                                                                  |nm1039584 |Mariana Caltabiano           |writer,director,producer                        |6.6        |2868  |\n",
      "|tt1421048 |Bloodworth                                                            |nm2793287 |William Gay                  |writer,soundtrack                               |6.1        |1659  |\n",
      "|tt1693830 |Silent Souls                                                          |nm9350984 |Aist Sergeyev                |writer                                          |6.6        |2082  |\n",
      "|tt1767354 |Odd Thomas                                                            |nm0465588 |Dean R. Koontz               |writer,producer                                 |6.8        |45402 |\n",
      "|tt1921149 |Trash                                                                 |nm4443217 |Andy Mulligan                |writer                                          |7.2        |19523 |\n",
      "|tt2321405 |My Life as a Zucchini                                                 |nm2951613 |Gilles Paris                 |writer                                          |7.8        |19116 |\n",
      "|tt2357453 |Underground: The Julian Assange Story                                 |nm2429114 |Suelette Dreyfus             |producer,writer                                 |6.7        |1880  |\n",
      "|tt4126434 |Before the Fall                                                       |nm0000807 |Jane Austen                  |writer                                          |6.0        |884   |\n",
      "|tt4360406 |Pink and Gray                                                         |nm2859650 |Shigeaki Katô                |actor,writer                                    |6.6        |142   |\n",
      "|tt5129682 |King Cobra                                                            |nm8634455 |Andrew E. Stoner             |writer                                          |5.6        |7561  |\n",
      "|tt5129682 |King Cobra                                                            |nm7977497 |Peter A. Conway              |writer                                          |5.6        |7561  |\n",
      "|tt6802308 |The 15:17 to Paris                                                    |nm9087870 |Jeffrey E. Stern             |writer                                          |5.2        |26051 |\n",
      "|tt6892340 |Sono tornato                                                          |nm1177494 |David Wnendt                 |director,writer,assistant_director              |6.2        |1087  |\n",
      "|tt6947528 |Gotowi na wszystko. Exterminator                                      |nm9124078 |Przemyslaw Jurek             |writer                                          |6.3        |364   |\n",
      "|tt1478839 |The Art of Racing in the Rain                                         |nm0825464 |Garth Stein                  |producer,writer                                 |7.5        |16379 |\n",
      "|tt1592525 |Lockout                                                               |nm0000118 |John Carpenter               |soundtrack,writer,music_department              |6.1        |91220 |\n",
      "|tt1592525 |Lockout                                                               |nm0145309 |Nick Castle                  |writer,director,actor                           |6.1        |91220 |\n",
      "|tt1865335 |Confession of a Child of the Century                                  |nm0210503 |Alfred de Musset             |writer,soundtrack                               |4.4        |520   |\n",
      "|tt2188965 |Wolwedans in die Skemer                                               |nm4569950 |Leon van Nierop              |actor,writer,director                           |5.5        |141   |\n",
      "|tt3045616 |Mortdecai                                                             |nm5795768 |Kyril Bonfiglioli            |writer                                          |5.5        |63950 |\n",
      "|tt3138698 |Kizumonogatari Part 1: Tekketsu                                       |nm3451227 |Nisio Isin                   |writer                                          |7.5        |1578  |\n",
      "|tt4033926 |Rats                                                                  |nm2672753 |Robert Sullivan              |writer,producer                                 |6.5        |1405  |\n",
      "|tt2368254 |A Private War                                                         |nm0107493 |Marie Brenner                |writer,miscellaneous,producer                   |6.7        |14084 |\n",
      "|tt3184934 |The New Girlfriend                                                    |nm0719334 |Ruth Rendell                 |writer                                          |6.6        |7239  |\n",
      "|tt5711148 |Film Stars Don't Die in Liverpool                                     |nm0877805 |Peter Turner                 |actor,writer,director                           |6.7        |7905  |\n",
      "|tt7122350 |National Theatre Live: Follies                                        |nm0063953 |James Goldman                |writer,soundtrack                               |8.5        |154   |\n",
      "|tt8490686 |Aurora Teagarden Mysteries: The Disappearing Game                     |nm2363895 |Charlaine Harris             |writer,producer,actress                         |6.9        |626   |\n",
      "|tt8826496 |Chacun pour tous                                                      |nm11172639|Caroline Hermand             |writer                                          |6.0        |286   |\n",
      "|tt9742588 |Helene                                                                |nm2605145 |Rakel Liehu                  |writer                                          |6.5        |123   |\n",
      "|tt1736633 |Oslo, August 31st                                                     |nm0478934 |Pierre Drieu La Rochelle     |writer                                          |7.6        |18103 |\n",
      "|tt1979269 |Magic Beyond Words: The J.K. Rowling Story                            |nm3110075 |Sean Smith                   |writer                                          |6.7        |2184  |\n",
      "|tt3205394 |Roald Dahl's Esio Trot                                                |nm0001094 |Roald Dahl                   |writer,actor,soundtrack                         |7.0        |4286  |\n",
      "|tt6967666 |Dawn Wind in My Poncho                                                |nm3396445 |Kazumasa Hayami              |writer                                          |1.9        |179   |\n",
      "|tt7631348 |Freaky Friday                                                         |nm0734742 |Mary Rodgers                 |miscellaneous,writer,soundtrack                 |3.7        |930   |\n",
      "|tt2103281 |Dawn of the Planet of the Apes                                        |nm0099541 |Pierre Boulle                |writer                                          |7.6        |400893|\n",
      "|tt2334733 |Madame Bovary                                                         |nm0281306 |Gustave Flaubert             |writer                                          |5.7        |7266  |\n",
      "|tt3295276 |The Secret Sex Life of a Single Mom                                   |nm6115635 |Delaine Moore                |writer                                          |4.6        |669   |\n",
      "|tt3322892 |XX                                                                    |nm1626482 |Jack Ketchum                 |writer,actor,producer                           |4.5        |10581 |\n",
      "|tt3748172 |Gerald's Game                                                         |nm0000175 |Stephen King                 |writer,producer,actor                           |6.6        |78017 |\n",
      "|tt4621642 |Murder, She Baked: A Chocolate Chip Cookie Mystery                    |nm7545694 |Joanne Fluke                 |writer,producer,miscellaneous                   |6.6        |1396  |\n",
      "|tt4687108 |In the Tall Grass                                                     |nm0000175 |Stephen King                 |writer,producer,actor                           |5.4        |37091 |\n",
      "|tt4687108 |In the Tall Grass                                                     |nm0454872 |Joe Hill                     |writer,producer,actor                           |5.4        |37091 |\n",
      "|tt6952960 |The Kindergarten Teacher                                              |nm2028715 |Nadav Lapid                  |director,writer,editor                          |6.7        |11430 |\n",
      "|tt8130904 |The Body                                                              |nm1079062 |Oriol Paulo                  |writer,director,editorial_department            |5.4        |1843  |\n",
      "|tt2316411 |Enemy                                                                 |nm0764832 |José Saramago                |writer,soundtrack,actor                         |6.9        |154323|\n",
      "|tt2341664 |Come Out and Play                                                     |nm0686591 |Juan José Plans              |writer,actor                                    |4.7        |3017  |\n",
      "|tt4698684 |Hunt for the Wilderpeople                                             |nm0190085 |Barry Crump                  |writer,actor,script_department                  |7.9        |97983 |\n",
      "|tt4699130 |Saturday's Warrior                                                    |nm8037426 |Doug Stewart                 |writer                                          |5.5        |231   |\n",
      "|tt5338644 |Mrs. Hyde                                                             |nm0829044 |Robert Louis Stevenson       |writer,soundtrack                               |5.2        |1064  |\n",
      "|tt5478478 |Hostiles                                                              |nm0829329 |Donald E. Stewart            |writer,producer                                 |7.2        |62629 |\n",
      "|tt7058078 |Sea Oak                                                               |nm2808422 |George Saunders              |writer,producer                                 |7.1        |533   |\n",
      "|tt11210032|Sheep Without a Shepherd                                              |nm2572228 |Jeethu Joseph                |writer,director,actor                           |6.7        |392   |\n",
      "|tt1821502 |The Reasons of the Heart                                              |nm0281306 |Gustave Flaubert             |writer                                          |6.9        |126   |\n",
      "|tt1843866 |Captain America: The Winter Soldier                                   |nm0456158 |Jack Kirby                   |writer,animation_department,miscellaneous       |7.7        |702704|\n",
      "|tt1843866 |Captain America: The Winter Soldier                                   |nm0800209 |Joe Simon                    |writer,miscellaneous                            |7.7        |702704|\n",
      "|tt2186566 |The Little Ghost                                                      |nm0696623 |Otfried Preußler             |writer                                          |5.6        |404   |\n",
      "|tt2813064 |Forever 16                                                            |nm0436571 |Stanton W. Kamens            |producer,writer,miscellaneous                   |5.6        |495   |\n",
      "|tt2813064 |Forever 16                                                            |nm0770848 |Jeffrey Schenck              |producer,writer,miscellaneous                   |5.6        |495   |\n",
      "|tt8667120 |Pretty Little Stalker                                                 |nm4199622 |Kelly Goodner                |writer,actress,director                         |3.1        |204   |\n",
      "|tt8667120 |Pretty Little Stalker                                                 |nm2592020 |Dave Hickey                  |miscellaneous,writer,producer                   |3.1        |204   |\n",
      "|tt10369966|Mystery 101: Playing Dead                                             |nm0325251 |Lee Goldberg                 |producer,writer,miscellaneous                   |7.1        |499   |\n",
      "|tt10369966|Mystery 101: Playing Dead                                             |nm0076820 |Robin Bernheim               |producer,writer,miscellaneous                   |7.1        |499   |\n",
      "|tt3711622 |Ghosthunters: On Icy Trails                                           |nm1751315 |Cornelia Funke               |writer,actress,producer                         |5.4        |777   |\n",
      "|tt4551314 |Odd Job                                                               |nm7217235 |Iain Levison                 |writer                                          |6.4        |1490  |\n",
      "|tt4690052 |Through the Shadow                                                    |nm0416556 |Henry James                  |writer                                          |5.0        |139   |\n",
      "|tt5918926 |Beaches                                                               |nm0232858 |Mary Agnes Donoghue          |writer,director,producer                        |5.4        |486   |\n",
      "|tt5931726 |The Julius House: An Aurora Teagarden Mystery                         |nm2363895 |Charlaine Harris             |writer,producer,actress                         |7.0        |1140  |\n",
      "|tt7087210 |Donnybrook                                                            |nm10391660|Frank Bill                   |writer                                          |5.3        |1323  |\n",
      "|tt2231253 |Wild Card                                                             |nm0001279 |William Goldman              |writer,miscellaneous,producer                   |5.6        |48929 |\n",
      "|tt3082898 |Kickboxer: Vengeance                                                  |nm0228262 |Mark DiSalle                 |producer,actor,writer                           |4.9        |9906  |\n",
      "|tt3465456 |The White Haired Witch of Lunar Kingdom                               |nm1295635 |Yusheng Liang                |writer                                          |5.3        |1468  |\n",
      "|tt4172430 |13 Hours                                                              |nm4021083 |Mitchell Zuckoff             |writer,producer                                 |7.3        |110732|\n",
      "|tt4176928 |The Cliff                                                             |nm0262238 |Lucía Etxebarría             |writer,actress,producer                         |5.2        |418   |\n",
      "|tt5073642 |Color Out of Space                                                    |nm0522454 |H.P. Lovecraft               |writer                                          |6.2        |14054 |\n",
      "|tt5117670 |Peter Rabbit                                                          |nm0693229 |Beatrix Potter               |writer,art_department                           |6.5        |32092 |\n",
      "|tt5560592 |Gukoroku - Traces of Sin                                              |nm5021954 |Tokurô Nukui                 |writer                                          |6.8        |768   |\n",
      "|tt5769414 |Mumon: The Land of Stealth                                            |nm3954159 |Ryô Wada                     |writer                                          |7.1        |2129  |\n",
      "|tt6289898 |Yurigokoro                                                            |nm8616760 |Mahokaru Numata              |writer                                          |6.7        |239   |\n",
      "|tt10195976|My Best Summer                                                        |nm10625483|Wanhui Liu                   |writer,director                                 |5.5        |100   |\n",
      "|tt1263750 |Room in Rome                                                          |nm1471503 |Julio Rojas                  |writer,script_department                        |6.1        |21363 |\n",
      "|tt1533089 |Tab Hunter Confidential                                               |nm0612113 |Eddie Muller                 |writer,producer,director                        |7.7        |2933  |\n",
      "|tt1690967 |Come Sunday                                                           |nm2508895 |Alex Blumberg                |producer,writer,editor                          |5.9        |1754  |\n",
      "|tt1690967 |Come Sunday                                                           |nm2474178 |Russell Cobb                 |writer,miscellaneous                            |5.9        |1754  |\n",
      "|tt2369023 |La pirogue                                                            |nm3426837 |Abasse Ndione                |writer                                          |6.7        |357   |\n",
      "|tt2381931 |Compulsion                                                            |nm0661799 |Cheol-su Park                |director,writer,producer                        |4.5        |2776  |\n",
      "|tt2569772 |The Girl in the Sun                                                   |nm5418082 |Osamu Koshigaya              |writer                                          |6.9        |708   |\n",
      "|tt2910274 |Obvious Child                                                         |nm2210641 |Anna Bean                    |writer,producer                                 |6.8        |22584 |\n",
      "|tt3794028 |From the Land of the Moon                                             |nm6558997 |Milena Agus                  |writer                                          |6.7        |4949  |\n",
      "|tt4119590 |Initiation Love                                                       |nm6843256 |Kurumi Inui                  |writer                                          |7.1        |782   |\n",
      "|tt4937812 |Thoongaavanam                                                         |nm0418621 |Frédéric Jardin              |director,writer,assistant_director              |7.1        |1723  |\n",
      "|tt5046504 |Entre Idas e Vindas                                                   |nm9012138 |João Gabriel Mancuso Belmonte|writer                                          |5.7        |429   |\n",
      "|tt6229786 |Roza of Smyrna                                                        |nm8586670 |Yannis Yannellis Theodosiadis|writer                                          |6.7        |1274  |\n",
      "|tt1430615 |Big Miracle                                                           |nm11323314|Tom Rose                     |writer                                          |6.5        |18118 |\n",
      "|tt1704573 |Bernie                                                                |nm0390912 |Skip Hollandsworth           |writer,miscellaneous                            |6.8        |55216 |\n",
      "|tt2024544 |12 Years a Slave                                                      |nm1185849 |Solomon Northup              |writer                                          |8.1        |607244|\n",
      "|tt5735410 |Death of a Vegas Showgirl                                             |nm10851747|Carolina Sarassa             |writer                                          |5.1        |237   |\n",
      "|tt5735410 |Death of a Vegas Showgirl                                             |nm10851746|Diana Montane                |writer                                          |5.1        |237   |\n",
      "|tt6212210 |Cop and a Half: New Recruit                                           |nm0647592 |Arne Olsen                   |writer,actor,director                           |5.3        |622   |\n",
      "|tt6704898 |Elisa & Marcela                                                       |nm3509241 |Narciso de Gabriel           |writer                                          |6.5        |2493  |\n",
      "|tt7232860 |Guilty of Mind                                                        |nm9188657 |Mi Lei                       |writer                                          |4.8        |115   |\n",
      "|tt7549996 |Judy                                                                  |nm1502455 |Peter Quilter                |writer,actor                                    |6.9        |27975 |\n",
      "|tt9519642 |Hasta que la boda nos separe                                          |nm3372724 |Reem Kherici                 |actress,writer,director                         |5.9        |112   |\n",
      "|tt2935476 |Far from the Madding Crowd                                            |nm0362762 |Thomas Hardy                 |writer                                          |7.1        |42887 |\n",
      "|tt3837820 |My Brilliant Life                                                     |nm6603755 |Aeran Kim                    |writer                                          |6.8        |663   |\n",
      "|tt4176826 |Look Who's Back                                                       |nm6048418 |Timur Vermes                 |writer                                          |7.1        |39099 |\n",
      "|tt4228816 |In Harmony                                                            |nm7969722 |Véronique Pellerin           |writer                                          |6.3        |620   |\n",
      "|tt4228816 |In Harmony                                                            |nm0975283 |Bernard Sachsé               |stunts,miscellaneous,actor                      |6.3        |620   |\n",
      "|tt5041296 |Muse                                                                  |nm7637686 |José Carlos Somoza           |writer                                          |5.4        |2953  |\n",
      "|tt5156532 |The Jade Pendant                                                      |nm7742842 |L.P. Leung                   |writer,producer                                 |5.5        |192   |\n",
      "|tt6622902 |The Blood of Wolves                                                   |nm6875712 |Yûko Yuzuki                  |writer                                          |7.1        |451   |\n",
      "|tt0437086 |Alita: Battle Angel                                                   |nm1738737 |Yukito Kishiro               |writer                                          |7.3        |199304|\n",
      "|tt2372251 |Down a Dark Hall                                                      |nm0242028 |Lois Duncan                  |writer                                          |5.1        |10062 |\n",
      "|tt3759298 |Ashes in the Snow                                                     |nm6525905 |Ruta Sepetys                 |writer,producer                                 |6.7        |4825  |\n",
      "|tt1626146 |Hector and the Search for Happiness                                   |nm1910008 |François Lelord              |writer,art_department                           |7.0        |43545 |\n",
      "|tt1679235 |Mean Girls 2                                                          |nm1577281 |Rosalind Wiseman             |writer,actress                                  |4.1        |19933 |\n",
      "|tt1904996 |Parker                                                                |nm0922799 |Donald E. Westlake           |writer,actor                                    |6.2        |109155|\n",
      "|tt2092011 |What Richard Did                                                      |nm5544086 |Kevin Power                  |writer                                          |6.3        |4435  |\n",
      "|tt4690878 |Over the Fence                                                        |nm4014908 |Yasushi Satô                 |writer                                          |6.7        |303   |\n",
      "|tt6288124 |Don't Worry, He Won't Get Far on Foot                                 |nm0130216 |John Callahan                |writer,producer,director                        |6.9        |18767 |\n",
      "|tt6340264 |Jeannette: The Childhood of Joan of Arc                               |nm6772473 |Charles Peguy                |writer                                          |5.7        |779   |\n",
      "|tt1343740 |Paradox                                                               |nm0300800 |Christos N. Gage             |writer,producer,miscellaneous                   |4.5        |508   |\n",
      "|tt2403867 |Fusé: Memoirs of a Huntress                                           |nm5063134 |Kazuki Sakuraba              |writer,soundtrack                               |7.0        |308   |\n",
      "|tt3793116 |Five Minutes to Tomorrow                                              |nm6526575 |Takayoshi Honda              |writer                                          |5.9        |115   |\n",
      "|tt6157626 |Legend of the Demon Cat                                               |nm1336257 |Baku Yumemakura              |writer                                          |6.2        |2043  |\n",
      "|tt6520954 |Debi                                                                  |nm0014152 |Humayun Ahmed                |writer,director,music_department                |8.0        |2657  |\n",
      "|tt7330392 |Vicious                                                               |nm10449788|Mel Wallis de Vries          |actress,writer                                  |5.0        |344   |\n",
      "|tt0455323 |Being Flynn                                                           |nm1793387 |Nick Flynn                   |actor,writer,art_department                     |6.4        |16190 |\n",
      "|tt1699509 |Story of a Girl                                                       |nm4388062 |Sara Zarr                    |writer                                          |6.2        |437   |\n",
      "|tt1740476 |Butcher Boys                                                          |nm0842605 |Jonathan Swift               |writer                                          |3.5        |1451  |\n",
      "|tt1894476 |How I Live Now                                                        |nm4424079 |Meg Rosoff                   |writer                                          |6.5        |27121 |\n",
      "|tt1981107 |The Young and Prodigious T.S. Spivet                                  |nm2916565 |Reif Larsen                  |actor,writer,cinematographer                    |7.1        |16131 |\n",
      "|tt2063015 |We Have Your Husband                                                  |nm1607606 |Mark Ebner                   |actor,producer,writer                           |5.3        |287   |\n",
      "|tt2063015 |We Have Your Husband                                                  |nm0706443 |Jayne Valseca                |actress,writer                                  |5.3        |287   |\n",
      "|tt2445178 |Molly Moon and the Incredible Book of Hypnotism                       |nm0125958 |Georgia Byng                 |actress,writer,producer                         |5.3        |981   |\n",
      "|tt3409848 |Zama                                                                  |nm1194321 |Antonio Di Benedetto         |writer                                          |6.7        |4860  |\n",
      "|tt7493370 |Adults in the Room                                                    |nm5008243 |Yanis Varoufakis             |writer,sound_department,miscellaneous           |5.7        |4063  |\n",
      "|tt1518859 |Sins of the Mother                                                    |nm3690870 |Carleen Brice                |writer                                          |6.3        |235   |\n",
      "|tt1657517 |The Song of Names                                                     |nm3919675 |Norman Lebrecht              |writer                                          |6.1        |626   |\n",
      "|tt1713440 |The Man with Thousand Faces                                           |nm3067898 |Manuel Cerdán                |producer,writer                                 |6.9        |6183  |\n",
      "|tt2612312 |Mobbing                                                               |nm5498194 |Annette Pehnt                |writer                                          |6.5        |112   |\n",
      "|tt3829266 |The Predator                                                          |nm0859029 |Jim Thomas                   |writer,producer,location_management             |5.4        |107998|\n",
      "|tt3829266 |The Predator                                                          |nm0859049 |John Thomas                  |writer,producer,miscellaneous                   |5.4        |107998|\n",
      "|tt4337690 |90 Minutes in Heaven                                                  |nm2926858 |Don Piper                    |actor,writer                                    |4.8        |3223  |\n",
      "|tt4337690 |90 Minutes in Heaven                                                  |nm7714780 |Cecil Murphey                |writer                                          |4.8        |3223  |\n",
      "|tt5340300 |Lean on Pete                                                          |nm2922439 |Willy Vlautin                |soundtrack,writer,composer                      |7.2        |9910  |\n",
      "|tt5686132 |The Immortal Life of Henrietta Lacks                                  |nm3916825 |Rebecca Skloot               |producer,writer                                 |6.3        |2917  |\n",
      "|tt6131636 |The Irresistible Blueberry Farm                                       |nm8475222 |Mary Simses                  |writer                                          |7.0        |872   |\n",
      "|tt7028470 |Herrliche Zeiten                                                      |nm3880438 |Thor Kunkel                  |writer                                          |6.3        |377   |\n",
      "|tt7578566 |Scooby-Doo & Batman: The Brave and the Bold                           |nm0360253 |William Hanna                |producer,director,writer                        |6.6        |1331  |\n",
      "|tt7578566 |Scooby-Doo & Batman: The Brave and the Bold                           |nm0053484 |Joseph Barbera               |producer,director,writer                        |6.6        |1331  |\n",
      "|tt7578566 |Scooby-Doo & Batman: The Brave and the Bold                           |nm0004170 |Bob Kane                     |writer,miscellaneous,art_department             |6.6        |1331  |\n",
      "|tt0443533 |The History of Love                                                   |nm1842569 |Nicole Krauss                |writer,miscellaneous                            |6.3        |1138  |\n",
      "|tt2196055 |Teenage                                                               |nm0767319 |Jon Savage                   |writer,miscellaneous,music_department           |6.6        |711   |\n",
      "|tt2486148 |Lac Mystère                                                           |nm5898614 |Andrée A. Michaud            |writer                                          |5.8        |165   |\n",
      "|tt2768084 |Doraemon: Nobita's Secret Gadget Museum                               |nm5485972 |Ui Seok Cho                  |art_department,writer                           |6.8        |430   |\n",
      "|tt2815030 |Killing Kennedy                                                       |nm3257709 |Martin Dugard                |writer,producer                                 |6.0        |3320  |\n",
      "|tt2815030 |Killing Kennedy                                                       |nm0971123 |Bill O'Reilly                |producer,writer,actor                           |6.0        |3320  |\n",
      "|tt3808298 |Run for Your Life                                                     |nm7107945 |Ellen Singer                 |writer                                          |5.6        |308   |\n",
      "|tt3808298 |Run for Your Life                                                     |nm7123190 |Katherine Kotaw              |writer                                          |5.6        |308   |\n",
      "|tt4807908 |Sailor Suit and Machine Gun: Graduation                               |nm0015044 |Jirô Akagawa                 |writer                                          |4.9        |116   |\n",
      "|tt4912910 |Mission: Impossible - Fallout                                         |nm0312367 |Bruce Geller                 |writer,producer,soundtrack                      |7.7        |266717|\n",
      "|tt1691916 |Before I Fall                                                         |nm3986344 |Lauren Oliver                |writer,producer                                 |6.4        |42467 |\n",
      "|tt2194748 |The Eleventh Victim                                                   |nm1456912 |Nancy Grace                  |actress,writer,producer                         |4.7        |455   |\n",
      "|tt2773246 |Scotty and the Secret History of Hollywood                            |nm0295001 |Lionel Friedberg             |producer,cinematographer,writer                 |6.6        |893   |\n",
      "|tt3456784 |Girl's Blood                                                          |nm5063134 |Kazuki Sakuraba              |writer,soundtrack                               |5.5        |278   |\n",
      "|tt6320628 |Spider-Man: Far from Home                                             |nm0498278 |Stan Lee                     |producer,writer,actor                           |7.5        |275196|\n",
      "|tt6320628 |Spider-Man: Far from Home                                             |nm0228492 |Steve Ditko                  |writer,miscellaneous                            |7.5        |275196|\n",
      "|tt6428912 |Michael Jackson: Searching for Neverland                              |nm9908817 |Bill Whitfield               |writer                                          |6.4        |1243  |\n",
      "|tt7076834 |Satan's Slaves                                                        |nm0310219 |Sisworo Gautama Putra        |director,writer                                 |6.6        |6299  |\n",
      "|tt7076834 |Satan's Slaves                                                        |nm0849850 |Imam Tantowi                 |writer,director,art_director                    |6.6        |6299  |\n",
      "|tt7076834 |Satan's Slaves                                                        |nm3037806 |Naryono Prayitno             |writer                                          |6.6        |6299  |\n",
      "|tt7076834 |Satan's Slaves                                                        |nm1780220 |Subagio S.                   |producer,writer,production_manager              |6.6        |6299  |\n",
      "|tt7549618 |Bernie The Dolphin                                                    |nm10200458|Tony Armer                   |writer,producer                                 |5.1        |326   |\n",
      "|tt9203168 |Moromete Family: On the Edge of Time                                  |nm0695737 |Marin Preda                  |writer                                          |7.7        |1338  |\n",
      "|tt2205401 |Addicted                                                              |nm2268532 |Zane                         |writer,producer,director                        |5.2        |8337  |\n",
      "|tt2550112 |Control                                                               |nm0582230 |Jack Messitt                 |camera_department,cinematographer,miscellaneous |6.4        |223   |\n",
      "|tt3300542 |London Has Fallen                                                     |nm4951717 |Katrin Benedikt              |writer                                          |5.9        |136843|\n",
      "|tt3300542 |London Has Fallen                                                     |nm4950667 |Creighton Rothenberger       |writer                                          |5.9        |136843|\n",
      "|tt4881806 |Jurassic World: Fallen Kingdom                                        |nm0000341 |Michael Crichton             |writer,producer,director                        |6.2        |243860|\n",
      "|tt5836706 |Head Full of Honey                                                    |nm1215162 |Hilly Martinek               |writer,actress                                  |4.4        |1172  |\n",
      "|tt9109620 |Zog                                                                   |nm3495921 |Axel Scheffler               |writer,animation_department                     |7.4        |501   |\n",
      "|tt9109620 |Zog                                                                   |nm1933857 |Julia Donaldson              |writer                                          |7.4        |501   |\n",
      "|tt1849027 |Onigamiden - Legend of the Millennium Dragon                          |nm4340957 |Takafumi Takada              |actor,writer                                    |5.7        |1108  |\n",
      "|tt2962876 |The Road Within                                                       |nm1164552 |Florian David Fitz           |actor,writer,director                           |7.1        |13349 |\n",
      "|tt3480146 |The Gate                                                              |nm6232989 |François Bizot               |writer                                          |6.2        |302   |\n",
      "|tt3892172 |Leave No Trace                                                        |nm7161572 |Peter Rock                   |writer                                          |7.2        |42135 |\n",
      "|tt5153288 |Backstabbing for Beginners                                            |nm1816593 |Michael Soussan              |writer,producer,director                        |6.2        |3857  |\n",
      "|tt6814252 |House of the Disappeared                                              |nm5480120 |Alejandro Hidalgo            |writer,producer,director                        |6.3        |553   |\n",
      "|tt1417061 |Camus                                                                 |nm2062462 |Olivier Todd                 |writer                                          |6.2        |120   |\n",
      "|tt1866269 |The Most Fun You Can Have Dying                                       |nm4415299 |Steven Gannaway              |actor,writer                                    |6.3        |167   |\n",
      "|tt1995390 |Our Kind of Traitor                                                   |nm0494170 |John le Carré                |writer,producer,actor                           |6.2        |19021 |\n",
      "|tt2406566 |Atomic Blonde                                                         |nm8697009 |Sam Hart                     |writer                                          |6.7        |164293|\n",
      "|tt2406566 |Atomic Blonde                                                         |nm2985952 |Antony Johnston              |writer,producer                                 |6.7        |164293|\n",
      "|tt3084328 |Haganai: I Don't Have Many Friends                                    |nm5817223 |Yomi Hirasaka                |writer                                          |5.3        |118   |\n",
      "|tt3433622 |The Prince and the 108 Demons                                         |nm2880919 |Nainan Shi                   |writer                                          |5.8        |135   |\n",
      "|tt3567666 |Stratton                                                              |nm6889159 |Duncan Falconer              |writer                                          |4.8        |4186  |\n",
      "|tt4139588 |Polar                                                                 |nm9853356 |Víctor Santos                |writer                                          |6.3        |66555 |\n",
      "|tt5784568 |These Days                                                            |nm10974715|Marta Bertini                |writer                                          |6.2        |194   |\n",
      "|tt6203026 |Hailey Dean Mystery: Murder, with Love                                |nm1456912 |Nancy Grace                  |actress,writer,producer                         |6.6        |617   |\n",
      "|tt10922658|Christmas Under the Stars                                             |nm11058460|Rikk Dunlap                  |writer                                          |6.8        |832   |\n",
      "|tt1285016 |The Social Network                                                    |nm0583826 |Ben Mezrich                  |writer,producer                                 |7.7        |592029|\n",
      "|tt1291150 |Teenage Mutant Ninja Turtles                                          |nm0247653 |Kevin Eastman                |writer,actor,producer                           |5.8        |196050|\n",
      "|tt1291150 |Teenage Mutant Ninja Turtles                                          |nm0481990 |Peter Laird                  |writer,art_department,producer                  |5.8        |196050|\n",
      "|tt1361318 |Good People                                                           |nm2951879 |Marcus Sakey                 |producer,writer,actor                           |5.5        |14863 |\n",
      "|tt1747958 |Blood Ties                                                            |nm2537958 |Bruno Papet                  |writer                                          |6.5        |18349 |\n",
      "|tt2291540 |My Friend Dahmer                                                      |nm3994172 |John Backderf                |writer,miscellaneous                            |6.2        |14247 |\n",
      "|tt2322601 |Strawberry Night                                                      |nm3825232 |Tetsuya Honda                |writer,actor                                    |6.3        |205   |\n",
      "|tt2396589 |Mudbound                                                              |nm5045262 |Hillary Jordan               |writer                                          |7.4        |37834 |\n",
      "|tt4922692 |Kiki, Love to Love                                                    |nm0493257 |Josh Lawson                  |actor,writer,director                           |6.5        |5245  |\n",
      "|tt7647010 |The Mistletoe Inn                                                     |nm0263162 |Richard Paul Evans           |writer,producer                                 |6.4        |1334  |\n",
      "|tt1587310 |Maleficent                                                            |nm0670328 |Bill Peet                    |writer,animation_department,art_department      |7.0        |328762|\n",
      "|tt1587310 |Maleficent                                                            |nm0052520 |Milt Banta                   |writer,animation_department                     |7.0        |328762|\n",
      "|tt1587310 |Maleficent                                                            |nm0674518 |Charles Perrault             |writer                                          |7.0        |328762|\n",
      "|tt1587310 |Maleficent                                                            |nm0382548 |Winston Hibler               |writer,producer,director                        |7.0        |328762|\n",
      "|tt1764666 |The Little Engine That Could                                          |nm2952155 |Watty Piper                  |writer                                          |5.5        |271   |\n",
      "|tt4622340 |Curious George 3: Back to the Jungle                                  |nm1597712 |Margret Rey                  |writer,miscellaneous                            |5.5        |418   |\n",
      "|tt4622340 |Curious George 3: Back to the Jungle                                  |nm1640030 |H.A. Rey                     |writer                                          |5.5        |418   |\n",
      "|tt1343092 |The Great Gatsby                                                      |nm0280234 |F. Scott Fitzgerald          |writer                                          |7.2        |454441|\n",
      "|tt1491044 |The Iceman                                                            |nm1547715 |Anthony Bruno                |writer,producer                                 |6.8        |67854 |\n",
      "|tt1509767 |The Three Musketeers                                                  |nm0241416 |Alexandre Dumas              |writer,soundtrack                               |5.7        |100479|\n",
      "|tt1661388 |Beyond Suspicion                                                      |nm2271621 |Tanguy Viel                  |writer                                          |5.0        |181   |\n",
      "|tt2395427 |Avengers: Age of Ultron                                               |nm0498278 |Stan Lee                     |producer,writer,actor                           |7.3        |704763|\n",
      "|tt2395427 |Avengers: Age of Ultron                                               |nm0456158 |Jack Kirby                   |writer,animation_department,miscellaneous       |7.3        |704763|\n",
      "|tt2866708 |Strange But True                                                      |nm2569110 |John Searles                 |writer                                          |5.7        |1676  |\n",
      "|tt4016662 |Helena                                                                |nm6418014 |David Villegas               |actor,writer                                    |5.8        |109   |\n",
      "|tt4016662 |Helena                                                                |nm3891766 |Silvia Jiménez               |writer,director,actress                         |5.8        |109   |\n",
      "|tt4718770 |The Wiz Live!                                                         |nm0114912 |William F. Brown             |writer                                          |7.1        |2091  |\n",
      "|tt6496236 |Danur                                                                 |nm9614987 |Risa Saraswati               |writer                                          |5.4        |589   |\n",
      "|tt8580348 |Perfect Strangers                                                     |nm0002645 |Paolo Genovese               |writer,director                                 |6.6        |1136  |\n",
      "|tt8580348 |Perfect Strangers                                                     |nm0712330 |Rolando Ravello              |actor,writer,director                           |6.6        |1136  |\n",
      "|tt8580348 |Perfect Strangers                                                     |nm0182499 |Paolo Costella               |writer,assistant_director,director              |6.6        |1136  |\n",
      "|tt8580348 |Perfect Strangers                                                     |nm2601560 |Paola Mammini                |writer,actress                                  |6.6        |1136  |\n",
      "|tt8580348 |Perfect Strangers                                                     |nm3798121 |Filippo Bologna              |writer,director                                 |6.6        |1136  |\n",
      "|tt11379322|The Neighbor in the Window                                            |nm4639744 |Kathie Truitt                |writer                                          |5.2        |175   |\n",
      "|tt2056771 |A Bigger Splash                                                       |nm0220227 |Jacques Deray                |director,writer,assistant_director              |6.4        |25165 |\n",
      "|tt2056771 |A Bigger Splash                                                       |nm0656098 |Alain Page                   |writer,director                                 |6.4        |25165 |\n",
      "|tt2431286 |Philomena                                                             |nm1939381 |Martin Sixsmith              |script_department,miscellaneous,writer          |7.6        |91188 |\n",
      "|tt2527338 |Star Wars: Episode IX - The Rise of Skywalker                         |nm0000184 |George Lucas                 |writer,producer,director                        |6.7        |289785|\n",
      "+----------+----------------------------------------------------------------------+----------+-----------------------------+------------------------------------------------+-----------+------+\n",
      "only showing top 500 rows\n",
      "\n"
     ]
    }
   ],
   "source": [
    "spark.sql(\"select movie_id, primary_title, crew_id, name, profession, avg_ratings, votes from movies_and_writers where job_desc like 'novel %' OR job_desc like 'book %' or job_desc like 'based on %'\").show(500, False)"
   ]
  },
  {
   "cell_type": "code",
   "execution_count": 163,
   "metadata": {},
   "outputs": [
    {
     "name": "stdout",
     "output_type": "stream",
     "text": [
      "+------------------------+\n",
      "|count(DISTINCT movie_id)|\n",
      "+------------------------+\n",
      "|1625                    |\n",
      "+------------------------+\n",
      "\n"
     ]
    }
   ],
   "source": [
    "spark.sql(\"select * from movies_and_writers where job_desc like 'novel %' OR job_desc like 'book %' or job_desc like 'based on %'\").show(500, False)"
   ]
  },
  {
   "cell_type": "code",
   "execution_count": 193,
   "metadata": {},
   "outputs": [],
   "source": [
    "# Filtering movies which has 'based on'/'book'/'novel' in the writer's job desc\n",
    "df_based_on_books = spark.sql(\"select * from movies_and_writers where job_desc like 'novel %' OR job_desc like 'book %' or job_desc like 'based on %'\")"
   ]
  },
  {
   "cell_type": "code",
   "execution_count": 202,
   "metadata": {},
   "outputs": [
    {
     "data": {
      "text/plain": [
       "2444"
      ]
     },
     "execution_count": 202,
     "metadata": {},
     "output_type": "execute_result"
    }
   ],
   "source": [
    "df_based_on_books.count()"
   ]
  },
  {
   "cell_type": "code",
   "execution_count": null,
   "metadata": {},
   "outputs": [],
   "source": []
  },
  {
   "cell_type": "code",
   "execution_count": 196,
   "metadata": {},
   "outputs": [],
   "source": [
    "df_based_on_books.coalesce(1).write.csv(\"output.csv\")"
   ]
  },
  {
   "cell_type": "code",
   "execution_count": 203,
   "metadata": {},
   "outputs": [],
   "source": [
    "df_cleaned_date = spark.read.csv('output_new.csv',\n",
    "                         header=False,       # use headers or not\n",
    "                         quote='\"',         # char for quotes\n",
    "                         sep=\",\",           # char for separation\n",
    "                         inferSchema=True)"
   ]
  },
  {
   "cell_type": "code",
   "execution_count": 204,
   "metadata": {},
   "outputs": [
    {
     "data": {
      "text/plain": [
       "2444"
      ]
     },
     "execution_count": 204,
     "metadata": {},
     "output_type": "execute_result"
    }
   ],
   "source": [
    "df_cleaned_date.count()"
   ]
  },
  {
   "cell_type": "code",
   "execution_count": 205,
   "metadata": {},
   "outputs": [],
   "source": [
    "from pyspark.sql.types import *\n",
    "\n",
    "schema = StructType( [\n",
    "    StructField('movie_id',     StringType(), True),\n",
    "    StructField('primary_title',   StringType(),  True),\n",
    "    StructField('year',   StringType(),  True),\n",
    "    StructField('genres',   StringType(),  True),\n",
    "    StructField('crew_id',  StringType(), True),\n",
    "    StructField('name',  StringType(),  True),\n",
    "    StructField('profession',StringType(), True),\n",
    "    StructField('avg_ratings', DoubleType(),   True), \n",
    "    StructField('votes', IntegerType(),   True),\n",
    "    StructField('job_desc', StringType(),   True) ] )"
   ]
  },
  {
   "cell_type": "code",
   "execution_count": 206,
   "metadata": {},
   "outputs": [],
   "source": [
    "df_cleaned_data = spark.read.csv('output_new.csv',\n",
    "                         header=True,       # use headers or not\n",
    "                         quote='\"',         # char for quotes\n",
    "                         sep=\",\",           # char for separation\n",
    "                         schema=schema)"
   ]
  },
  {
   "cell_type": "code",
   "execution_count": 207,
   "metadata": {},
   "outputs": [
    {
     "data": {
      "text/plain": [
       "2443"
      ]
     },
     "execution_count": 207,
     "metadata": {},
     "output_type": "execute_result"
    }
   ],
   "source": [
    "df_cleaned_data.count()"
   ]
  },
  {
   "cell_type": "code",
   "execution_count": 438,
   "metadata": {},
   "outputs": [
    {
     "name": "stdout",
     "output_type": "stream",
     "text": [
      "+-------------+---------+-------+\n",
      "|     col_name|data_type|comment|\n",
      "+-------------+---------+-------+\n",
      "|     movie_id|   string|   null|\n",
      "|primary_title|   string|   null|\n",
      "|         year|   string|   null|\n",
      "|       genres|   string|   null|\n",
      "|      crew_id|   string|   null|\n",
      "|         name|   string|   null|\n",
      "|   profession|   string|   null|\n",
      "|  avg_ratings|   double|   null|\n",
      "|        votes|      int|   null|\n",
      "|     job_desc|   string|   null|\n",
      "+-------------+---------+-------+\n",
      "\n"
     ]
    }
   ],
   "source": [
    "df_cleaned_data.createOrReplaceTempView(\"clean_books_movie\")\n",
    "spark.sql(\"Desc clean_books_movie\").show()"
   ]
  },
  {
   "cell_type": "code",
   "execution_count": 215,
   "metadata": {},
   "outputs": [],
   "source": [
    "df_book_list = spark.sql(\"Select (case when (locate(':', job_desc,instr(job_desc, ':') +1) - instr(job_desc, ':')) > 2 then substring(job_desc, instr(job_desc, ':') + 1, locate(':', job_desc,instr(job_desc, ':') +1) - instr(job_desc, ':') - 1) else primary_title end) as book_name from clean_books_movie\").toPandas()"
   ]
  },
  {
   "cell_type": "code",
   "execution_count": 484,
   "metadata": {},
   "outputs": [],
   "source": [
    "spark.sql(\"Select movie_id, avg_ratings, votes, name,  (case when (locate(':', job_desc,instr(job_desc, ':') +1) - instr(job_desc, ':')) > 2 then substring(job_desc, instr(job_desc, ':') + 1, locate(':', job_desc,instr(job_desc, ':') +1) - instr(job_desc, ':') - 1) else primary_title end) as book_name from clean_books_movie\").coalesce(1).write.csv(\"books\")"
   ]
  },
  {
   "cell_type": "code",
   "execution_count": null,
   "metadata": {},
   "outputs": [],
   "source": []
  },
  {
   "cell_type": "code",
   "execution_count": 432,
   "metadata": {},
   "outputs": [],
   "source": [
    "df_goodread_data = spark.read.csv('goodread_books_latest.csv',\n",
    "                         header=True,       # use headers or not\n",
    "                         quote='\"',         # char for quotes\n",
    "                         sep=\",\",           # char for separation\n",
    "                         inferSchema=True)"
   ]
  },
  {
   "cell_type": "code",
   "execution_count": 433,
   "metadata": {},
   "outputs": [
    {
     "name": "stdout",
     "output_type": "stream",
     "text": [
      "root\n",
      " |-- id: integer (nullable = true)\n",
      " |-- title: string (nullable = true)\n",
      " |-- isbn: string (nullable = true)\n",
      " |-- num_pages: integer (nullable = true)\n",
      " |-- ratings_count: integer (nullable = true)\n",
      " |-- average_rating: double (nullable = true)\n",
      " |-- text_reviews_count: integer (nullable = true)\n",
      " |-- movie_ref: string (nullable = true)\n",
      "\n"
     ]
    }
   ],
   "source": [
    "df_goodread_data.printSchema()"
   ]
  },
  {
   "cell_type": "code",
   "execution_count": 434,
   "metadata": {},
   "outputs": [],
   "source": [
    "df_goodread_data.createOrReplaceTempView(\"goodreads\")"
   ]
  },
  {
   "cell_type": "code",
   "execution_count": 435,
   "metadata": {},
   "outputs": [],
   "source": [
    "df_distinct = spark.sql(\"select m.movie_id, m.primary_title, m.year, m.genres, m.avg_ratings, m.votes from movies_and_ratings m where m.movie_id in (select distinct(movie_id) from movies_and_writers where job_desc like 'novel %' OR job_desc like 'book %' or job_desc like 'based on %')\")\n",
    "df_distinct.createOrReplaceTempView(\"adapated_movies\")"
   ]
  },
  {
   "cell_type": "code",
   "execution_count": 436,
   "metadata": {},
   "outputs": [
    {
     "name": "stdout",
     "output_type": "stream",
     "text": [
      "+------------------+---------+-------+\n",
      "|          col_name|data_type|comment|\n",
      "+------------------+---------+-------+\n",
      "|                id|      int|   null|\n",
      "|             title|   string|   null|\n",
      "|              isbn|   string|   null|\n",
      "|         num_pages|      int|   null|\n",
      "|     ratings_count|      int|   null|\n",
      "|    average_rating|   double|   null|\n",
      "|text_reviews_count|      int|   null|\n",
      "|         movie_ref|   string|   null|\n",
      "+------------------+---------+-------+\n",
      "\n"
     ]
    }
   ],
   "source": [
    "spark.sql(\"Desc goodreads\").show()"
   ]
  },
  {
   "cell_type": "code",
   "execution_count": 142,
   "metadata": {},
   "outputs": [
    {
     "name": "stdout",
     "output_type": "stream",
     "text": [
      "+-------------+---------+-------+\n",
      "|     col_name|data_type|comment|\n",
      "+-------------+---------+-------+\n",
      "|     movie_id|   string|   null|\n",
      "|primary_title|   string|   null|\n",
      "|         year|   string|   null|\n",
      "|       genres|   string|   null|\n",
      "|  avg_ratings|   double|   null|\n",
      "|        votes|      int|   null|\n",
      "+-------------+---------+-------+\n",
      "\n"
     ]
    }
   ],
   "source": [
    "spark.sql(\"desc adapated_movies\").show()"
   ]
  },
  {
   "cell_type": "code",
   "execution_count": null,
   "metadata": {},
   "outputs": [],
   "source": []
  },
  {
   "cell_type": "code",
   "execution_count": 466,
   "metadata": {},
   "outputs": [],
   "source": [
    "pd_movie_book = spark.sql(\"select m.primary_title as Movie, g.title as Book, m.year as Movie_year, m.genres as Genres, m.avg_ratings as Movie_ratings, g.average_rating as Book_ratings, m.votes as Movie_review_count, g.ratings_count as Book_rating_ount, g.text_reviews_count as Book_review_count from adapated_movies m inner join goodreads g on m.movie_id = g.movie_ref and m.year < 2020\").toPandas()"
   ]
  },
  {
   "cell_type": "code",
   "execution_count": 467,
   "metadata": {},
   "outputs": [],
   "source": [
    "pd_movie_book[\"normalize_movie_ratings\"] = 0.44 * (pd_movie_book[\"Movie_ratings\"] - 10) + 5"
   ]
  },
  {
   "cell_type": "code",
   "execution_count": 468,
   "metadata": {},
   "outputs": [
    {
     "data": {
      "text/plain": [
       "Movie                      1870\n",
       "Book                       1870\n",
       "Movie_year                 1870\n",
       "Genres                     1870\n",
       "Movie_ratings              1870\n",
       "Book_ratings               1870\n",
       "Movie_review_count         1870\n",
       "Book_rating_ount           1870\n",
       "Book_review_count          1870\n",
       "normalize_movie_ratings    1870\n",
       "dtype: int64"
      ]
     },
     "execution_count": 468,
     "metadata": {},
     "output_type": "execute_result"
    }
   ],
   "source": [
    "pd_movie_book.count()"
   ]
  },
  {
   "cell_type": "code",
   "execution_count": 469,
   "metadata": {},
   "outputs": [],
   "source": [
    "pd_gb_count = pd_movie_book.groupby('Movie_year').count()[['Movie']]"
   ]
  },
  {
   "cell_type": "code",
   "execution_count": 470,
   "metadata": {},
   "outputs": [],
   "source": [
    "pd_gb_ratings = pd_movie_book.groupby('Movie_year').mean()[['normalize_movie_ratings','Book_ratings']]"
   ]
  },
  {
   "cell_type": "code",
   "execution_count": 471,
   "metadata": {},
   "outputs": [
    {
     "data": {
      "text/plain": [
       "[u'Adventure',\n",
       " u'Action',\n",
       " u'Drama',\n",
       " u'Comedy',\n",
       " u'Crime',\n",
       " 'Others',\n",
       " u'Romance',\n",
       " u'Biography',\n",
       " u'Family',\n",
       " u'Animation',\n",
       " u'Documentary',\n",
       " u'History']"
      ]
     },
     "execution_count": 471,
     "metadata": {},
     "output_type": "execute_result"
    }
   ],
   "source": [
    "exclude = ['Horror','Musical','Music','Mystery','Sci-Fi','Thriller','War','Fantasy']\n",
    "new = pd_movie_book[\"Genres\"].str.split(\",\", n = 1, expand = True) \n",
    "pd_movie_book[\"Genre\"] = new[0].apply(lambda x: x if x not in exclude else 'Others')\n",
    "list(pd_movie_book[\"Genre\"].unique())"
   ]
  },
  {
   "cell_type": "code",
   "execution_count": 472,
   "metadata": {},
   "outputs": [
    {
     "data": {
      "text/plain": [
       "(3.3486601756679684, 0.03975354209601808)"
      ]
     },
     "execution_count": 472,
     "metadata": {},
     "output_type": "execute_result"
    }
   ],
   "source": [
    "pd_gb_ratings['normalize_movie_ratings'].mean(), pd_gb_ratings['normalize_movie_ratings'].std()"
   ]
  },
  {
   "cell_type": "code",
   "execution_count": 473,
   "metadata": {},
   "outputs": [
    {
     "data": {
      "text/plain": [
       "(3.6823679405491183, 0.04724395270943506)"
      ]
     },
     "execution_count": 473,
     "metadata": {},
     "output_type": "execute_result"
    }
   ],
   "source": [
    "pd_gb_ratings['Book_ratings'].mean(), pd_gb_ratings['Book_ratings'].std()"
   ]
  },
  {
   "cell_type": "code",
   "execution_count": 474,
   "metadata": {},
   "outputs": [
    {
     "data": {
      "text/html": [
       "<div>\n",
       "<style scoped>\n",
       "    .dataframe tbody tr th:only-of-type {\n",
       "        vertical-align: middle;\n",
       "    }\n",
       "\n",
       "    .dataframe tbody tr th {\n",
       "        vertical-align: top;\n",
       "    }\n",
       "\n",
       "    .dataframe thead th {\n",
       "        text-align: right;\n",
       "    }\n",
       "</style>\n",
       "<table border=\"1\" class=\"dataframe\">\n",
       "  <thead>\n",
       "    <tr style=\"text-align: right;\">\n",
       "      <th></th>\n",
       "      <th>Movie_review_count</th>\n",
       "      <th>Book_rating_ount</th>\n",
       "    </tr>\n",
       "    <tr>\n",
       "      <th>Movie_year</th>\n",
       "      <th></th>\n",
       "      <th></th>\n",
       "    </tr>\n",
       "  </thead>\n",
       "  <tbody>\n",
       "    <tr>\n",
       "      <th>2005</th>\n",
       "      <td>27854.390244</td>\n",
       "      <td>48839.695122</td>\n",
       "    </tr>\n",
       "    <tr>\n",
       "      <th>2006</th>\n",
       "      <td>19600.584158</td>\n",
       "      <td>32089.950495</td>\n",
       "    </tr>\n",
       "    <tr>\n",
       "      <th>2007</th>\n",
       "      <td>35345.571429</td>\n",
       "      <td>37588.714286</td>\n",
       "    </tr>\n",
       "    <tr>\n",
       "      <th>2008</th>\n",
       "      <td>39860.842105</td>\n",
       "      <td>92714.868421</td>\n",
       "    </tr>\n",
       "    <tr>\n",
       "      <th>2009</th>\n",
       "      <td>35252.521739</td>\n",
       "      <td>42997.347826</td>\n",
       "    </tr>\n",
       "    <tr>\n",
       "      <th>2010</th>\n",
       "      <td>47033.244898</td>\n",
       "      <td>61543.908163</td>\n",
       "    </tr>\n",
       "    <tr>\n",
       "      <th>2011</th>\n",
       "      <td>50804.585586</td>\n",
       "      <td>80470.639640</td>\n",
       "    </tr>\n",
       "    <tr>\n",
       "      <th>2012</th>\n",
       "      <td>67732.933333</td>\n",
       "      <td>94824.591667</td>\n",
       "    </tr>\n",
       "    <tr>\n",
       "      <th>2013</th>\n",
       "      <td>52185.282759</td>\n",
       "      <td>101348.462069</td>\n",
       "    </tr>\n",
       "    <tr>\n",
       "      <th>2014</th>\n",
       "      <td>70913.390071</td>\n",
       "      <td>112879.815603</td>\n",
       "    </tr>\n",
       "    <tr>\n",
       "      <th>2015</th>\n",
       "      <td>49337.782895</td>\n",
       "      <td>46937.203947</td>\n",
       "    </tr>\n",
       "    <tr>\n",
       "      <th>2016</th>\n",
       "      <td>50537.829545</td>\n",
       "      <td>54550.625000</td>\n",
       "    </tr>\n",
       "    <tr>\n",
       "      <th>2017</th>\n",
       "      <td>41077.376744</td>\n",
       "      <td>50972.627907</td>\n",
       "    </tr>\n",
       "    <tr>\n",
       "      <th>2018</th>\n",
       "      <td>44092.880952</td>\n",
       "      <td>27514.363095</td>\n",
       "    </tr>\n",
       "    <tr>\n",
       "      <th>2019</th>\n",
       "      <td>50945.534483</td>\n",
       "      <td>48461.500000</td>\n",
       "    </tr>\n",
       "  </tbody>\n",
       "</table>\n",
       "</div>"
      ],
      "text/plain": [
       "            Movie_review_count  Book_rating_ount\n",
       "Movie_year                                      \n",
       "2005              27854.390244      48839.695122\n",
       "2006              19600.584158      32089.950495\n",
       "2007              35345.571429      37588.714286\n",
       "2008              39860.842105      92714.868421\n",
       "2009              35252.521739      42997.347826\n",
       "2010              47033.244898      61543.908163\n",
       "2011              50804.585586      80470.639640\n",
       "2012              67732.933333      94824.591667\n",
       "2013              52185.282759     101348.462069\n",
       "2014              70913.390071     112879.815603\n",
       "2015              49337.782895      46937.203947\n",
       "2016              50537.829545      54550.625000\n",
       "2017              41077.376744      50972.627907\n",
       "2018              44092.880952      27514.363095\n",
       "2019              50945.534483      48461.500000"
      ]
     },
     "execution_count": 474,
     "metadata": {},
     "output_type": "execute_result"
    }
   ],
   "source": [
    "pd_movie_book.groupby('Movie_year').mean()[['Movie_review_count','Book_rating_ount']]"
   ]
  },
  {
   "cell_type": "code",
   "execution_count": 475,
   "metadata": {
    "scrolled": false
   },
   "outputs": [
    {
     "data": {
      "image/png": "[encoded data removed]",
      "text/plain": [
       "<Figure size 1440x720 with 1 Axes>"
      ]
     },
     "metadata": {
      "needs_background": "light"
     },
     "output_type": "display_data"
    }
   ],
   "source": [
    "fig, ax = subplots()\n",
    "pd_gb_ratings.plot.bar(rot = 0, ax=ax, figsize = (20, 10), colormap = 'Accent', alpha = 0.8)\n",
    "ax.set_title('Average ratings comparison',fontsize=20, color= 'k', alpha = 0.7)\n",
    "ax.set_xlabel(\"Year\",fontsize=14)\n",
    "ax.set_ylim(0.0, 5.0)\n",
    "ax.legend(['Avg movie ratings', 'Avg book ratings'], fontsize=14);"
   ]
  },
  {
   "cell_type": "code",
   "execution_count": null,
   "metadata": {
    "scrolled": true
   },
   "outputs": [],
   "source": []
  },
  {
   "cell_type": "code",
   "execution_count": 476,
   "metadata": {},
   "outputs": [],
   "source": [
    "pd_movies = spark.sql(\"select movie_id, year from movies_and_ratings where year >= 2005 and year < 2020\").toPandas()"
   ]
  },
  {
   "cell_type": "code",
   "execution_count": 477,
   "metadata": {},
   "outputs": [],
   "source": [
    "pd_gp_movies = pd_movies.groupby('year').count()"
   ]
  },
  {
   "cell_type": "code",
   "execution_count": 478,
   "metadata": {},
   "outputs": [],
   "source": [
    "pd_gp_movies['movie_id'] = pd_gp_movies['movie_id'] / 12"
   ]
  },
  {
   "cell_type": "code",
   "execution_count": null,
   "metadata": {},
   "outputs": [],
   "source": []
  },
  {
   "cell_type": "code",
   "execution_count": 480,
   "metadata": {},
   "outputs": [
    {
     "data": {
      "text/plain": [
       "<matplotlib.legend.Legend at 0x12e79da10>"
      ]
     },
     "execution_count": 480,
     "metadata": {},
     "output_type": "execute_result"
    },
    {
     "data": {
      "image/png": "[encoded data removed]",
      "text/plain": [
       "<Figure size 432x288 with 1 Axes>"
      ]
     },
     "metadata": {
      "needs_background": "light"
     },
     "output_type": "display_data"
    },
    {
     "data": {
      "image/png": "[encoded data removed]",
      "text/plain": [
       "<Figure size 1440x720 with 1 Axes>"
      ]
     },
     "metadata": {
      "needs_background": "light"
     },
     "output_type": "display_data"
    }
   ],
   "source": [
    "fig, ax = subplots()\n",
    "ax = pd_gp_movies.plot(kind='line',linestyle='--',c = 'red')\n",
    "pd_gb_count.plot.bar(rot = 0,ax=ax, figsize = (20, 10), colormap='Paired')\n",
    "ax.set_title('Avg of number of movies vs number of Adapted movies',fontsize=20, color= 'k', alpha = 0.7)\n",
    "ax.set_xlabel(\"Year\",fontsize=14)\n",
    "ax.legend(['Avg number of movies','Movie adapted from book'], fontsize=14)"
   ]
  },
  {
   "cell_type": "code",
   "execution_count": 482,
   "metadata": {},
   "outputs": [],
   "source": [
    "pd_gb_count_genres = pd_movie_book.groupby(['Movie_year','Genre']).count()[['Movie']]"
   ]
  },
  {
   "cell_type": "code",
   "execution_count": 483,
   "metadata": {},
   "outputs": [
    {
     "data": {
      "text/plain": [
       "Text(0.5,0,'Year')"
      ]
     },
     "execution_count": 483,
     "metadata": {},
     "output_type": "execute_result"
    },
    {
     "data": {
      "image/png": "[encoded data removed]",
      "text/plain": [
       "<Figure size 1080x864 with 1 Axes>"
      ]
     },
     "metadata": {
      "needs_background": "light"
     },
     "output_type": "display_data"
    }
   ],
   "source": [
    "pivot_df = pd_gb_count_genres.reset_index().pivot(index='Movie_year', columns='Genre', values='Movie')\n",
    "pivot_df.fillna(0)\n",
    "fig, ax = subplots()\n",
    "pivot_df.loc[:,['Action','Adventure', 'Animation','Biography','Comedy','Crime','Documentary','Drama','Family','History','Horror','Romance','Others']].plot.bar(rot = 0,stacked=True,colormap='tab20b', figsize=(15,12), ax=ax, alpha = 0.8)\n",
    "ax.set_title('Movies by Genre',fontsize=20, color= 'k', alpha = 0.7)\n",
    "ax.set_xlabel(\"Year\",fontsize=14)\n"
   ]
  },
  {
   "cell_type": "code",
   "execution_count": 329,
   "metadata": {},
   "outputs": [],
   "source": [
    "# Using welch test - t-test to calculate pvalue for Movie and Books avg ratings\n",
    "# def welch_test(sampleA, sampleB):\n",
    "#     numerator = np.mean(sampleA) - np.mean(sampleB)\n",
    "#     denominator_sq = (np.var(sampleA) / len(sampleA)) + (np.var(sampleB) / len(sampleB))\n",
    "#     return numerator / np.sqrt(denominator_sq)"
   ]
  },
  {
   "cell_type": "code",
   "execution_count": 352,
   "metadata": {},
   "outputs": [],
   "source": [
    "pd_movies_hyt = pd_movie_book.groupby('Movie_year').agg({'Movie':'count', 'Book_ratings':['mean', 'var'],'normalize_movie_ratings':['var', 'mean']})"
   ]
  },
  {
   "cell_type": "code",
   "execution_count": null,
   "metadata": {},
   "outputs": [],
   "source": []
  },
  {
   "cell_type": "code",
   "execution_count": 368,
   "metadata": {},
   "outputs": [],
   "source": [
    "pd_movies_hyt['numerator'] = (pd_movies_hyt['Book_ratings']['mean'] - pd_movies_hyt['normalize_movie_ratings']['mean'])"
   ]
  },
  {
   "cell_type": "code",
   "execution_count": null,
   "metadata": {},
   "outputs": [],
   "source": []
  },
  {
   "cell_type": "code",
   "execution_count": 370,
   "metadata": {},
   "outputs": [],
   "source": [
    "pd_movies_hyt['denominator'] = np.sqrt((pd_movies_hyt['Book_ratings']['var']/pd_movies_hyt['Movie']['count'])+(pd_movies_hyt['normalize_movie_ratings']['var']/pd_movies_hyt['Movie']['count']))"
   ]
  },
  {
   "cell_type": "code",
   "execution_count": null,
   "metadata": {},
   "outputs": [],
   "source": []
  },
  {
   "cell_type": "code",
   "execution_count": 372,
   "metadata": {},
   "outputs": [],
   "source": [
    "pd_movies_hyt['test_statistic'] = pd_movies_hyt['numerator']/pd_movies_hyt['denominator']"
   ]
  },
  {
   "cell_type": "code",
   "execution_count": null,
   "metadata": {},
   "outputs": [],
   "source": []
  },
  {
   "cell_type": "code",
   "execution_count": 402,
   "metadata": {},
   "outputs": [],
   "source": [
    "# df = (\n",
    "#         ((np.var(sample_1)/ss1 + np.var(sample_2)/ss2)**(2.0)) / \n",
    "#         ((np.var(sample_1)/ss1)**(2.0)/(ss1 - 1) + (np.var(sample_2)/ss2)**(2.0)/(ss2 - 1))\n",
    "#     )\n",
    "pd_movies_hyt['df_numerator'] = (pd_movies_hyt['Book_ratings']['var']/pd_movies_hyt['Movie']['count'] + pd_movies_hyt['normalize_movie_ratings']['var']/pd_movies_hyt['Movie']['count'])**(2.0)"
   ]
  },
  {
   "cell_type": "code",
   "execution_count": 403,
   "metadata": {},
   "outputs": [],
   "source": [
    "pd_movies_hyt['df_denominator'] = (pd_movies_hyt['Book_ratings']['var']/pd_movies_hyt['Movie']['count'])**(2.0)/(pd_movies_hyt['Movie']['count']-1) + (pd_movies_hyt['normalize_movie_ratings']['var']/pd_movies_hyt['Movie']['count'])**(2.0)/(pd_movies_hyt['Movie']['count']-1)"
   ]
  },
  {
   "cell_type": "code",
   "execution_count": 404,
   "metadata": {},
   "outputs": [],
   "source": [
    "pd_movies_hyt['df'] = pd_movies_hyt['df_numerator'] / pd_movies_hyt['df_denominator']"
   ]
  },
  {
   "cell_type": "code",
   "execution_count": null,
   "metadata": {},
   "outputs": [],
   "source": []
  },
  {
   "cell_type": "code",
   "execution_count": null,
   "metadata": {},
   "outputs": [],
   "source": []
  },
  {
   "cell_type": "code",
   "execution_count": 416,
   "metadata": {},
   "outputs": [],
   "source": [
    "import scipy as sp\n",
    "import scipy.stats as stats\n",
    "import matplotlib.pyplot as plt\n"
   ]
  },
  {
   "cell_type": "code",
   "execution_count": 419,
   "metadata": {},
   "outputs": [],
   "source": [
    "# p_value = students.cdf(test_statistic) + (1 - students.cdf(-test_statistic))\n",
    "\n",
    "pd_movies_hyt['p_value'] = 1- stats.t(pd_movies_hyt['df']).cdf(pd_movies_hyt['test_statistic'])"
   ]
  },
  {
   "cell_type": "code",
   "execution_count": 422,
   "metadata": {},
   "outputs": [
    {
     "data": {
      "text/html": [
       "<div>\n",
       "<style scoped>\n",
       "    .dataframe tbody tr th:only-of-type {\n",
       "        vertical-align: middle;\n",
       "    }\n",
       "\n",
       "    .dataframe tbody tr th {\n",
       "        vertical-align: top;\n",
       "    }\n",
       "\n",
       "    .dataframe thead tr th {\n",
       "        text-align: left;\n",
       "    }\n",
       "\n",
       "    .dataframe thead tr:last-of-type th {\n",
       "        text-align: right;\n",
       "    }\n",
       "</style>\n",
       "<table border=\"1\" class=\"dataframe\">\n",
       "  <thead>\n",
       "    <tr>\n",
       "      <th></th>\n",
       "      <th colspan=\"2\" halign=\"left\">Book_ratings</th>\n",
       "      <th>Movie</th>\n",
       "      <th colspan=\"2\" halign=\"left\">normalize_movie_ratings</th>\n",
       "      <th>p_value</th>\n",
       "      <th>numerator</th>\n",
       "      <th>denominator</th>\n",
       "      <th>test_statistic</th>\n",
       "      <th>df_numerator</th>\n",
       "      <th>df_denominator</th>\n",
       "      <th>df</th>\n",
       "      <th>student_T</th>\n",
       "    </tr>\n",
       "    <tr>\n",
       "      <th></th>\n",
       "      <th>mean</th>\n",
       "      <th>var</th>\n",
       "      <th>count</th>\n",
       "      <th>var</th>\n",
       "      <th>mean</th>\n",
       "      <th></th>\n",
       "      <th></th>\n",
       "      <th></th>\n",
       "      <th></th>\n",
       "      <th></th>\n",
       "      <th></th>\n",
       "      <th></th>\n",
       "      <th></th>\n",
       "    </tr>\n",
       "    <tr>\n",
       "      <th>Movie_year</th>\n",
       "      <th></th>\n",
       "      <th></th>\n",
       "      <th></th>\n",
       "      <th></th>\n",
       "      <th></th>\n",
       "      <th></th>\n",
       "      <th></th>\n",
       "      <th></th>\n",
       "      <th></th>\n",
       "      <th></th>\n",
       "      <th></th>\n",
       "      <th></th>\n",
       "      <th></th>\n",
       "    </tr>\n",
       "  </thead>\n",
       "  <tbody>\n",
       "    <tr>\n",
       "      <th>2005</th>\n",
       "      <td>3.728132</td>\n",
       "      <td>0.621609</td>\n",
       "      <td>91</td>\n",
       "      <td>0.306542</td>\n",
       "      <td>3.264659</td>\n",
       "      <td>0.000000</td>\n",
       "      <td>0.680788</td>\n",
       "      <td>0.100992</td>\n",
       "      <td>6.740985</td>\n",
       "      <td>0.000104</td>\n",
       "      <td>0.000001</td>\n",
       "      <td>161.401635</td>\n",
       "      <td>&lt;scipy.stats._distn_infrastructure.rv_frozen o...</td>\n",
       "    </tr>\n",
       "    <tr>\n",
       "      <th>2006</th>\n",
       "      <td>3.622710</td>\n",
       "      <td>1.017595</td>\n",
       "      <td>107</td>\n",
       "      <td>0.228522</td>\n",
       "      <td>3.346505</td>\n",
       "      <td>0.000001</td>\n",
       "      <td>0.525553</td>\n",
       "      <td>0.107916</td>\n",
       "      <td>4.869996</td>\n",
       "      <td>0.000136</td>\n",
       "      <td>0.000001</td>\n",
       "      <td>151.323302</td>\n",
       "      <td>&lt;scipy.stats._distn_infrastructure.rv_frozen o...</td>\n",
       "    </tr>\n",
       "    <tr>\n",
       "      <th>2007</th>\n",
       "      <td>3.733077</td>\n",
       "      <td>0.558050</td>\n",
       "      <td>78</td>\n",
       "      <td>0.224912</td>\n",
       "      <td>3.383846</td>\n",
       "      <td>0.000000</td>\n",
       "      <td>0.590958</td>\n",
       "      <td>0.100190</td>\n",
       "      <td>5.898387</td>\n",
       "      <td>0.000101</td>\n",
       "      <td>0.000001</td>\n",
       "      <td>130.393814</td>\n",
       "      <td>&lt;scipy.stats._distn_infrastructure.rv_frozen o...</td>\n",
       "    </tr>\n",
       "    <tr>\n",
       "      <th>2008</th>\n",
       "      <td>3.683293</td>\n",
       "      <td>0.857057</td>\n",
       "      <td>82</td>\n",
       "      <td>0.175316</td>\n",
       "      <td>3.355902</td>\n",
       "      <td>0.000001</td>\n",
       "      <td>0.572180</td>\n",
       "      <td>0.112205</td>\n",
       "      <td>5.099428</td>\n",
       "      <td>0.000159</td>\n",
       "      <td>0.000001</td>\n",
       "      <td>112.807160</td>\n",
       "      <td>&lt;scipy.stats._distn_infrastructure.rv_frozen o...</td>\n",
       "    </tr>\n",
       "    <tr>\n",
       "      <th>2009</th>\n",
       "      <td>3.684149</td>\n",
       "      <td>0.910405</td>\n",
       "      <td>94</td>\n",
       "      <td>0.319022</td>\n",
       "      <td>3.323319</td>\n",
       "      <td>0.000000</td>\n",
       "      <td>0.600691</td>\n",
       "      <td>0.114364</td>\n",
       "      <td>5.252471</td>\n",
       "      <td>0.000171</td>\n",
       "      <td>0.000001</td>\n",
       "      <td>151.049663</td>\n",
       "      <td>&lt;scipy.stats._distn_infrastructure.rv_frozen o...</td>\n",
       "    </tr>\n",
       "    <tr>\n",
       "      <th>2010</th>\n",
       "      <td>3.670741</td>\n",
       "      <td>0.977089</td>\n",
       "      <td>108</td>\n",
       "      <td>0.225784</td>\n",
       "      <td>3.404593</td>\n",
       "      <td>0.000001</td>\n",
       "      <td>0.515895</td>\n",
       "      <td>0.105535</td>\n",
       "      <td>4.888367</td>\n",
       "      <td>0.000124</td>\n",
       "      <td>0.000001</td>\n",
       "      <td>153.943975</td>\n",
       "      <td>&lt;scipy.stats._distn_infrastructure.rv_frozen o...</td>\n",
       "    </tr>\n",
       "    <tr>\n",
       "      <th>2011</th>\n",
       "      <td>3.602295</td>\n",
       "      <td>0.825015</td>\n",
       "      <td>122</td>\n",
       "      <td>0.208495</td>\n",
       "      <td>3.315377</td>\n",
       "      <td>0.000000</td>\n",
       "      <td>0.535647</td>\n",
       "      <td>0.092040</td>\n",
       "      <td>5.819712</td>\n",
       "      <td>0.000072</td>\n",
       "      <td>0.000000</td>\n",
       "      <td>178.486149</td>\n",
       "      <td>&lt;scipy.stats._distn_infrastructure.rv_frozen o...</td>\n",
       "    </tr>\n",
       "    <tr>\n",
       "      <th>2012</th>\n",
       "      <td>3.625659</td>\n",
       "      <td>1.222662</td>\n",
       "      <td>129</td>\n",
       "      <td>0.252254</td>\n",
       "      <td>3.259783</td>\n",
       "      <td>0.000000</td>\n",
       "      <td>0.604877</td>\n",
       "      <td>0.106927</td>\n",
       "      <td>5.656896</td>\n",
       "      <td>0.000131</td>\n",
       "      <td>0.000001</td>\n",
       "      <td>178.660245</td>\n",
       "      <td>&lt;scipy.stats._distn_infrastructure.rv_frozen o...</td>\n",
       "    </tr>\n",
       "    <tr>\n",
       "      <th>2013</th>\n",
       "      <td>3.638598</td>\n",
       "      <td>0.993489</td>\n",
       "      <td>164</td>\n",
       "      <td>0.162983</td>\n",
       "      <td>3.316195</td>\n",
       "      <td>0.000000</td>\n",
       "      <td>0.567805</td>\n",
       "      <td>0.083974</td>\n",
       "      <td>6.761663</td>\n",
       "      <td>0.000050</td>\n",
       "      <td>0.000000</td>\n",
       "      <td>215.078947</td>\n",
       "      <td>&lt;scipy.stats._distn_infrastructure.rv_frozen o...</td>\n",
       "    </tr>\n",
       "    <tr>\n",
       "      <th>2014</th>\n",
       "      <td>3.758861</td>\n",
       "      <td>0.592952</td>\n",
       "      <td>158</td>\n",
       "      <td>0.218336</td>\n",
       "      <td>3.368380</td>\n",
       "      <td>0.000000</td>\n",
       "      <td>0.624885</td>\n",
       "      <td>0.071657</td>\n",
       "      <td>8.720497</td>\n",
       "      <td>0.000026</td>\n",
       "      <td>0.000000</td>\n",
       "      <td>258.815847</td>\n",
       "      <td>&lt;scipy.stats._distn_infrastructure.rv_frozen o...</td>\n",
       "    </tr>\n",
       "    <tr>\n",
       "      <th>2015</th>\n",
       "      <td>3.663757</td>\n",
       "      <td>0.892234</td>\n",
       "      <td>173</td>\n",
       "      <td>0.169733</td>\n",
       "      <td>3.340717</td>\n",
       "      <td>0.000000</td>\n",
       "      <td>0.568366</td>\n",
       "      <td>0.078349</td>\n",
       "      <td>7.254309</td>\n",
       "      <td>0.000038</td>\n",
       "      <td>0.000000</td>\n",
       "      <td>235.154756</td>\n",
       "      <td>&lt;scipy.stats._distn_infrastructure.rv_frozen o...</td>\n",
       "    </tr>\n",
       "    <tr>\n",
       "      <th>2016</th>\n",
       "      <td>3.589415</td>\n",
       "      <td>0.974681</td>\n",
       "      <td>205</td>\n",
       "      <td>0.130424</td>\n",
       "      <td>3.365132</td>\n",
       "      <td>0.000000</td>\n",
       "      <td>0.473585</td>\n",
       "      <td>0.073422</td>\n",
       "      <td>6.450202</td>\n",
       "      <td>0.000029</td>\n",
       "      <td>0.000000</td>\n",
       "      <td>257.634846</td>\n",
       "      <td>&lt;scipy.stats._distn_infrastructure.rv_frozen o...</td>\n",
       "    </tr>\n",
       "    <tr>\n",
       "      <th>2017</th>\n",
       "      <td>3.633880</td>\n",
       "      <td>0.986977</td>\n",
       "      <td>250</td>\n",
       "      <td>0.184811</td>\n",
       "      <td>3.310752</td>\n",
       "      <td>0.000000</td>\n",
       "      <td>0.568443</td>\n",
       "      <td>0.068463</td>\n",
       "      <td>8.302956</td>\n",
       "      <td>0.000022</td>\n",
       "      <td>0.000000</td>\n",
       "      <td>339.091388</td>\n",
       "      <td>&lt;scipy.stats._distn_infrastructure.rv_frozen o...</td>\n",
       "    </tr>\n",
       "    <tr>\n",
       "      <th>2018</th>\n",
       "      <td>3.645938</td>\n",
       "      <td>1.042829</td>\n",
       "      <td>192</td>\n",
       "      <td>0.164900</td>\n",
       "      <td>3.441896</td>\n",
       "      <td>0.000000</td>\n",
       "      <td>0.451710</td>\n",
       "      <td>0.079311</td>\n",
       "      <td>5.695414</td>\n",
       "      <td>0.000040</td>\n",
       "      <td>0.000000</td>\n",
       "      <td>249.930998</td>\n",
       "      <td>&lt;scipy.stats._distn_infrastructure.rv_frozen o...</td>\n",
       "    </tr>\n",
       "    <tr>\n",
       "      <th>2019</th>\n",
       "      <td>3.756296</td>\n",
       "      <td>0.806385</td>\n",
       "      <td>135</td>\n",
       "      <td>0.246779</td>\n",
       "      <td>3.381452</td>\n",
       "      <td>0.000000</td>\n",
       "      <td>0.612245</td>\n",
       "      <td>0.088324</td>\n",
       "      <td>6.931776</td>\n",
       "      <td>0.000061</td>\n",
       "      <td>0.000000</td>\n",
       "      <td>208.992899</td>\n",
       "      <td>&lt;scipy.stats._distn_infrastructure.rv_frozen o...</td>\n",
       "    </tr>\n",
       "    <tr>\n",
       "      <th>2020</th>\n",
       "      <td>3.810588</td>\n",
       "      <td>0.113481</td>\n",
       "      <td>17</td>\n",
       "      <td>0.365634</td>\n",
       "      <td>3.069176</td>\n",
       "      <td>0.000013</td>\n",
       "      <td>0.861053</td>\n",
       "      <td>0.167879</td>\n",
       "      <td>5.129022</td>\n",
       "      <td>0.000794</td>\n",
       "      <td>0.000032</td>\n",
       "      <td>25.059122</td>\n",
       "      <td>&lt;scipy.stats._distn_infrastructure.rv_frozen o...</td>\n",
       "    </tr>\n",
       "  </tbody>\n",
       "</table>\n",
       "</div>"
      ],
      "text/plain": [
       "           Book_ratings           Movie normalize_movie_ratings            \\\n",
       "                   mean       var count                     var      mean   \n",
       "Movie_year                                                                  \n",
       "2005           3.728132  0.621609    91                0.306542  3.264659   \n",
       "2006           3.622710  1.017595   107                0.228522  3.346505   \n",
       "2007           3.733077  0.558050    78                0.224912  3.383846   \n",
       "2008           3.683293  0.857057    82                0.175316  3.355902   \n",
       "2009           3.684149  0.910405    94                0.319022  3.323319   \n",
       "2010           3.670741  0.977089   108                0.225784  3.404593   \n",
       "2011           3.602295  0.825015   122                0.208495  3.315377   \n",
       "2012           3.625659  1.222662   129                0.252254  3.259783   \n",
       "2013           3.638598  0.993489   164                0.162983  3.316195   \n",
       "2014           3.758861  0.592952   158                0.218336  3.368380   \n",
       "2015           3.663757  0.892234   173                0.169733  3.340717   \n",
       "2016           3.589415  0.974681   205                0.130424  3.365132   \n",
       "2017           3.633880  0.986977   250                0.184811  3.310752   \n",
       "2018           3.645938  1.042829   192                0.164900  3.441896   \n",
       "2019           3.756296  0.806385   135                0.246779  3.381452   \n",
       "2020           3.810588  0.113481    17                0.365634  3.069176   \n",
       "\n",
       "             p_value numerator denominator test_statistic df_numerator  \\\n",
       "                                                                         \n",
       "Movie_year                                                               \n",
       "2005        0.000000  0.680788    0.100992       6.740985     0.000104   \n",
       "2006        0.000001  0.525553    0.107916       4.869996     0.000136   \n",
       "2007        0.000000  0.590958    0.100190       5.898387     0.000101   \n",
       "2008        0.000001  0.572180    0.112205       5.099428     0.000159   \n",
       "2009        0.000000  0.600691    0.114364       5.252471     0.000171   \n",
       "2010        0.000001  0.515895    0.105535       4.888367     0.000124   \n",
       "2011        0.000000  0.535647    0.092040       5.819712     0.000072   \n",
       "2012        0.000000  0.604877    0.106927       5.656896     0.000131   \n",
       "2013        0.000000  0.567805    0.083974       6.761663     0.000050   \n",
       "2014        0.000000  0.624885    0.071657       8.720497     0.000026   \n",
       "2015        0.000000  0.568366    0.078349       7.254309     0.000038   \n",
       "2016        0.000000  0.473585    0.073422       6.450202     0.000029   \n",
       "2017        0.000000  0.568443    0.068463       8.302956     0.000022   \n",
       "2018        0.000000  0.451710    0.079311       5.695414     0.000040   \n",
       "2019        0.000000  0.612245    0.088324       6.931776     0.000061   \n",
       "2020        0.000013  0.861053    0.167879       5.129022     0.000794   \n",
       "\n",
       "           df_denominator          df  \\\n",
       "                                        \n",
       "Movie_year                              \n",
       "2005             0.000001  161.401635   \n",
       "2006             0.000001  151.323302   \n",
       "2007             0.000001  130.393814   \n",
       "2008             0.000001  112.807160   \n",
       "2009             0.000001  151.049663   \n",
       "2010             0.000001  153.943975   \n",
       "2011             0.000000  178.486149   \n",
       "2012             0.000001  178.660245   \n",
       "2013             0.000000  215.078947   \n",
       "2014             0.000000  258.815847   \n",
       "2015             0.000000  235.154756   \n",
       "2016             0.000000  257.634846   \n",
       "2017             0.000000  339.091388   \n",
       "2018             0.000000  249.930998   \n",
       "2019             0.000000  208.992899   \n",
       "2020             0.000032   25.059122   \n",
       "\n",
       "                                                    student_T  \n",
       "                                                               \n",
       "Movie_year                                                     \n",
       "2005        <scipy.stats._distn_infrastructure.rv_frozen o...  \n",
       "2006        <scipy.stats._distn_infrastructure.rv_frozen o...  \n",
       "2007        <scipy.stats._distn_infrastructure.rv_frozen o...  \n",
       "2008        <scipy.stats._distn_infrastructure.rv_frozen o...  \n",
       "2009        <scipy.stats._distn_infrastructure.rv_frozen o...  \n",
       "2010        <scipy.stats._distn_infrastructure.rv_frozen o...  \n",
       "2011        <scipy.stats._distn_infrastructure.rv_frozen o...  \n",
       "2012        <scipy.stats._distn_infrastructure.rv_frozen o...  \n",
       "2013        <scipy.stats._distn_infrastructure.rv_frozen o...  \n",
       "2014        <scipy.stats._distn_infrastructure.rv_frozen o...  \n",
       "2015        <scipy.stats._distn_infrastructure.rv_frozen o...  \n",
       "2016        <scipy.stats._distn_infrastructure.rv_frozen o...  \n",
       "2017        <scipy.stats._distn_infrastructure.rv_frozen o...  \n",
       "2018        <scipy.stats._distn_infrastructure.rv_frozen o...  \n",
       "2019        <scipy.stats._distn_infrastructure.rv_frozen o...  \n",
       "2020        <scipy.stats._distn_infrastructure.rv_frozen o...  "
      ]
     },
     "execution_count": 422,
     "metadata": {},
     "output_type": "execute_result"
    }
   ],
   "source": [
    "pd_movies_hyt.round(6)"
   ]
  },
  {
   "cell_type": "code",
   "execution_count": null,
   "metadata": {},
   "outputs": [],
   "source": []
  }
 ],
 "metadata": {
  "kernelspec": {
   "display_name": "Python 2",
   "language": "python",
   "name": "python2"
  },
  "language_info": {
   "codemirror_mode": {
    "name": "ipython",
    "version": 2
   },
   "file_extension": ".py",
   "mimetype": "text/x-python",
   "name": "python",
   "nbconvert_exporter": "python",
   "pygments_lexer": "ipython2",
   "version": "2.7.16"
  }
 },
 "nbformat": 4,
 "nbformat_minor": 4
}
