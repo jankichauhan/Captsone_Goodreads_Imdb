{
 "cells": [
  {
   "cell_type": "code",
   "execution_count": 2,
   "metadata": {},
   "outputs": [],
   "source": [
    "import pyspark as ps    # for the pyspark suite\n"
   ]
  },
  {
   "cell_type": "code",
   "execution_count": 3,
   "metadata": {},
   "outputs": [],
   "source": [
    "spark = (ps.sql.SparkSession\n",
    "         .builder\n",
    "         .master('local[4]')\n",
    "         .appName('lecture')\n",
    "         .getOrCreate()\n",
    "        )\n",
    "sc = spark.sparkContext"
   ]
  },
  {
   "cell_type": "code",
   "execution_count": 4,
   "metadata": {},
   "outputs": [
    {
     "data": {
      "text/html": [
       "\n",
       "            <div>\n",
       "                <p><b>SparkSession - in-memory</b></p>\n",
       "                \n",
       "        <div>\n",
       "            <p><b>SparkContext</b></p>\n",
       "\n",
       "            <p><a href=\"http://192.168.1.33:4040\">Spark UI</a></p>\n",
       "\n",
       "            <dl>\n",
       "              <dt>Version</dt>\n",
       "                <dd><code>v2.4.5</code></dd>\n",
       "              <dt>Master</dt>\n",
       "                <dd><code>local[4]</code></dd>\n",
       "              <dt>AppName</dt>\n",
       "                <dd><code>lecture</code></dd>\n",
       "            </dl>\n",
       "        </div>\n",
       "        \n",
       "            </div>\n",
       "        "
      ],
      "text/plain": [
       "<pyspark.sql.session.SparkSession at 0x110300e10>"
      ]
     },
     "execution_count": 4,
     "metadata": {},
     "output_type": "execute_result"
    }
   ],
   "source": [
    "spark"
   ]
  },
  {
   "cell_type": "code",
   "execution_count": 59,
   "metadata": {},
   "outputs": [
    {
     "ename": "AnalysisException",
     "evalue": "u\"Database 'imdb' already exists;\"",
     "output_type": "error",
     "traceback": [
      "\u001b[0;31m---------------------------------------------------------------------------\u001b[0m",
      "\u001b[0;31mAnalysisException\u001b[0m                         Traceback (most recent call last)",
      "\u001b[0;32m<ipython-input-59-8bf9889d66d8>\u001b[0m in \u001b[0;36m<module>\u001b[0;34m()\u001b[0m\n\u001b[0;32m----> 1\u001b[0;31m \u001b[0mspark\u001b[0m\u001b[0;34m.\u001b[0m\u001b[0msql\u001b[0m\u001b[0;34m(\u001b[0m\u001b[0;34m\"Create Database Imdb\"\u001b[0m\u001b[0;34m)\u001b[0m\u001b[0;34m.\u001b[0m\u001b[0mshow\u001b[0m\u001b[0;34m(\u001b[0m\u001b[0;34m)\u001b[0m\u001b[0;34m\u001b[0m\u001b[0m\n\u001b[0m",
      "\u001b[0;32m/Users/janki/opt/anaconda2/lib/python2.7/site-packages/pyspark/sql/session.pyc\u001b[0m in \u001b[0;36msql\u001b[0;34m(self, sqlQuery)\u001b[0m\n\u001b[1;32m    765\u001b[0m         \u001b[0;34m[\u001b[0m\u001b[0mRow\u001b[0m\u001b[0;34m(\u001b[0m\u001b[0mf1\u001b[0m\u001b[0;34m=\u001b[0m\u001b[0;36m1\u001b[0m\u001b[0;34m,\u001b[0m \u001b[0mf2\u001b[0m\u001b[0;34m=\u001b[0m\u001b[0;34mu'row1'\u001b[0m\u001b[0;34m)\u001b[0m\u001b[0;34m,\u001b[0m \u001b[0mRow\u001b[0m\u001b[0;34m(\u001b[0m\u001b[0mf1\u001b[0m\u001b[0;34m=\u001b[0m\u001b[0;36m2\u001b[0m\u001b[0;34m,\u001b[0m \u001b[0mf2\u001b[0m\u001b[0;34m=\u001b[0m\u001b[0;34mu'row2'\u001b[0m\u001b[0;34m)\u001b[0m\u001b[0;34m,\u001b[0m \u001b[0mRow\u001b[0m\u001b[0;34m(\u001b[0m\u001b[0mf1\u001b[0m\u001b[0;34m=\u001b[0m\u001b[0;36m3\u001b[0m\u001b[0;34m,\u001b[0m \u001b[0mf2\u001b[0m\u001b[0;34m=\u001b[0m\u001b[0;34mu'row3'\u001b[0m\u001b[0;34m)\u001b[0m\u001b[0;34m]\u001b[0m\u001b[0;34m\u001b[0m\u001b[0m\n\u001b[1;32m    766\u001b[0m         \"\"\"\n\u001b[0;32m--> 767\u001b[0;31m         \u001b[0;32mreturn\u001b[0m \u001b[0mDataFrame\u001b[0m\u001b[0;34m(\u001b[0m\u001b[0mself\u001b[0m\u001b[0;34m.\u001b[0m\u001b[0m_jsparkSession\u001b[0m\u001b[0;34m.\u001b[0m\u001b[0msql\u001b[0m\u001b[0;34m(\u001b[0m\u001b[0msqlQuery\u001b[0m\u001b[0;34m)\u001b[0m\u001b[0;34m,\u001b[0m \u001b[0mself\u001b[0m\u001b[0;34m.\u001b[0m\u001b[0m_wrapped\u001b[0m\u001b[0;34m)\u001b[0m\u001b[0;34m\u001b[0m\u001b[0m\n\u001b[0m\u001b[1;32m    768\u001b[0m \u001b[0;34m\u001b[0m\u001b[0m\n\u001b[1;32m    769\u001b[0m     \u001b[0;34m@\u001b[0m\u001b[0msince\u001b[0m\u001b[0;34m(\u001b[0m\u001b[0;36m2.0\u001b[0m\u001b[0;34m)\u001b[0m\u001b[0;34m\u001b[0m\u001b[0m\n",
      "\u001b[0;32m/Users/janki/opt/anaconda2/lib/python2.7/site-packages/py4j/java_gateway.pyc\u001b[0m in \u001b[0;36m__call__\u001b[0;34m(self, *args)\u001b[0m\n\u001b[1;32m   1255\u001b[0m         \u001b[0manswer\u001b[0m \u001b[0;34m=\u001b[0m \u001b[0mself\u001b[0m\u001b[0;34m.\u001b[0m\u001b[0mgateway_client\u001b[0m\u001b[0;34m.\u001b[0m\u001b[0msend_command\u001b[0m\u001b[0;34m(\u001b[0m\u001b[0mcommand\u001b[0m\u001b[0;34m)\u001b[0m\u001b[0;34m\u001b[0m\u001b[0m\n\u001b[1;32m   1256\u001b[0m         return_value = get_return_value(\n\u001b[0;32m-> 1257\u001b[0;31m             answer, self.gateway_client, self.target_id, self.name)\n\u001b[0m\u001b[1;32m   1258\u001b[0m \u001b[0;34m\u001b[0m\u001b[0m\n\u001b[1;32m   1259\u001b[0m         \u001b[0;32mfor\u001b[0m \u001b[0mtemp_arg\u001b[0m \u001b[0;32min\u001b[0m \u001b[0mtemp_args\u001b[0m\u001b[0;34m:\u001b[0m\u001b[0;34m\u001b[0m\u001b[0m\n",
      "\u001b[0;32m/Users/janki/opt/anaconda2/lib/python2.7/site-packages/pyspark/sql/utils.pyc\u001b[0m in \u001b[0;36mdeco\u001b[0;34m(*a, **kw)\u001b[0m\n\u001b[1;32m     69\u001b[0m                 \u001b[0;32mraise\u001b[0m \u001b[0mAnalysisException\u001b[0m\u001b[0;34m(\u001b[0m\u001b[0ms\u001b[0m\u001b[0;34m.\u001b[0m\u001b[0msplit\u001b[0m\u001b[0;34m(\u001b[0m\u001b[0;34m': '\u001b[0m\u001b[0;34m,\u001b[0m \u001b[0;36m1\u001b[0m\u001b[0;34m)\u001b[0m\u001b[0;34m[\u001b[0m\u001b[0;36m1\u001b[0m\u001b[0;34m]\u001b[0m\u001b[0;34m,\u001b[0m \u001b[0mstackTrace\u001b[0m\u001b[0;34m)\u001b[0m\u001b[0;34m\u001b[0m\u001b[0m\n\u001b[1;32m     70\u001b[0m             \u001b[0;32mif\u001b[0m \u001b[0ms\u001b[0m\u001b[0;34m.\u001b[0m\u001b[0mstartswith\u001b[0m\u001b[0;34m(\u001b[0m\u001b[0;34m'org.apache.spark.sql.catalyst.analysis'\u001b[0m\u001b[0;34m)\u001b[0m\u001b[0;34m:\u001b[0m\u001b[0;34m\u001b[0m\u001b[0m\n\u001b[0;32m---> 71\u001b[0;31m                 \u001b[0;32mraise\u001b[0m \u001b[0mAnalysisException\u001b[0m\u001b[0;34m(\u001b[0m\u001b[0ms\u001b[0m\u001b[0;34m.\u001b[0m\u001b[0msplit\u001b[0m\u001b[0;34m(\u001b[0m\u001b[0;34m': '\u001b[0m\u001b[0;34m,\u001b[0m \u001b[0;36m1\u001b[0m\u001b[0;34m)\u001b[0m\u001b[0;34m[\u001b[0m\u001b[0;36m1\u001b[0m\u001b[0;34m]\u001b[0m\u001b[0;34m,\u001b[0m \u001b[0mstackTrace\u001b[0m\u001b[0;34m)\u001b[0m\u001b[0;34m\u001b[0m\u001b[0m\n\u001b[0m\u001b[1;32m     72\u001b[0m             \u001b[0;32mif\u001b[0m \u001b[0ms\u001b[0m\u001b[0;34m.\u001b[0m\u001b[0mstartswith\u001b[0m\u001b[0;34m(\u001b[0m\u001b[0;34m'org.apache.spark.sql.catalyst.parser.ParseException: '\u001b[0m\u001b[0;34m)\u001b[0m\u001b[0;34m:\u001b[0m\u001b[0;34m\u001b[0m\u001b[0m\n\u001b[1;32m     73\u001b[0m                 \u001b[0;32mraise\u001b[0m \u001b[0mParseException\u001b[0m\u001b[0;34m(\u001b[0m\u001b[0ms\u001b[0m\u001b[0;34m.\u001b[0m\u001b[0msplit\u001b[0m\u001b[0;34m(\u001b[0m\u001b[0;34m': '\u001b[0m\u001b[0;34m,\u001b[0m \u001b[0;36m1\u001b[0m\u001b[0;34m)\u001b[0m\u001b[0;34m[\u001b[0m\u001b[0;36m1\u001b[0m\u001b[0;34m]\u001b[0m\u001b[0;34m,\u001b[0m \u001b[0mstackTrace\u001b[0m\u001b[0;34m)\u001b[0m\u001b[0;34m\u001b[0m\u001b[0m\n",
      "\u001b[0;31mAnalysisException\u001b[0m: u\"Database 'imdb' already exists;\""
     ]
    }
   ],
   "source": [
    "spark.sql(\"Create Database Imdb\").show()"
   ]
  },
  {
   "cell_type": "code",
   "execution_count": 60,
   "metadata": {},
   "outputs": [],
   "source": [
    "df_movie_raw = spark.read.csv('data/title.basics.tsv',\n",
    "                         header=True,       # use headers or not\n",
    "                         quote='\"',         # char for quotes\n",
    "                         sep=\"\\t\",           # char for separation\n",
    "                         inferSchema=True)  # do we infer schema or not ?"
   ]
  },
  {
   "cell_type": "code",
   "execution_count": 6,
   "metadata": {},
   "outputs": [
    {
     "name": "stdout",
     "output_type": "stream",
     "text": [
      "+---------+---------+--------------------+--------------------+-------+---------+-------+--------------+--------------------+\n",
      "|   tconst|titleType|        primaryTitle|       originalTitle|isAdult|startYear|endYear|runtimeMinutes|              genres|\n",
      "+---------+---------+--------------------+--------------------+-------+---------+-------+--------------+--------------------+\n",
      "|tt0000001|    short|          Carmencita|          Carmencita|      0|     1894|     \\N|             1|   Documentary,Short|\n",
      "|tt0000002|    short|Le clown et ses c...|Le clown et ses c...|      0|     1892|     \\N|             5|     Animation,Short|\n",
      "|tt0000003|    short|      Pauvre Pierrot|      Pauvre Pierrot|      0|     1892|     \\N|             4|Animation,Comedy,...|\n",
      "|tt0000004|    short|         Un bon bock|         Un bon bock|      0|     1892|     \\N|            12|     Animation,Short|\n",
      "|tt0000005|    short|    Blacksmith Scene|    Blacksmith Scene|      0|     1893|     \\N|             1|        Comedy,Short|\n",
      "+---------+---------+--------------------+--------------------+-------+---------+-------+--------------+--------------------+\n",
      "only showing top 5 rows\n",
      "\n"
     ]
    }
   ],
   "source": [
    "df_movie_raw.show(5)"
   ]
  },
  {
   "cell_type": "code",
   "execution_count": 7,
   "metadata": {},
   "outputs": [
    {
     "name": "stdout",
     "output_type": "stream",
     "text": [
      "root\n",
      " |-- tconst: string (nullable = true)\n",
      " |-- titleType: string (nullable = true)\n",
      " |-- primaryTitle: string (nullable = true)\n",
      " |-- originalTitle: string (nullable = true)\n",
      " |-- isAdult: integer (nullable = true)\n",
      " |-- startYear: string (nullable = true)\n",
      " |-- endYear: string (nullable = true)\n",
      " |-- runtimeMinutes: string (nullable = true)\n",
      " |-- genres: string (nullable = true)\n",
      "\n"
     ]
    }
   ],
   "source": [
    "df_movie_raw.printSchema()"
   ]
  },
  {
   "cell_type": "code",
   "execution_count": 61,
   "metadata": {},
   "outputs": [],
   "source": [
    "df_movie_raw.createOrReplaceTempView('Imdb_All')\n"
   ]
  },
  {
   "cell_type": "code",
   "execution_count": 62,
   "metadata": {},
   "outputs": [
    {
     "name": "stdout",
     "output_type": "stream",
     "text": [
      "+--------------+---------+-------+\n",
      "|      col_name|data_type|comment|\n",
      "+--------------+---------+-------+\n",
      "|        tconst|   string|   null|\n",
      "|     titleType|   string|   null|\n",
      "|  primaryTitle|   string|   null|\n",
      "| originalTitle|   string|   null|\n",
      "|       isAdult|      int|   null|\n",
      "|     startYear|   string|   null|\n",
      "|       endYear|   string|   null|\n",
      "|runtimeMinutes|   string|   null|\n",
      "|        genres|   string|   null|\n",
      "+--------------+---------+-------+\n",
      "\n"
     ]
    }
   ],
   "source": [
    "spark.sql(\"Desc Imdb_All\").show()"
   ]
  },
  {
   "cell_type": "code",
   "execution_count": 47,
   "metadata": {},
   "outputs": [
    {
     "name": "stdout",
     "output_type": "stream",
     "text": [
      "+------------+\n",
      "|   titleType|\n",
      "+------------+\n",
      "|    tvSeries|\n",
      "|tvMiniSeries|\n",
      "|     tvMovie|\n",
      "|   tvEpisode|\n",
      "|       movie|\n",
      "|   tvSpecial|\n",
      "|       video|\n",
      "|   videoGame|\n",
      "|     tvShort|\n",
      "|       short|\n",
      "+------------+\n",
      "\n"
     ]
    }
   ],
   "source": [
    "spark.sql(\"Select distinct(m.titleType) from Imdb_All m\").show()"
   ]
  },
  {
   "cell_type": "code",
   "execution_count": 49,
   "metadata": {},
   "outputs": [],
   "source": [
    "pd_df_Movies = spark.sql(\"select * from Imdb_All m where m.titleType in ('tvMovie','movie')\").toPandas()"
   ]
  },
  {
   "cell_type": "code",
   "execution_count": 55,
   "metadata": {},
   "outputs": [
    {
     "data": {
      "text/plain": [
       "tconst            667934\n",
       "titleType         667934\n",
       "primaryTitle      667934\n",
       "originalTitle     667934\n",
       "isAdult           667934\n",
       "startYear         667934\n",
       "endYear           667934\n",
       "runtimeMinutes    667934\n",
       "genres            667934\n",
       "dtype: int64"
      ]
     },
     "execution_count": 55,
     "metadata": {},
     "output_type": "execute_result"
    }
   ],
   "source": [
    "pd_df_Movies.count()"
   ]
  },
  {
   "cell_type": "code",
   "execution_count": 63,
   "metadata": {},
   "outputs": [],
   "source": [
    "df_ratings_raw = spark.read.csv('data/title.ratings.tsv',\n",
    "                         header=True,       # use headers or not\n",
    "                         quote='\"',         # char for quotes\n",
    "                         sep=\"\\t\",           # char for separation\n",
    "                         inferSchema=True)  # do we infer schema or not ?"
   ]
  },
  {
   "cell_type": "code",
   "execution_count": 50,
   "metadata": {},
   "outputs": [
    {
     "data": {
      "text/plain": [
       "Row(tconst=u'tt0000001', averageRating=5.6, numVotes=1593)"
      ]
     },
     "execution_count": 50,
     "metadata": {},
     "output_type": "execute_result"
    }
   ],
   "source": []
  },
  {
   "cell_type": "code",
   "execution_count": 15,
   "metadata": {},
   "outputs": [
    {
     "name": "stdout",
     "output_type": "stream",
     "text": [
      "root\n",
      " |-- tconst: string (nullable = true)\n",
      " |-- averageRating: double (nullable = true)\n",
      " |-- numVotes: integer (nullable = true)\n",
      "\n"
     ]
    }
   ],
   "source": [
    "df_ratings_raw.printSchema()"
   ]
  },
  {
   "cell_type": "code",
   "execution_count": 64,
   "metadata": {},
   "outputs": [],
   "source": [
    "df_ratings_raw.createOrReplaceTempView('Ratings')"
   ]
  },
  {
   "cell_type": "code",
   "execution_count": 65,
   "metadata": {},
   "outputs": [
    {
     "name": "stdout",
     "output_type": "stream",
     "text": [
      "+-------------+---------+-------+\n",
      "|     col_name|data_type|comment|\n",
      "+-------------+---------+-------+\n",
      "|       tconst|   string|   null|\n",
      "|averageRating|   double|   null|\n",
      "|     numVotes|      int|   null|\n",
      "+-------------+---------+-------+\n",
      "\n"
     ]
    }
   ],
   "source": [
    "spark.sql(\"Desc Ratings\").show()"
   ]
  },
  {
   "cell_type": "code",
   "execution_count": 66,
   "metadata": {},
   "outputs": [
    {
     "name": "stdout",
     "output_type": "stream",
     "text": [
      "+---------+-------------+--------+\n",
      "|   tconst|averageRating|numVotes|\n",
      "+---------+-------------+--------+\n",
      "|tt0000001|          5.6|    1593|\n",
      "|tt0000002|          6.0|     195|\n",
      "|tt0000003|          6.5|    1266|\n",
      "|tt0000004|          6.1|     121|\n",
      "|tt0000005|          6.1|    2029|\n",
      "|tt0000006|          5.1|     111|\n",
      "|tt0000007|          5.4|     632|\n",
      "|tt0000008|          5.4|    1741|\n",
      "|tt0000009|          5.3|      89|\n",
      "|tt0000010|          6.9|    5746|\n",
      "+---------+-------------+--------+\n",
      "only showing top 10 rows\n",
      "\n"
     ]
    }
   ],
   "source": [
    "spark.sql(\"Select * from Ratings\").show(10)"
   ]
  },
  {
   "cell_type": "code",
   "execution_count": 67,
   "metadata": {},
   "outputs": [],
   "source": [
    "df_principal_crew_raw = spark.read.csv('data/title.principals.tsv',\n",
    "                         header=True,       # use headers or not\n",
    "                         quote='\"',         # char for quotes\n",
    "                         sep=\"\\t\",           # char for separation\n",
    "                         inferSchema=True)  # do we infer schema or not ?"
   ]
  },
  {
   "cell_type": "code",
   "execution_count": 22,
   "metadata": {},
   "outputs": [
    {
     "name": "stdout",
     "output_type": "stream",
     "text": [
      "+---------+--------+---------+---------------+--------------------+----------+\n",
      "|   tconst|ordering|   nconst|       category|                 job|characters|\n",
      "+---------+--------+---------+---------------+--------------------+----------+\n",
      "|tt0000001|       1|nm1588970|           self|                  \\N|  [\"Self\"]|\n",
      "|tt0000001|       2|nm0005690|       director|                  \\N|        \\N|\n",
      "|tt0000001|       3|nm0374658|cinematographer|director of photo...|        \\N|\n",
      "|tt0000002|       1|nm0721526|       director|                  \\N|        \\N|\n",
      "|tt0000002|       2|nm1335271|       composer|                  \\N|        \\N|\n",
      "+---------+--------+---------+---------------+--------------------+----------+\n",
      "only showing top 5 rows\n",
      "\n"
     ]
    }
   ],
   "source": [
    "df_principal_crew_raw.show(5)"
   ]
  },
  {
   "cell_type": "code",
   "execution_count": 23,
   "metadata": {},
   "outputs": [
    {
     "name": "stdout",
     "output_type": "stream",
     "text": [
      "root\n",
      " |-- tconst: string (nullable = true)\n",
      " |-- ordering: integer (nullable = true)\n",
      " |-- nconst: string (nullable = true)\n",
      " |-- category: string (nullable = true)\n",
      " |-- job: string (nullable = true)\n",
      " |-- characters: string (nullable = true)\n",
      "\n"
     ]
    }
   ],
   "source": [
    "df_principal_crew_raw.printSchema()"
   ]
  },
  {
   "cell_type": "code",
   "execution_count": 68,
   "metadata": {},
   "outputs": [],
   "source": [
    "df_principal_crew_raw.createOrReplaceTempView('Principal_Crew')"
   ]
  },
  {
   "cell_type": "code",
   "execution_count": 69,
   "metadata": {},
   "outputs": [
    {
     "name": "stdout",
     "output_type": "stream",
     "text": [
      "+----------+---------+-------+\n",
      "|  col_name|data_type|comment|\n",
      "+----------+---------+-------+\n",
      "|    tconst|   string|   null|\n",
      "|  ordering|      int|   null|\n",
      "|    nconst|   string|   null|\n",
      "|  category|   string|   null|\n",
      "|       job|   string|   null|\n",
      "|characters|   string|   null|\n",
      "+----------+---------+-------+\n",
      "\n"
     ]
    }
   ],
   "source": [
    "spark.sql(\"Desc Principal_Crew\").show()"
   ]
  },
  {
   "cell_type": "code",
   "execution_count": 29,
   "metadata": {},
   "outputs": [
    {
     "name": "stdout",
     "output_type": "stream",
     "text": [
      "+-------------------+\n",
      "|           category|\n",
      "+-------------------+\n",
      "|            actress|\n",
      "|           producer|\n",
      "|             writer|\n",
      "|           composer|\n",
      "|           director|\n",
      "|               self|\n",
      "|              actor|\n",
      "|             editor|\n",
      "|    cinematographer|\n",
      "|      archive_sound|\n",
      "|production_designer|\n",
      "|    archive_footage|\n",
      "+-------------------+\n",
      "\n"
     ]
    }
   ],
   "source": [
    "spark.sql(\"Select distinct(category) from Principal_Crew\").show()"
   ]
  },
  {
   "cell_type": "code",
   "execution_count": 30,
   "metadata": {},
   "outputs": [
    {
     "name": "stdout",
     "output_type": "stream",
     "text": [
      "+---------+--------+----------+--------+------------------+--------------------+\n",
      "|   tconst|ordering|    nconst|category|               job|          characters|\n",
      "+---------+--------+----------+--------+------------------+--------------------+\n",
      "|tt9916880|      10| nm2676923| actress|                \\N|[\"Sour Susan\",\"Go...|\n",
      "|tt9916880|       1| nm1483166|   actor|                \\N|[\"Rude Ralph\",\"Mi...|\n",
      "|tt9916880|       2| nm0254176| actress|                \\N|  [\"Moody Margaret\"]|\n",
      "|tt9916880|       3| nm0286175|   actor|                \\N|[\"Dad\",\"Aerobic A...|\n",
      "|tt9916880|       4|nm10535738| actress|                \\N|    [\"Horrid Henry\"]|\n",
      "|tt9916880|       5| nm0996406|director|principal director|                  \\N|\n",
      "|tt9916880|       6| nm1482639|  writer|                \\N|                  \\N|\n",
      "|tt9916880|       7| nm2586970|  writer|             books|                  \\N|\n",
      "|tt9916880|       8| nm1594058|producer|          producer|                  \\N|\n",
      "|tt9916880|       9| nm1052583| actress|                \\N|[\"Mum\",\"Tidy Ted\"...|\n",
      "+---------+--------+----------+--------+------------------+--------------------+\n",
      "\n"
     ]
    }
   ],
   "source": [
    "spark.sql(\"select * from Principal_Crew where tconst = 'tt9916880'\").show()"
   ]
  },
  {
   "cell_type": "code",
   "execution_count": 114,
   "metadata": {},
   "outputs": [
    {
     "name": "stdout",
     "output_type": "stream",
     "text": [
      "+------------------------------------------------------------------+\n",
      "|job                                                               |\n",
      "+------------------------------------------------------------------+\n",
      "|\"A Box in Town\" by                                                |\n",
      "|\"A Kidnapped Santa Claus\" and other tales                         |\n",
      "|\"A Midsummer Night's Dream\" sequence                              |\n",
      "|\"Alan A'Dale\" sketch                                              |\n",
      "|\"Alien\" characters                                                |\n",
      "|\"All in the Family\" written by                                    |\n",
      "|\"And Afterwards at...\" by                                         |\n",
      "|\"Archy and Mehitabel\" stories                                     |\n",
      "|\"Barney and the Backyard Gang\" and \"Barney & Friends\" developed by|\n",
      "|\"Battletoads\" created by                                          |\n",
      "|\"Biohazard 2/Resident Evil 2\" characters                          |\n",
      "|\"Blue's Clues\" created by                                         |\n",
      "|\"Boog Zapper\" segment                                             |\n",
      "|\"Buttons\" concept                                                 |\n",
      "|\"Call of Duty: Zombies\" created by                                |\n",
      "|\"Casino\" segment written by                                       |\n",
      "|\"Charlie's Angels\" and \"Matrix Reloaded\" skits                    |\n",
      "|\"Clayhanger\" novels                                               |\n",
      "|\"Computer Dating Sketch\" written by                               |\n",
      "|\"Constable\" novels                                                |\n",
      "|\"Corner Gas\" segment                                              |\n",
      "|\"Crime of Fashion\" series                                         |\n",
      "|\"Crossed Swords\" by                                               |\n",
      "|\"Danny Dunn\" books                                                |\n",
      "|\"Dead Ringers Birthday Treats\" segments                           |\n",
      "|\"Dinner for One\" by                                               |\n",
      "|\"Dishonored\" characters by                                        |\n",
      "|\"Doctor Dolittle\" stories by                                      |\n",
      "|\"Double Dragon\" created by                                        |\n",
      "|\"Dracula\" characters                                              |\n",
      "|\"Felicity\" stories from \"The American Girl Collection\"            |\n",
      "|\"Final Fantasy VII\" characters                                    |\n",
      "|\"Flying Fortress\" written by                                      |\n",
      "|\"Full House\" by                                                   |\n",
      "|\"Good Times\" written by                                           |\n",
      "|\"He Who Kills\" written by                                         |\n",
      "|\"Highland\" novels                                                 |\n",
      "|\"Homes Fit for Heroes\" by                                         |\n",
      "|\"Judoon\" & \"Captain Jack\" created by                              |\n",
      "|\"Little Bear\" books                                               |\n",
      "|\"Markheim\" adapted by                                             |\n",
      "|\"Molly\" stories from the \"American Girl Collection\"               |\n",
      "|\"Morlocks\" created by                                             |\n",
      "|\"My Best Friend's Wedding\" written by                             |\n",
      "|\"My Take\" segment                                                 |\n",
      "|\"Never Enough Henrys\" segment                                     |\n",
      "|\"Nurse Matilda\" books                                             |\n",
      "|\"Observations of a Mere Man\" written by                           |\n",
      "|\"Odoru yakuza\" play series                                        |\n",
      "|\"Osbournes in Japan\" special feature                              |\n",
      "+------------------------------------------------------------------+\n",
      "only showing top 50 rows\n",
      "\n"
     ]
    }
   ],
   "source": [
    "spark.sql(\"Select distinct(job) from Principal_Crew where category = 'writer' order by job\").show(50, False)"
   ]
  },
  {
   "cell_type": "code",
   "execution_count": 90,
   "metadata": {},
   "outputs": [
    {
     "name": "stdout",
     "output_type": "stream",
     "text": [
      "+----------+\n",
      "|characters|\n",
      "+----------+\n",
      "|\\N        |\n",
      "+----------+\n",
      "\n"
     ]
    }
   ],
   "source": [
    "spark.sql(\"Select distinct(characters) from Principal_Crew where category = 'writer'\").show(200, False)"
   ]
  },
  {
   "cell_type": "code",
   "execution_count": 70,
   "metadata": {},
   "outputs": [],
   "source": [
    "df_crew_names = spark.read.csv('data/name.basics.tsv',\n",
    "                         header=True,       # use headers or not\n",
    "                         quote='\"',         # char for quotes\n",
    "                         sep=\"\\t\",           # char for separation\n",
    "                         inferSchema=True)  # do we infer schema or not ?"
   ]
  },
  {
   "cell_type": "code",
   "execution_count": 39,
   "metadata": {},
   "outputs": [
    {
     "name": "stdout",
     "output_type": "stream",
     "text": [
      "root\n",
      " |-- nconst: string (nullable = true)\n",
      " |-- primaryName: string (nullable = true)\n",
      " |-- birthYear: string (nullable = true)\n",
      " |-- deathYear: string (nullable = true)\n",
      " |-- primaryProfession: string (nullable = true)\n",
      " |-- knownForTitles: string (nullable = true)\n",
      "\n"
     ]
    }
   ],
   "source": [
    "df_crew_names.printSchema()"
   ]
  },
  {
   "cell_type": "code",
   "execution_count": 71,
   "metadata": {},
   "outputs": [],
   "source": [
    "df_crew_names.createOrReplaceTempView('Crew_names')\n"
   ]
  },
  {
   "cell_type": "code",
   "execution_count": 72,
   "metadata": {},
   "outputs": [
    {
     "name": "stdout",
     "output_type": "stream",
     "text": [
      "+-----------------+---------+-------+\n",
      "|         col_name|data_type|comment|\n",
      "+-----------------+---------+-------+\n",
      "|           nconst|   string|   null|\n",
      "|      primaryName|   string|   null|\n",
      "|        birthYear|   string|   null|\n",
      "|        deathYear|   string|   null|\n",
      "|primaryProfession|   string|   null|\n",
      "|   knownForTitles|   string|   null|\n",
      "+-----------------+---------+-------+\n",
      "\n"
     ]
    }
   ],
   "source": [
    "spark.sql(\"Desc Crew_names\").show()"
   ]
  },
  {
   "cell_type": "code",
   "execution_count": 122,
   "metadata": {},
   "outputs": [
    {
     "name": "stdout",
     "output_type": "stream",
     "text": [
      "+--------+------------------+-----------+\n",
      "|database|         tableName|isTemporary|\n",
      "+--------+------------------+-----------+\n",
      "|        |        crew_names|       true|\n",
      "|        |          imdb_all|       true|\n",
      "|        |            movies|       true|\n",
      "|        |movies_and_ratings|       true|\n",
      "|        |    principal_crew|       true|\n",
      "|        |           ratings|       true|\n",
      "|        |       writer_info|       true|\n",
      "|        |           writers|       true|\n",
      "+--------+------------------+-----------+\n",
      "\n"
     ]
    }
   ],
   "source": [
    "spark.sql(\"Show tables\").show()"
   ]
  },
  {
   "cell_type": "code",
   "execution_count": 75,
   "metadata": {},
   "outputs": [
    {
     "name": "stdout",
     "output_type": "stream",
     "text": [
      "++\n",
      "||\n",
      "++\n",
      "++\n",
      "\n"
     ]
    }
   ],
   "source": [
    "spark.sql(\"Drop table movies\").show()"
   ]
  },
  {
   "cell_type": "code",
   "execution_count": 80,
   "metadata": {},
   "outputs": [],
   "source": [
    "df_movies = spark.sql(\"select * from Imdb_All m where m.titleType in ('tvMovie','movie')\")"
   ]
  },
  {
   "cell_type": "code",
   "execution_count": 81,
   "metadata": {},
   "outputs": [
    {
     "name": "stdout",
     "output_type": "stream",
     "text": [
      "root\n",
      " |-- tconst: string (nullable = true)\n",
      " |-- titleType: string (nullable = true)\n",
      " |-- primaryTitle: string (nullable = true)\n",
      " |-- originalTitle: string (nullable = true)\n",
      " |-- isAdult: integer (nullable = true)\n",
      " |-- startYear: string (nullable = true)\n",
      " |-- endYear: string (nullable = true)\n",
      " |-- runtimeMinutes: string (nullable = true)\n",
      " |-- genres: string (nullable = true)\n",
      "\n"
     ]
    }
   ],
   "source": [
    "df_movies.printSchema()"
   ]
  },
  {
   "cell_type": "code",
   "execution_count": 82,
   "metadata": {},
   "outputs": [],
   "source": [
    "df_movies.createOrReplaceTempView('Movies')"
   ]
  },
  {
   "cell_type": "code",
   "execution_count": 85,
   "metadata": {},
   "outputs": [
    {
     "name": "stdout",
     "output_type": "stream",
     "text": [
      "+---------+\n",
      "|titleType|\n",
      "+---------+\n",
      "|  tvMovie|\n",
      "|    movie|\n",
      "+---------+\n",
      "\n"
     ]
    }
   ],
   "source": [
    "spark.sql(\"Select distinct(m.titleType) from Movies m\").show()"
   ]
  },
  {
   "cell_type": "code",
   "execution_count": 91,
   "metadata": {},
   "outputs": [],
   "source": [
    "df_writers = spark.sql(\"Select tconst, nconst, category, job from Principal_Crew where category = 'writer'\")"
   ]
  },
  {
   "cell_type": "code",
   "execution_count": 92,
   "metadata": {},
   "outputs": [
    {
     "name": "stdout",
     "output_type": "stream",
     "text": [
      "root\n",
      " |-- tconst: string (nullable = true)\n",
      " |-- nconst: string (nullable = true)\n",
      " |-- category: string (nullable = true)\n",
      " |-- job: string (nullable = true)\n",
      "\n"
     ]
    }
   ],
   "source": [
    "df_writers.printSchema()"
   ]
  },
  {
   "cell_type": "code",
   "execution_count": 93,
   "metadata": {},
   "outputs": [],
   "source": [
    "df_writers.createOrReplaceTempView('Writers')"
   ]
  },
  {
   "cell_type": "code",
   "execution_count": 94,
   "metadata": {},
   "outputs": [
    {
     "name": "stdout",
     "output_type": "stream",
     "text": [
      "+--------+---------+-------+\n",
      "|col_name|data_type|comment|\n",
      "+--------+---------+-------+\n",
      "|  tconst|   string|   null|\n",
      "|  nconst|   string|   null|\n",
      "|category|   string|   null|\n",
      "|     job|   string|   null|\n",
      "+--------+---------+-------+\n",
      "\n"
     ]
    }
   ],
   "source": [
    "spark.sql(\"Desc Writers\").show()"
   ]
  },
  {
   "cell_type": "code",
   "execution_count": 96,
   "metadata": {},
   "outputs": [
    {
     "name": "stdout",
     "output_type": "stream",
     "text": [
      "+--------------+---------+-------+\n",
      "|      col_name|data_type|comment|\n",
      "+--------------+---------+-------+\n",
      "|        tconst|   string|   null|\n",
      "|     titleType|   string|   null|\n",
      "|  primaryTitle|   string|   null|\n",
      "| originalTitle|   string|   null|\n",
      "|       isAdult|      int|   null|\n",
      "|     startYear|   string|   null|\n",
      "|       endYear|   string|   null|\n",
      "|runtimeMinutes|   string|   null|\n",
      "|        genres|   string|   null|\n",
      "+--------------+---------+-------+\n",
      "\n"
     ]
    }
   ],
   "source": [
    "spark.sql(\"Desc Movies\").show()"
   ]
  },
  {
   "cell_type": "code",
   "execution_count": 97,
   "metadata": {},
   "outputs": [
    {
     "name": "stdout",
     "output_type": "stream",
     "text": [
      "+-------------+---------+-------+\n",
      "|     col_name|data_type|comment|\n",
      "+-------------+---------+-------+\n",
      "|       tconst|   string|   null|\n",
      "|averageRating|   double|   null|\n",
      "|     numVotes|      int|   null|\n",
      "+-------------+---------+-------+\n",
      "\n"
     ]
    }
   ],
   "source": [
    "spark.sql(\"Desc ratings\").show()"
   ]
  },
  {
   "cell_type": "code",
   "execution_count": 98,
   "metadata": {},
   "outputs": [],
   "source": [
    "df_movies_ratings = spark.sql(\"select m.tconst as movie_id, m.titleType as title_type, m.primaryTitle as primary_title, m.originalTitle as original_title, m.startYear as year, m.runtimeMinutes as runtime_mins, m.genres as genres, r.averageRating as avg_ratings, r.numVotes as votes from Movies m inner join ratings r on m.tconst = r.tconst\")"
   ]
  },
  {
   "cell_type": "code",
   "execution_count": 99,
   "metadata": {},
   "outputs": [
    {
     "name": "stdout",
     "output_type": "stream",
     "text": [
      "root\n",
      " |-- movie_id: string (nullable = true)\n",
      " |-- title_type: string (nullable = true)\n",
      " |-- primary_title: string (nullable = true)\n",
      " |-- original_title: string (nullable = true)\n",
      " |-- year: string (nullable = true)\n",
      " |-- runtime_mins: string (nullable = true)\n",
      " |-- genres: string (nullable = true)\n",
      " |-- avg_ratings: double (nullable = true)\n",
      " |-- votes: integer (nullable = true)\n",
      "\n"
     ]
    }
   ],
   "source": [
    "df_movies_ratings.printSchema()"
   ]
  },
  {
   "cell_type": "code",
   "execution_count": 100,
   "metadata": {},
   "outputs": [
    {
     "data": {
      "text/plain": [
       "[Row(movie_id=u'tt0002588', title_type=u'movie', primary_title=u'Zigomar contre Nick Carter', original_title=u'Zigomar contre Nick Carter', year=u'1912', runtime_mins=u'48', genres=u'Crime,Thriller', avg_ratings=6.4, votes=14),\n",
       " Row(movie_id=u'tt0004272', title_type=u'movie', primary_title=u'Lucille Love: The Girl of Mystery', original_title=u'Lucille Love: The Girl of Mystery', year=u'1914', runtime_mins=u'300', genres=u'Action', avg_ratings=5.9, votes=8),\n",
       " Row(movie_id=u'tt0004336', title_type=u'movie', primary_title=u'The Million Dollar Mystery', original_title=u'The Million Dollar Mystery', year=u'1914', runtime_mins=u'\\\\N', genres=u'Adventure,Mystery', avg_ratings=5.6, votes=20),\n",
       " Row(movie_id=u'tt0005209', title_type=u'movie', primary_title=u'Don Quixote', original_title=u'Don Quixote', year=u'1915', runtime_mins=u'50', genres=u'Drama', avg_ratings=5.7, votes=9),\n",
       " Row(movie_id=u'tt0006204', title_type=u'movie', primary_title=u'The Valley of Decision', original_title=u'The Valley of Decision', year=u'1916', runtime_mins=u'50', genres=u'Drama', avg_ratings=6.1, votes=7)]"
      ]
     },
     "execution_count": 100,
     "metadata": {},
     "output_type": "execute_result"
    }
   ],
   "source": [
    "df_movies_ratings.take(5)"
   ]
  },
  {
   "cell_type": "code",
   "execution_count": 101,
   "metadata": {},
   "outputs": [],
   "source": [
    "df_movies_ratings.createOrReplaceTempView('Movies_and_Ratings')"
   ]
  },
  {
   "cell_type": "code",
   "execution_count": 102,
   "metadata": {},
   "outputs": [
    {
     "name": "stdout",
     "output_type": "stream",
     "text": [
      "+--------------+---------+-------+\n",
      "|      col_name|data_type|comment|\n",
      "+--------------+---------+-------+\n",
      "|      movie_id|   string|   null|\n",
      "|    title_type|   string|   null|\n",
      "| primary_title|   string|   null|\n",
      "|original_title|   string|   null|\n",
      "|          year|   string|   null|\n",
      "|  runtime_mins|   string|   null|\n",
      "|        genres|   string|   null|\n",
      "|   avg_ratings|   double|   null|\n",
      "|         votes|      int|   null|\n",
      "+--------------+---------+-------+\n",
      "\n"
     ]
    }
   ],
   "source": [
    "spark.sql(\"Desc Movies_and_Ratings\").show()"
   ]
  },
  {
   "cell_type": "code",
   "execution_count": 103,
   "metadata": {},
   "outputs": [
    {
     "name": "stdout",
     "output_type": "stream",
     "text": [
      "+---------+----------+--------------------+--------------------+----+------------+-----------------+-----------+-----+\n",
      "| movie_id|title_type|       primary_title|      original_title|year|runtime_mins|           genres|avg_ratings|votes|\n",
      "+---------+----------+--------------------+--------------------+----+------------+-----------------+-----------+-----+\n",
      "|tt0002588|     movie|Zigomar contre Ni...|Zigomar contre Ni...|1912|          48|   Crime,Thriller|        6.4|   14|\n",
      "|tt0004272|     movie|Lucille Love: The...|Lucille Love: The...|1914|         300|           Action|        5.9|    8|\n",
      "|tt0004336|     movie|The Million Dolla...|The Million Dolla...|1914|          \\N|Adventure,Mystery|        5.6|   20|\n",
      "|tt0005209|     movie|         Don Quixote|         Don Quixote|1915|          50|            Drama|        5.7|    9|\n",
      "|tt0006204|     movie|The Valley of Dec...|The Valley of Dec...|1916|          50|            Drama|        6.1|    7|\n",
      "|tt0006489|     movie|     The Captive God|     The Captive God|1916|          50|Adventure,History|        5.4|   16|\n",
      "|tt0006819|     movie|Hoffmanns Erzählu...|Hoffmanns Erzählu...|1916|          67|          Fantasy|        6.4|   31|\n",
      "|tt0010060|     movie|The Delicious Lit...|The Delicious Lit...|1919|          63|     Comedy,Drama|        5.9|  810|\n",
      "|tt0011011|     movie|           Boccaccio|           Boccaccio|1920|          \\N|               \\N|        5.5|   13|\n",
      "|tt0011031|     movie|The Hunchback and...|Der Bucklige und ...|1920|          50|           Horror|        6.3|   46|\n",
      "+---------+----------+--------------------+--------------------+----+------------+-----------------+-----------+-----+\n",
      "only showing top 10 rows\n",
      "\n"
     ]
    }
   ],
   "source": [
    "spark.sql(\"select * from Movies_and_Ratings\").show(10)"
   ]
  },
  {
   "cell_type": "code",
   "execution_count": 104,
   "metadata": {},
   "outputs": [
    {
     "name": "stdout",
     "output_type": "stream",
     "text": [
      "+--------+---------+-------+\n",
      "|col_name|data_type|comment|\n",
      "+--------+---------+-------+\n",
      "|  tconst|   string|   null|\n",
      "|  nconst|   string|   null|\n",
      "|category|   string|   null|\n",
      "|     job|   string|   null|\n",
      "+--------+---------+-------+\n",
      "\n"
     ]
    }
   ],
   "source": [
    "spark.sql(\"Desc Writers\").show()"
   ]
  },
  {
   "cell_type": "code",
   "execution_count": 105,
   "metadata": {},
   "outputs": [
    {
     "name": "stdout",
     "output_type": "stream",
     "text": [
      "+-----------------+---------+-------+\n",
      "|         col_name|data_type|comment|\n",
      "+-----------------+---------+-------+\n",
      "|           nconst|   string|   null|\n",
      "|      primaryName|   string|   null|\n",
      "|        birthYear|   string|   null|\n",
      "|        deathYear|   string|   null|\n",
      "|primaryProfession|   string|   null|\n",
      "|   knownForTitles|   string|   null|\n",
      "+-----------------+---------+-------+\n",
      "\n"
     ]
    }
   ],
   "source": [
    "spark.sql(\"Desc crew_names\").show()"
   ]
  },
  {
   "cell_type": "code",
   "execution_count": 117,
   "metadata": {},
   "outputs": [
    {
     "name": "stdout",
     "output_type": "stream",
     "text": [
      "+-------------------------------------------------------+\n",
      "|job                                                    |\n",
      "+-------------------------------------------------------+\n",
      "|Book \"Heart Of The Blackhawks: The Pierre Pilote Story\"|\n",
      "|Book \"Heart Of The Blackhawks: The Pierre Pilote Story\"|\n",
      "|Book Author                                            |\n",
      "|Book by                                                |\n",
      "|based on \"A Christmas Carol\" by                        |\n",
      "|based on \"A Film Star's Holiday\" story by              |\n",
      "|based on \"A Giacometti Portrait\" by                    |\n",
      "|based on \"A Song of Ice and Fire\" by                   |\n",
      "|based on \"A Song of Ice and Fire\" by                   |\n",
      "|based on \"A Song of Ice and Fire\" by                   |\n",
      "|based on \"A Song of Ice and Fire\" by                   |\n",
      "|based on \"A Song of Ice and Fire\" by                   |\n",
      "|based on \"A Song of Ice and Fire\" by                   |\n",
      "|based on \"A Song of Ice and Fire\" by                   |\n",
      "|based on \"A Song of Ice and Fire\" by                   |\n",
      "|based on \"A Song of Ice and Fire\" by                   |\n",
      "|based on \"A Song of Ice and Fire\" by                   |\n",
      "|based on \"A Song of Ice and Fire\" by                   |\n",
      "|based on \"A Song of Ice and Fire\" by                   |\n",
      "|based on \"A Song of Ice and Fire\" by                   |\n",
      "|based on \"A Song of Ice and Fire\" by                   |\n",
      "|based on \"A Song of Ice and Fire\" by                   |\n",
      "|based on \"A Song of Ice and Fire\" by                   |\n",
      "|based on \"A Song of Ice and Fire\" by                   |\n",
      "|based on \"A Song of Ice and Fire\" by                   |\n",
      "|based on \"A Song of Ice and Fire\" by                   |\n",
      "|based on \"A Song of Ice and Fire\" by                   |\n",
      "|based on \"A Song of Ice and Fire\" by                   |\n",
      "|based on \"A Song of Ice and Fire\" by                   |\n",
      "|based on \"A Song of Ice and Fire\" by                   |\n",
      "|based on \"A Song of Ice and Fire\" by                   |\n",
      "|based on \"A Song of Ice and Fire\" by                   |\n",
      "|based on \"A Song of Ice and Fire\" by                   |\n",
      "|based on \"A Song of Ice and Fire\" by                   |\n",
      "|based on \"A Song of Ice and Fire\" by                   |\n",
      "|based on \"A Song of Ice and Fire\" by                   |\n",
      "|based on \"A Song of Ice and Fire\" by                   |\n",
      "|based on \"A Song of Ice and Fire\" by                   |\n",
      "|based on \"A Song of Ice and Fire\" by                   |\n",
      "|based on \"A Song of Ice and Fire\" by                   |\n",
      "|based on \"A Song of Ice and Fire\" by                   |\n",
      "|based on \"A Song of Ice and Fire\" by                   |\n",
      "|based on \"A Song of Ice and Fire\" by                   |\n",
      "|based on \"A Song of Ice and Fire\" by                   |\n",
      "|based on \"A Song of Ice and Fire\" by                   |\n",
      "|based on \"A Song of Ice and Fire\" by                   |\n",
      "|based on \"A Song of Ice and Fire\" by                   |\n",
      "|based on \"A Song of Ice and Fire\" by                   |\n",
      "|based on \"A Song of Ice and Fire\" by                   |\n",
      "|based on \"A Song of Ice and Fire\" by                   |\n",
      "|based on \"A Song of Ice and Fire\" by                   |\n",
      "|based on \"A Song of Ice and Fire\" by                   |\n",
      "|based on \"A Song of Ice and Fire\" by                   |\n",
      "|based on \"A Song of Ice and Fire\" by                   |\n",
      "|based on \"A Song of Ice and Fire\" by                   |\n",
      "|based on \"A Song of Ice and Fire\" by                   |\n",
      "|based on \"A Song of Ice and Fire\" by                   |\n",
      "|based on \"A Song of Ice and Fire\" by                   |\n",
      "|based on \"A Song of Ice and Fire\" by                   |\n",
      "|based on \"A Song of Ice and Fire\" by                   |\n",
      "|based on \"A Song of Ice and Fire\" by                   |\n",
      "|based on \"A Song of Ice and Fire\" by                   |\n",
      "|based on \"A Song of Ice and Fire\" by                   |\n",
      "|based on \"A Song of Ice and Fire\" by                   |\n",
      "|based on \"A Song of Ice and Fire\" by                   |\n",
      "|based on \"A Song of Ice and Fire\" by                   |\n",
      "|based on \"A Song of Ice and Fire\" by                   |\n",
      "|based on \"A Song of Ice and Fire\" by                   |\n",
      "|based on \"A Song of Ice and Fire\" by                   |\n",
      "|based on \"A Song of Ice and Fire\" by                   |\n",
      "|based on \"A Song of Ice and Fire\" by                   |\n",
      "|based on \"A Song of Ice and Fire\" by                   |\n",
      "|based on \"A Song of Ice and Fire\" by                   |\n",
      "|based on \"A Song of Ice and Fire\" by                   |\n",
      "|based on \"A Song of Ice and Fire\" by                   |\n",
      "|based on \"A Song of Ice and Fire\" by                   |\n",
      "|based on \"A Song of Ice and Fire\" by                   |\n",
      "|based on \"A Song of Ice and Fire\" by                   |\n",
      "|based on \"A Song of Ice and Fire\" by                   |\n",
      "|based on \"A Song of Ice and Fire\" by                   |\n",
      "|based on \"Affair at St. Albans\"                        |\n",
      "|based on \"American Dream\" written by                   |\n",
      "|based on \"And They Shall Walk\" by                      |\n",
      "|based on \"Anne of Green Gables\"                        |\n",
      "|based on \"Anne of Green Gables\"                        |\n",
      "|based on \"Anne of Green Gables\"                        |\n",
      "|based on \"Anne of Green Gables\"                        |\n",
      "|based on \"Anne of Green Gables\"                        |\n",
      "|based on \"Anne of Green Gables\"                        |\n",
      "|based on \"Anne of Green Gables\"                        |\n",
      "|based on \"Anne of Green Gables\"                        |\n",
      "|based on \"Anne of Green Gables\"                        |\n",
      "|based on \"Anne of Green Gables\"                        |\n",
      "|based on \"Anne of Green Gables\"                        |\n",
      "|based on \"Anne of Green Gables\"                        |\n",
      "|based on \"Anne of Green Gables\"                        |\n",
      "|based on \"Anne of Green Gables\"                        |\n",
      "|based on \"Anne of Green Gables\"                        |\n",
      "|based on \"Anne of Green Gables\"                        |\n",
      "|based on \"Anne of Green Gables\"                        |\n",
      "|based on \"Anne of Green Gables\"                        |\n",
      "|based on \"Anne of Green Gables\"                        |\n",
      "|based on \"Anne of Green Gables\"                        |\n",
      "|based on \"Bad Faith\" written by                        |\n",
      "|based on \"Bangkok Rules\" written by                    |\n",
      "|based on \"Big Stickup At Brink's\"                      |\n",
      "|based on \"Bitter Fruit\" written by                     |\n",
      "|based on \"Bitter Fruit\" written by                     |\n",
      "|based on \"Black Suits You\" by                          |\n",
      "|based on \"Born Bad\" written by                         |\n",
      "|based on \"Born Bad\" written by                         |\n",
      "|based on \"Charles Augustas Milverton\"                  |\n",
      "|based on \"Child's Play\" screenplay by                  |\n",
      "|based on \"Child's Play\" screenplay by                  |\n",
      "|based on \"Child's Play\" screenplay by                  |\n",
      "|based on \"City in the Sea\"                             |\n",
      "|based on \"Consultation\" written by                     |\n",
      "|based on \"Consultation\" written by                     |\n",
      "|based on \"Corruption\" story by                         |\n",
      "|based on \"Corruption\" written by                       |\n",
      "|based on \"Cradle to Grave\" written by                  |\n",
      "|based on \"Cradle to Grave\" written by                  |\n",
      "|based on \"DNR\" written by                              |\n",
      "|based on \"Dear Jack: A Love Letter\" written by         |\n",
      "|based on \"Death Note\" by: In Shonen Jump               |\n",
      "|based on \"Death Note\" by: In Shonen Jump               |\n",
      "|based on \"Die Bruder Grimm\"                            |\n",
      "|based on \"Dirk Gently's Holistic Detecive Agency\" by   |\n",
      "|based on \"El Día de los Muertos\", short story by       |\n",
      "|based on \"Elvi's Eigen Wereld\" book by                 |\n",
      "|based on \"Endurance\" written by                        |\n",
      "|based on \"Es geschah am hellichten Tag\" by             |\n",
      "|based on \"Escape from New York\" written by             |\n",
      "|based on \"Escape from New York\" written by             |\n",
      "|based on \"Esquire Magazine\" story by                   |\n",
      "|based on \"Esquire Magazine\" story by                   |\n",
      "|based on \"Expresso Bongo\" by                           |\n",
      "|based on \"Expresso Bongo\" by                           |\n",
      "|based on \"Fixer-Upper Mysteries\"                       |\n",
      "|based on \"Flateyjargátu\" by                            |\n",
      "|based on \"Flateyjargátu\" by                            |\n",
      "|based on \"Flateyjargátu\" by                            |\n",
      "|based on \"Flateyjargátu\" by                            |\n",
      "|based on \"George & Mildred\" created by                 |\n",
      "|based on \"George & Mildred\" created by                 |\n",
      "|based on \"George & Mildred\" created by                 |\n",
      "|based on \"George & Mildred\" created by                 |\n",
      "|based on \"George & Mildred\" created by                 |\n",
      "|based on \"George & Mildred\" created by                 |\n",
      "|based on \"George & Mildred\" created by                 |\n",
      "|based on \"George & Mildred\" created by                 |\n",
      "|based on \"George & Mildred\" created by                 |\n",
      "|based on \"George & Mildred\" created by                 |\n",
      "|based on \"George & Mildred\" created by                 |\n",
      "|based on \"Good Girl\" written by                        |\n",
      "|based on \"Gulliver's Travels\"                          |\n",
      "|based on \"Heaven\" story by                             |\n",
      "|based on \"Heaven\" written by                           |\n",
      "|based on \"Helpless\" written by                         |\n",
      "|based on \"Helpless\" written by                         |\n",
      "|based on \"Homesick\" story by                           |\n",
      "|based on \"Homesick\" written by                         |\n",
      "|based on \"Homesick\" written by                         |\n",
      "|based on \"Homestuck\" created by                        |\n",
      "|based on \"I Picked up a Hitchhiker\" story by           |\n",
      "|based on \"Idle Hands\"                                  |\n",
      "|based on \"If This Is a Man\" by                         |\n",
      "|based on \"In Memory Of...\" written by                  |\n",
      "|based on \"In Memory Of...\" written by                  |\n",
      "|based on \"In Memory of ...\" story by                   |\n",
      "|based on \"Inspector Lynley Mysteries\"                  |\n",
      "|based on \"Inspector Lynley Mysteries\"                  |\n",
      "|based on \"Inspector Lynley Mysteries\"                  |\n",
      "|based on \"J.D. Salinger: A Life Raised High\" by        |\n",
      "|based on \"Jingle All the Way\" written by               |\n",
      "|based on \"Ju-On: The Grudge\" written by                |\n",
      "|based on \"Killerz\" written by                          |\n",
      "|based on \"La Belle au bois dormant\" written by         |\n",
      "|based on \"Le Mariage de Figaro\" by                     |\n",
      "|based on \"Le Morte D'Arthur\"                           |\n",
      "|based on \"Le Petit Prince\" by                          |\n",
      "|based on \"Les Enfants\" by                              |\n",
      "|based on \"Les Six Hommes Morts\"                        |\n",
      "|based on \"Mad Dog\" written by                          |\n",
      "|based on \"Madame Bovary\"                               |\n",
      "|based on \"Man About the House\" created by              |\n",
      "|based on \"Man About the House\" created by              |\n",
      "|based on \"Man About the House\" created by              |\n",
      "|based on \"Man About the House\" created by              |\n",
      "|based on \"Man About the House\" created by              |\n",
      "|based on \"Man About the House\" created by              |\n",
      "|based on \"Man About the House\" created by              |\n",
      "|based on \"Man About the House\" created by              |\n",
      "|based on \"Man About the House\" created by              |\n",
      "|based on \"Man About the House\" created by              |\n",
      "|based on \"Man About the House\" created by              |\n",
      "|based on \"Man About the House\" created by              |\n",
      "|based on \"Man About the House\" created by              |\n",
      "|based on \"Man About the House\" created by              |\n",
      "|based on \"Man About the House\" created by              |\n",
      "+-------------------------------------------------------+\n",
      "only showing top 200 rows\n",
      "\n"
     ]
    }
   ],
   "source": [
    "spark.sql(\"select job from Writers where job like 'novel %' OR job like 'Book %' OR job like 'based on %'order by job\").show(200, False)"
   ]
  },
  {
   "cell_type": "code",
   "execution_count": 119,
   "metadata": {},
   "outputs": [],
   "source": [
    "df_writer_info = spark.sql(\"select w.tconst as movie_id, w.nconst as crew_id, w.category as category, c.primaryName as name, c.birthYear as birth_year, c.primaryProfession as profession, w.job as job_desc from Writers w inner join crew_names c on w.nconst = c.nconst\")"
   ]
  },
  {
   "cell_type": "code",
   "execution_count": 120,
   "metadata": {},
   "outputs": [
    {
     "name": "stdout",
     "output_type": "stream",
     "text": [
      "root\n",
      " |-- movie_id: string (nullable = true)\n",
      " |-- crew_id: string (nullable = true)\n",
      " |-- category: string (nullable = true)\n",
      " |-- name: string (nullable = true)\n",
      " |-- birth_year: string (nullable = true)\n",
      " |-- profession: string (nullable = true)\n",
      " |-- job_desc: string (nullable = true)\n",
      "\n"
     ]
    }
   ],
   "source": [
    "df_writer_info.printSchema()"
   ]
  },
  {
   "cell_type": "code",
   "execution_count": 121,
   "metadata": {},
   "outputs": [],
   "source": [
    "df_writer_info.createOrReplaceTempView(\"Writer_Info\")"
   ]
  },
  {
   "cell_type": "code",
   "execution_count": 124,
   "metadata": {},
   "outputs": [
    {
     "name": "stdout",
     "output_type": "stream",
     "text": [
      "+----------+---------+--------+------------+----------+--------------------+--------------------+\n",
      "|  movie_id|  crew_id|category|        name|birth_year|          profession|            job_desc|\n",
      "+----------+---------+--------+------------+----------+--------------------+--------------------+\n",
      "| tt0241527|nm0746830|  writer|J.K. Rowling|      1965|writer,producer,s...|               novel|\n",
      "| tt0295297|nm0746830|  writer|J.K. Rowling|      1965|writer,producer,s...|               novel|\n",
      "| tt0304140|nm0746830|  writer|J.K. Rowling|      1965|writer,producer,s...|characters and un...|\n",
      "| tt0304141|nm0746830|  writer|J.K. Rowling|      1965|writer,producer,s...|               novel|\n",
      "| tt0304142|nm0746830|  writer|J.K. Rowling|      1965|writer,producer,s...|characters and un...|\n",
      "| tt0330373|nm0746830|  writer|J.K. Rowling|      1965|writer,producer,s...|               novel|\n",
      "| tt0373889|nm0746830|  writer|J.K. Rowling|      1965|writer,producer,s...|               novel|\n",
      "| tt0388991|nm0746830|  writer|J.K. Rowling|      1965|writer,producer,s...|characters and un...|\n",
      "| tt0414084|nm0746830|  writer|J.K. Rowling|      1965|writer,producer,s...|characters and un...|\n",
      "| tt0417741|nm0746830|  writer|J.K. Rowling|      1965|writer,producer,s...|               novel|\n",
      "| tt0481740|nm0746830|  writer|J.K. Rowling|      1965|writer,producer,s...|               novel|\n",
      "| tt0764644|nm0746830|  writer|J.K. Rowling|      1965|writer,producer,s...|characters and un...|\n",
      "| tt0926084|nm0746830|  writer|J.K. Rowling|      1965|writer,producer,s...|novel \"Harry Pott...|\n",
      "| tt0944836|nm0746830|  writer|J.K. Rowling|      1965|writer,producer,s...|characters and un...|\n",
      "|tt10356222|nm0746830|  writer|J.K. Rowling|      1965|writer,producer,s...|          characters|\n",
      "|tt10470340|nm0746830|  writer|J.K. Rowling|      1965|writer,producer,s...|characters: Volde...|\n",
      "| tt1201607|nm0746830|  writer|J.K. Rowling|      1965|writer,producer,s...|novel \"Harry Pott...|\n",
      "| tt1395738|nm0746830|  writer|J.K. Rowling|      1965|writer,producer,s...|characters and un...|\n",
      "| tt1454016|nm0746830|  writer|J.K. Rowling|      1965|writer,producer,s...|characters and un...|\n",
      "| tt1454621|nm0746830|  writer|J.K. Rowling|      1965|writer,producer,s...|               novel|\n",
      "+----------+---------+--------+------------+----------+--------------------+--------------------+\n",
      "only showing top 20 rows\n",
      "\n"
     ]
    }
   ],
   "source": [
    "spark.sql(\"select * from Writer_Info where name like '%Rowling%'\").show()"
   ]
  },
  {
   "cell_type": "code",
   "execution_count": null,
   "metadata": {},
   "outputs": [],
   "source": []
  }
 ],
 "metadata": {
  "kernelspec": {
   "display_name": "Python 2",
   "language": "python",
   "name": "python2"
  },
  "language_info": {
   "codemirror_mode": {
    "name": "ipython",
    "version": 2
   },
   "file_extension": ".py",
   "mimetype": "text/x-python",
   "name": "python",
   "nbconvert_exporter": "python",
   "pygments_lexer": "ipython2",
   "version": "2.7.16"
  }
 },
 "nbformat": 4,
 "nbformat_minor": 2
}
