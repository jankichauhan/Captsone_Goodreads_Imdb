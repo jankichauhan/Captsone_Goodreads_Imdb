{
 "cells": [
  {
   "cell_type": "code",
   "execution_count": 2,
   "metadata": {},
   "outputs": [],
   "source": [
    "import pyspark as ps    # for the pyspark suite\n"
   ]
  },
  {
   "cell_type": "code",
   "execution_count": 3,
   "metadata": {},
   "outputs": [],
   "source": [
    "spark = (ps.sql.SparkSession\n",
    "         .builder\n",
    "         .master('local[4]')\n",
    "         .appName('lecture')\n",
    "         .getOrCreate()\n",
    "        )\n",
    "sc = spark.sparkContext"
   ]
  },
  {
   "cell_type": "code",
   "execution_count": 4,
   "metadata": {},
   "outputs": [
    {
     "data": {
      "text/html": [
       "\n",
       "            <div>\n",
       "                <p><b>SparkSession - in-memory</b></p>\n",
       "                \n",
       "        <div>\n",
       "            <p><b>SparkContext</b></p>\n",
       "\n",
       "            <p><a href=\"http://192.168.1.33:4040\">Spark UI</a></p>\n",
       "\n",
       "            <dl>\n",
       "              <dt>Version</dt>\n",
       "                <dd><code>v2.4.5</code></dd>\n",
       "              <dt>Master</dt>\n",
       "                <dd><code>local[4]</code></dd>\n",
       "              <dt>AppName</dt>\n",
       "                <dd><code>lecture</code></dd>\n",
       "            </dl>\n",
       "        </div>\n",
       "        \n",
       "            </div>\n",
       "        "
      ],
      "text/plain": [
       "<pyspark.sql.session.SparkSession at 0x110300e10>"
      ]
     },
     "execution_count": 4,
     "metadata": {},
     "output_type": "execute_result"
    }
   ],
   "source": [
    "spark"
   ]
  },
  {
   "cell_type": "code",
   "execution_count": 5,
   "metadata": {},
   "outputs": [],
   "source": [
    "df_movie_raw = spark.read.csv('data/title.basics.tsv',\n",
    "                         header=True,       # use headers or not\n",
    "                         quote='\"',         # char for quotes\n",
    "                         sep=\"\\t\",           # char for separation\n",
    "                         inferSchema=True)  # do we infer schema or not ?"
   ]
  },
  {
   "cell_type": "code",
   "execution_count": 6,
   "metadata": {},
   "outputs": [
    {
     "name": "stdout",
     "output_type": "stream",
     "text": [
      "+---------+---------+--------------------+--------------------+-------+---------+-------+--------------+--------------------+\n",
      "|   tconst|titleType|        primaryTitle|       originalTitle|isAdult|startYear|endYear|runtimeMinutes|              genres|\n",
      "+---------+---------+--------------------+--------------------+-------+---------+-------+--------------+--------------------+\n",
      "|tt0000001|    short|          Carmencita|          Carmencita|      0|     1894|     \\N|             1|   Documentary,Short|\n",
      "|tt0000002|    short|Le clown et ses c...|Le clown et ses c...|      0|     1892|     \\N|             5|     Animation,Short|\n",
      "|tt0000003|    short|      Pauvre Pierrot|      Pauvre Pierrot|      0|     1892|     \\N|             4|Animation,Comedy,...|\n",
      "|tt0000004|    short|         Un bon bock|         Un bon bock|      0|     1892|     \\N|            12|     Animation,Short|\n",
      "|tt0000005|    short|    Blacksmith Scene|    Blacksmith Scene|      0|     1893|     \\N|             1|        Comedy,Short|\n",
      "+---------+---------+--------------------+--------------------+-------+---------+-------+--------------+--------------------+\n",
      "only showing top 5 rows\n",
      "\n"
     ]
    }
   ],
   "source": [
    "df_movie_raw.show(5)"
   ]
  },
  {
   "cell_type": "code",
   "execution_count": 7,
   "metadata": {},
   "outputs": [
    {
     "name": "stdout",
     "output_type": "stream",
     "text": [
      "root\n",
      " |-- tconst: string (nullable = true)\n",
      " |-- titleType: string (nullable = true)\n",
      " |-- primaryTitle: string (nullable = true)\n",
      " |-- originalTitle: string (nullable = true)\n",
      " |-- isAdult: integer (nullable = true)\n",
      " |-- startYear: string (nullable = true)\n",
      " |-- endYear: string (nullable = true)\n",
      " |-- runtimeMinutes: string (nullable = true)\n",
      " |-- genres: string (nullable = true)\n",
      "\n"
     ]
    }
   ],
   "source": [
    "df_movie_raw.printSchema()"
   ]
  },
  {
   "cell_type": "code",
   "execution_count": 8,
   "metadata": {},
   "outputs": [],
   "source": [
    "df_movie_raw.createOrReplaceTempView('Movies')\n"
   ]
  },
  {
   "cell_type": "code",
   "execution_count": 10,
   "metadata": {},
   "outputs": [
    {
     "name": "stdout",
     "output_type": "stream",
     "text": [
      "+--------------+---------+-------+\n",
      "|      col_name|data_type|comment|\n",
      "+--------------+---------+-------+\n",
      "|        tconst|   string|   null|\n",
      "|     titleType|   string|   null|\n",
      "|  primaryTitle|   string|   null|\n",
      "| originalTitle|   string|   null|\n",
      "|       isAdult|      int|   null|\n",
      "|     startYear|   string|   null|\n",
      "|       endYear|   string|   null|\n",
      "|runtimeMinutes|   string|   null|\n",
      "|        genres|   string|   null|\n",
      "+--------------+---------+-------+\n",
      "\n"
     ]
    }
   ],
   "source": [
    "spark.sql(\"Desc Movies\").show()"
   ]
  },
  {
   "cell_type": "code",
   "execution_count": 12,
   "metadata": {},
   "outputs": [
    {
     "name": "stdout",
     "output_type": "stream",
     "text": [
      "+------------+\n",
      "|   titleType|\n",
      "+------------+\n",
      "|    tvSeries|\n",
      "|tvMiniSeries|\n",
      "|     tvMovie|\n",
      "|   tvEpisode|\n",
      "|       movie|\n",
      "|   tvSpecial|\n",
      "|       video|\n",
      "|   videoGame|\n",
      "|     tvShort|\n",
      "|       short|\n",
      "+------------+\n",
      "\n"
     ]
    }
   ],
   "source": [
    "spark.sql(\"Select distinct(m.titleType) from Movies m\").show()"
   ]
  },
  {
   "cell_type": "code",
   "execution_count": 13,
   "metadata": {},
   "outputs": [],
   "source": [
    "df_ratings_raw = spark.read.csv('data/title.ratings.tsv',\n",
    "                         header=True,       # use headers or not\n",
    "                         quote='\"',         # char for quotes\n",
    "                         sep=\"\\t\",           # char for separation\n",
    "                         inferSchema=True)  # do we infer schema or not ?"
   ]
  },
  {
   "cell_type": "code",
   "execution_count": 15,
   "metadata": {},
   "outputs": [
    {
     "name": "stdout",
     "output_type": "stream",
     "text": [
      "root\n",
      " |-- tconst: string (nullable = true)\n",
      " |-- averageRating: double (nullable = true)\n",
      " |-- numVotes: integer (nullable = true)\n",
      "\n"
     ]
    }
   ],
   "source": [
    "df_ratings_raw.printSchema()"
   ]
  },
  {
   "cell_type": "code",
   "execution_count": 16,
   "metadata": {},
   "outputs": [],
   "source": [
    "df_ratings_raw.createOrReplaceTempView('Ratings')"
   ]
  },
  {
   "cell_type": "code",
   "execution_count": 17,
   "metadata": {},
   "outputs": [
    {
     "name": "stdout",
     "output_type": "stream",
     "text": [
      "+-------------+---------+-------+\n",
      "|     col_name|data_type|comment|\n",
      "+-------------+---------+-------+\n",
      "|       tconst|   string|   null|\n",
      "|averageRating|   double|   null|\n",
      "|     numVotes|      int|   null|\n",
      "+-------------+---------+-------+\n",
      "\n"
     ]
    }
   ],
   "source": [
    "spark.sql(\"Desc Ratings\").show()"
   ]
  },
  {
   "cell_type": "code",
   "execution_count": 18,
   "metadata": {},
   "outputs": [
    {
     "name": "stdout",
     "output_type": "stream",
     "text": [
      "+---------+-------------+--------+\n",
      "|   tconst|averageRating|numVotes|\n",
      "+---------+-------------+--------+\n",
      "|tt0000001|          5.6|    1593|\n",
      "|tt0000002|          6.0|     195|\n",
      "|tt0000003|          6.5|    1266|\n",
      "|tt0000004|          6.1|     121|\n",
      "|tt0000005|          6.1|    2029|\n",
      "|tt0000006|          5.1|     111|\n",
      "|tt0000007|          5.4|     632|\n",
      "|tt0000008|          5.4|    1741|\n",
      "|tt0000009|          5.3|      89|\n",
      "|tt0000010|          6.9|    5746|\n",
      "+---------+-------------+--------+\n",
      "only showing top 10 rows\n",
      "\n"
     ]
    }
   ],
   "source": [
    "spark.sql(\"Select * from Ratings\").show(10)"
   ]
  },
  {
   "cell_type": "code",
   "execution_count": 21,
   "metadata": {},
   "outputs": [],
   "source": [
    "df_principal_crew_raw = spark.read.csv('data/title.principals.tsv',\n",
    "                         header=True,       # use headers or not\n",
    "                         quote='\"',         # char for quotes\n",
    "                         sep=\"\\t\",           # char for separation\n",
    "                         inferSchema=True)  # do we infer schema or not ?"
   ]
  },
  {
   "cell_type": "code",
   "execution_count": 22,
   "metadata": {},
   "outputs": [
    {
     "name": "stdout",
     "output_type": "stream",
     "text": [
      "+---------+--------+---------+---------------+--------------------+----------+\n",
      "|   tconst|ordering|   nconst|       category|                 job|characters|\n",
      "+---------+--------+---------+---------------+--------------------+----------+\n",
      "|tt0000001|       1|nm1588970|           self|                  \\N|  [\"Self\"]|\n",
      "|tt0000001|       2|nm0005690|       director|                  \\N|        \\N|\n",
      "|tt0000001|       3|nm0374658|cinematographer|director of photo...|        \\N|\n",
      "|tt0000002|       1|nm0721526|       director|                  \\N|        \\N|\n",
      "|tt0000002|       2|nm1335271|       composer|                  \\N|        \\N|\n",
      "+---------+--------+---------+---------------+--------------------+----------+\n",
      "only showing top 5 rows\n",
      "\n"
     ]
    }
   ],
   "source": [
    "df_principal_crew_raw.show(5)"
   ]
  },
  {
   "cell_type": "code",
   "execution_count": 23,
   "metadata": {},
   "outputs": [
    {
     "name": "stdout",
     "output_type": "stream",
     "text": [
      "root\n",
      " |-- tconst: string (nullable = true)\n",
      " |-- ordering: integer (nullable = true)\n",
      " |-- nconst: string (nullable = true)\n",
      " |-- category: string (nullable = true)\n",
      " |-- job: string (nullable = true)\n",
      " |-- characters: string (nullable = true)\n",
      "\n"
     ]
    }
   ],
   "source": [
    "df_principal_crew_raw.printSchema()"
   ]
  },
  {
   "cell_type": "code",
   "execution_count": 24,
   "metadata": {},
   "outputs": [],
   "source": [
    "df_principal_crew_raw.createOrReplaceTempView('Principal_Crew')"
   ]
  },
  {
   "cell_type": "code",
   "execution_count": 25,
   "metadata": {},
   "outputs": [
    {
     "name": "stdout",
     "output_type": "stream",
     "text": [
      "+----------+---------+-------+\n",
      "|  col_name|data_type|comment|\n",
      "+----------+---------+-------+\n",
      "|    tconst|   string|   null|\n",
      "|  ordering|      int|   null|\n",
      "|    nconst|   string|   null|\n",
      "|  category|   string|   null|\n",
      "|       job|   string|   null|\n",
      "|characters|   string|   null|\n",
      "+----------+---------+-------+\n",
      "\n"
     ]
    }
   ],
   "source": [
    "spark.sql(\"Desc Principal_Crew\").show()"
   ]
  },
  {
   "cell_type": "code",
   "execution_count": 29,
   "metadata": {},
   "outputs": [
    {
     "name": "stdout",
     "output_type": "stream",
     "text": [
      "+-------------------+\n",
      "|           category|\n",
      "+-------------------+\n",
      "|            actress|\n",
      "|           producer|\n",
      "|             writer|\n",
      "|           composer|\n",
      "|           director|\n",
      "|               self|\n",
      "|              actor|\n",
      "|             editor|\n",
      "|    cinematographer|\n",
      "|      archive_sound|\n",
      "|production_designer|\n",
      "|    archive_footage|\n",
      "+-------------------+\n",
      "\n"
     ]
    }
   ],
   "source": [
    "spark.sql(\"Select distinct(category) from Principal_Crew\").show()"
   ]
  },
  {
   "cell_type": "code",
   "execution_count": 30,
   "metadata": {},
   "outputs": [
    {
     "name": "stdout",
     "output_type": "stream",
     "text": [
      "+---------+--------+----------+--------+------------------+--------------------+\n",
      "|   tconst|ordering|    nconst|category|               job|          characters|\n",
      "+---------+--------+----------+--------+------------------+--------------------+\n",
      "|tt9916880|      10| nm2676923| actress|                \\N|[\"Sour Susan\",\"Go...|\n",
      "|tt9916880|       1| nm1483166|   actor|                \\N|[\"Rude Ralph\",\"Mi...|\n",
      "|tt9916880|       2| nm0254176| actress|                \\N|  [\"Moody Margaret\"]|\n",
      "|tt9916880|       3| nm0286175|   actor|                \\N|[\"Dad\",\"Aerobic A...|\n",
      "|tt9916880|       4|nm10535738| actress|                \\N|    [\"Horrid Henry\"]|\n",
      "|tt9916880|       5| nm0996406|director|principal director|                  \\N|\n",
      "|tt9916880|       6| nm1482639|  writer|                \\N|                  \\N|\n",
      "|tt9916880|       7| nm2586970|  writer|             books|                  \\N|\n",
      "|tt9916880|       8| nm1594058|producer|          producer|                  \\N|\n",
      "|tt9916880|       9| nm1052583| actress|                \\N|[\"Mum\",\"Tidy Ted\"...|\n",
      "+---------+--------+----------+--------+------------------+--------------------+\n",
      "\n"
     ]
    }
   ],
   "source": [
    "spark.sql(\"select * from Principal_Crew where tconst = 'tt9916880'\").show()"
   ]
  },
  {
   "cell_type": "code",
   "execution_count": 35,
   "metadata": {},
   "outputs": [
    {
     "name": "stdout",
     "output_type": "stream",
     "text": [
      "+-------------------+\n",
      "|count(DISTINCT job)|\n",
      "+-------------------+\n",
      "|30171              |\n",
      "+-------------------+\n",
      "\n"
     ]
    }
   ],
   "source": [
    "spark.sql(\"Select count(distinct(job)) from Principal_Crew where category = 'writer'\").show(50, False)"
   ]
  },
  {
   "cell_type": "code",
   "execution_count": 36,
   "metadata": {},
   "outputs": [
    {
     "name": "stdout",
     "output_type": "stream",
     "text": [
      "+-------------------------------------------------------------------------------+\n",
      "|job                                                                            |\n",
      "+-------------------------------------------------------------------------------+\n",
      "|story \"Raggedy Ann\"                                                            |\n",
      "|play \"Three Bears\"                                                             |\n",
      "|story \"Blossom\"                                                                |\n",
      "|story \"Danger\"                                                                 |\n",
      "|play \"Beverly's Balance\"                                                       |\n",
      "|story \"The Wilderness Trail\"                                                   |\n",
      "|play \"Guilty\"                                                                  |\n",
      "|story \"The Worst Woman in Hollywood\"                                           |\n",
      "|gags                                                                           |\n",
      "|play \"The Critical Years\"                                                      |\n",
      "|story \"Behind the Wheel\"                                                       |\n",
      "|play \"The Lunatic\"                                                             |\n",
      "|from the 1913 play by                                                          |\n",
      "|play \"Spring Fever\"                                                            |\n",
      "|play \"The Idol\"                                                                |\n",
      "|additional story, adaptation and dialogue                                      |\n",
      "|play \"The Lion and the Lamb\"                                                   |\n",
      "|story \"Find the Witness\"                                                       |\n",
      "|story \"Getting a Start in Life\"                                                |\n",
      "|novel \"Lafitte the Pirate\"                                                     |\n",
      "|based on the Nancy Drew stories by                                             |\n",
      "|story \"Annabel Lee\"                                                            |\n",
      "|an adaptation of the famous play \"Spring-Heeled Jack\" or \"The Terror Of London\"|\n",
      "|poetry                                                                         |\n",
      "|novel \"Uloupeny Zivot\"                                                         |\n",
      "|based upon the Ladies Home Journal story \"The Blank Wall\"                      |\n",
      "|based on novelette by                                                          |\n",
      "|poem \"La tierra de Alvargonzález\"                                              |\n",
      "|based upon story \"Sudden Fear\"                                                 |\n",
      "|additional dialogue {segment \"Ways and Means\"}                                 |\n",
      "|novel \"The Neat Little Corpse\"                                                 |\n",
      "|novella \"Garibaldina\"                                                          |\n",
      "|novel \"Shield for Murder\"                                                      |\n",
      "|from the novel entitled \"Robbery Under Arms\"                                   |\n",
      "|novel \"Les liaisons dangereuses\"                                               |\n",
      "|based on a story idea by                                                       |\n",
      "|novel \"De donkere kamer van Damocles\"                                          |\n",
      "|proposed by                                                                    |\n",
      "|novel \"Tofflan byter hamn\"                                                     |\n",
      "|book \"The Narrow Margin\"                                                       |\n",
      "|story \"Tema del traidor y del héroe\"                                           |\n",
      "|series devised by                                                              |\n",
      "|novel \"Poor, Poor Ophelia\"                                                     |\n",
      "|novel \"I'd Rather Stay Poor\"                                                   |\n",
      "|story The Racer                                                                |\n",
      "|based on the {1933} screenplay                                                 |\n",
      "|novel \"Red Harvest\"                                                            |\n",
      "|story \"A flight of Pigeons\"                                                    |\n",
      "|extracts from \"Traumprotokolle\"                                                |\n",
      "|novel \"The Stepford Wives\"                                                     |\n",
      "|novel \"L'Orphelin de Perdide\"                                                  |\n",
      "|novel \"Riva i druzi\"                                                           |\n",
      "|comic \"Daisy Town\"                                                             |\n",
      "|first rewrite                                                                  |\n",
      "|characters from the novel \"Black Fox\"                                          |\n",
      "|novel \"Fudge-A-Mania\"                                                          |\n",
      "|film La Jetée                                                                  |\n",
      "|novel \"The Iron Marshal\"                                                       |\n",
      "|novel \"Ut mine stromtid\"                                                       |\n",
      "|stories \"Madeline and the Bad Hat\" and \"Madeline and the Gypsies\"              |\n",
      "|play \"O dyskolos\"                                                              |\n",
      "|novel \"Nedopesok\"                                                              |\n",
      "|novel \"Zinková cesta\"                                                          |\n",
      "|book \"Ya speshu za schast'yem\"                                                 |\n",
      "|book \"Zharkiye peregony\"                                                       |\n",
      "|novel \"The Night of the Big Heat\"                                              |\n",
      "|from a short story                                                             |\n",
      "|story \"Hop-Frog\"                                                               |\n",
      "|novel \"Confession Corner\"                                                      |\n",
      "|plays \"Der Erdgeist\" and \"Die Büchse der Pandora\"                              |\n",
      "|novel \"A caixa do morto\"                                                       |\n",
      "|television series Recess                                                       |\n",
      "|play \"Candle Light\"                                                            |\n",
      "|book \"The Legendary Joe Meek\"                                                  |\n",
      "|play \"The Bath Comedy\"                                                         |\n",
      "|short story \"Le voleur\"                                                        |\n",
      "|novella \"Riding the Bullet\"                                                    |\n",
      "|play \"Stolica koja se ljulja\"                                                  |\n",
      "|book \"First Ladies Volume II\"                                                  |\n",
      "|US release only                                                                |\n",
      "|head staff writer                                                              |\n",
      "|inspired by \"Highland\" novels                                                  |\n",
      "|short story \"The Witch\"                                                        |\n",
      "|play \"Le songe du critique\"                                                    |\n",
      "|adapted from radio play by                                                     |\n",
      "|novel \"El ángel del acordeón\"                                                  |\n",
      "|novel \"The Wizard of Emerald City\"                                             |\n",
      "|play \"Escuadra hacia la muerte\"                                                |\n",
      "|based on the novel 'Quartett im September' by                                  |\n",
      "|story \"Kallante Makan, Oru Koottukaran, Niyamavum Neethiyum\"                   |\n",
      "|text for RWU instruction film                                                  |\n",
      "|novel: Un Fils Parfait                                                         |\n",
      "|books \"Gorelets\" and \"100 Jolts\"                                               |\n",
      "|based on the Norwegian series \"Neste sommer\" created by                        |\n",
      "|Additional Narration Writing                                                   |\n",
      "|motion picture \"Le Convoyeur\"                                                  |\n",
      "|voice over writer                                                              |\n",
      "|writer: \"Reds vs Blues\"                                                        |\n",
      "|writer: \"No More Mr Nice Engine\"                                               |\n",
      "|editor-in-chief                                                                |\n",
      "|sketch \"Uldbaren\"                                                              |\n",
      "|play \"Die Gewehre der Frau Carrar\"                                             |\n",
      "|novel \"Le monte-charge\"                                                        |\n",
      "|play \"Escape\"                                                                  |\n",
      "|novel \"Música de cámara                                                        |\n",
      "|novel \"Carambolages\"                                                           |\n",
      "|play \"While the Sun Shines\"                                                    |\n",
      "|play \"I due gemelli veneziani\"                                                 |\n",
      "|writer: The Millenarian                                                        |\n",
      "|play: Bérénice                                                                 |\n",
      "|article \"On Seeing a Sex Surrogate\"                                            |\n",
      "|novel \"Cold is the Grave\"                                                      |\n",
      "|hindi dialogue consultant                                                      |\n",
      "|jr. story editor                                                               |\n",
      "|book \"Inferno\"                                                                 |\n",
      "|based on the comic book \"The Secret Service\" by                                |\n",
      "|play \"Minna Magdalena\"                                                         |\n",
      "|novel 'The Cab Driver'                                                         |\n",
      "|based on the novel 'Whatever Makes You Happy'                                  |\n",
      "|play 'The country girl'                                                        |\n",
      "|novel \"Tony and Susan\"                                                         |\n",
      "|Faye                                                                           |\n",
      "|novel \"Iqbal Farooq og den sorte pjerrot                                       |\n",
      "|case C: \"Dr. Heartbreaker\"                                                     |\n",
      "|case C: \"Rund und gesund\"                                                      |\n",
      "|reseach                                                                        |\n",
      "|story \"Nigô\"                                                                   |\n",
      "|Co Creator                                                                     |\n",
      "|story editor writer                                                            |\n",
      "|based on the movie 'Kraftidioten' written by                                   |\n",
      "|short story \"The Link\"                                                         |\n",
      "|original story and screenplay by                                               |\n",
      "|Brion Markov, Halo & Dr. Helga Jace created by                                 |\n",
      "|German dialogue book                                                           |\n",
      "|based on the book trilogy \"Speglarnas Hemlighet\" by                            |\n",
      "|play \"Le maître\", 1953                                                         |\n",
      "|novel \"Si può essere amici per sempre\"                                         |\n",
      "|novel \"A Long Day in a Short Life\"                                             |\n",
      "|inspired by a story told by                                                    |\n",
      "|writer: Wacky Wishes                                                           |\n",
      "|poem: O Apokopos                                                               |\n",
      "|play \"Un Bon petit diable\"                                                     |\n",
      "|play \"Bobby Burnit\"                                                            |\n",
      "|play \"Gengangere\"                                                              |\n",
      "|play \"Information Please\"                                                      |\n",
      "|play \"Branded\"                                                                 |\n",
      "|story \"Black Pawl\"                                                             |\n",
      "|story \"The Spirit of the Road\"                                                 |\n",
      "|story \"Delicatessen\"                                                           |\n",
      "|novel \"Jungle Tales of Tarzan\"                                                 |\n",
      "|titles: silent version                                                         |\n",
      "|story \"The Flight Commander\"                                                   |\n",
      "|novel \"Sarah and Son\"                                                          |\n",
      "|from the original play by                                                      |\n",
      "|novel \"Drifting\"                                                               |\n",
      "|novel \"The Healer\"                                                             |\n",
      "|novel \"Ruggles of Red Gap\"                                                     |\n",
      "|play \"A Woman of No Importance\"                                                |\n",
      "|idea and scenario                                                              |\n",
      "|play \"Die spanische Fliege\"                                                    |\n",
      "|original story \"Fury of the Tropics\"                                           |\n",
      "|story \"The Boy, The Girl, and The Dog\"                                         |\n",
      "|novel \"Livsens ondskab\"                                                        |\n",
      "|novel \"Un millionario si ribella\"                                              |\n",
      "|play \"Mr. Cinders\"                                                             |\n",
      "|novel \"The White Unicorn\"                                                      |\n",
      "|novel \"Döden tar studenten\"                                                    |\n",
      "|novel adapted by                                                               |\n",
      "|play \"Beggar My Neighbour\"                                                     |\n",
      "|novel \"Donde Vienes\"                                                           |\n",
      "|novel \"The Isotope Man\"                                                        |\n",
      "|additional story treatment                                                     |\n",
      "|novel: \"Kings Go Forth\"                                                        |\n",
      "|novel \"La Dernière à l'echafaud\"                                               |\n",
      "|novel \"Pinioned Wings\"                                                         |\n",
      "|novel \"Barabbas\"                                                               |\n",
      "|novel \"The India-Rubber Men\"                                                   |\n",
      "|based upon the stage play: book by                                             |\n",
      "|story \"King Kong vs. Prometheus\"                                               |\n",
      "|novella \"Martin und die Männer\"                                                |\n",
      "|story \"Taiheyo kaisen saidai no Kiseki\"                                        |\n",
      "|based on the novel \"Adios\" by                                                  |\n",
      "|screenplay and story                                                           |\n",
      "|a film written by                                                              |\n",
      "|collaborator: final version of the dialogue                                    |\n",
      "|book \"Bandits a Marseille\"                                                     |\n",
      "|books \"Erinnerungen an die Zukunft\" and \"Zurück zu den Sternen\"                |\n",
      "|play \"The Owl and the Pussycat\"                                                |\n",
      "|book \"Ten Rillington Place\"                                                    |\n",
      "|motifs by                                                                      |\n",
      "|novel \"Ein EKG für Trimmel\"                                                    |\n",
      "|novel \"The Bait\"                                                               |\n",
      "|short story \"Sleeping Beauty\"                                                  |\n",
      "|additional contributions                                                       |\n",
      "|novel \"The Issue of the Bishop's Blood\"                                        |\n",
      "|novel \"The Bastard\"                                                            |\n",
      "|novel \"I Am the Cheese\"                                                        |\n",
      "|novel \"Ganga Zumba\"                                                            |\n",
      "|short story \"Ginger and the Kingsmarkham Chalk Circle\"                         |\n",
      "|book \"Blaze Starr: My Life as Told to Huey Perry\"                              |\n",
      "+-------------------------------------------------------------------------------+\n",
      "only showing top 200 rows\n",
      "\n"
     ]
    }
   ],
   "source": [
    "spark.sql(\"Select distinct(job) from Principal_Crew where category = 'writer'\").show(200, False)"
   ]
  },
  {
   "cell_type": "code",
   "execution_count": 37,
   "metadata": {},
   "outputs": [],
   "source": [
    "df_crew_names = spark.read.csv('data/name.basics.tsv',\n",
    "                         header=True,       # use headers or not\n",
    "                         quote='\"',         # char for quotes\n",
    "                         sep=\"\\t\",           # char for separation\n",
    "                         inferSchema=True)  # do we infer schema or not ?"
   ]
  },
  {
   "cell_type": "code",
   "execution_count": 39,
   "metadata": {},
   "outputs": [
    {
     "name": "stdout",
     "output_type": "stream",
     "text": [
      "root\n",
      " |-- nconst: string (nullable = true)\n",
      " |-- primaryName: string (nullable = true)\n",
      " |-- birthYear: string (nullable = true)\n",
      " |-- deathYear: string (nullable = true)\n",
      " |-- primaryProfession: string (nullable = true)\n",
      " |-- knownForTitles: string (nullable = true)\n",
      "\n"
     ]
    }
   ],
   "source": [
    "df_crew_names.printSchema()"
   ]
  },
  {
   "cell_type": "code",
   "execution_count": 40,
   "metadata": {},
   "outputs": [],
   "source": [
    "df_crew_names.createOrReplaceTempView('Crew_names')\n"
   ]
  },
  {
   "cell_type": "code",
   "execution_count": 42,
   "metadata": {},
   "outputs": [
    {
     "name": "stdout",
     "output_type": "stream",
     "text": [
      "+-----------------+---------+-------+\n",
      "|         col_name|data_type|comment|\n",
      "+-----------------+---------+-------+\n",
      "|           nconst|   string|   null|\n",
      "|      primaryName|   string|   null|\n",
      "|        birthYear|   string|   null|\n",
      "|        deathYear|   string|   null|\n",
      "|primaryProfession|   string|   null|\n",
      "|   knownForTitles|   string|   null|\n",
      "+-----------------+---------+-------+\n",
      "\n"
     ]
    }
   ],
   "source": [
    "spark.sql(\"Desc Crew_names\").show()"
   ]
  },
  {
   "cell_type": "code",
   "execution_count": null,
   "metadata": {},
   "outputs": [],
   "source": []
  }
 ],
 "metadata": {
  "kernelspec": {
   "display_name": "Python 2",
   "language": "python",
   "name": "python2"
  },
  "language_info": {
   "codemirror_mode": {
    "name": "ipython",
    "version": 2
   },
   "file_extension": ".py",
   "mimetype": "text/x-python",
   "name": "python",
   "nbconvert_exporter": "python",
   "pygments_lexer": "ipython2",
   "version": "2.7.16"
  }
 },
 "nbformat": 4,
 "nbformat_minor": 2
}
