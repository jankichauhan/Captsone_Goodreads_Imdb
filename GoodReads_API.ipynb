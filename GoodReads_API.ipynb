{
 "cells": [
  {
   "cell_type": "code",
   "execution_count": 5,
   "metadata": {},
   "outputs": [],
   "source": [
    "import goodreads_api_client as gr\n",
    "import json\n",
    "import pandas as pd\n",
    "import urllib.request\n",
    "from urllib.error import HTTPError\n",
    "import time\n",
    "from datetime import datetime\n",
    "import csv"
   ]
  },
  {
   "cell_type": "code",
   "execution_count": 2,
   "metadata": {},
   "outputs": [],
   "source": [
    "client = gr.Client()"
   ]
  },
  {
   "cell_type": "code",
   "execution_count": 16,
   "metadata": {},
   "outputs": [],
   "source": [
    "keys_wanted = ['id', 'title', 'isbn', 'num_pages', 'ratings_count', 'average_rating','text_reviews_count']\n",
    "reduced_book_list = []\n",
    "def getBookInfo(movieId, titleName):\n",
    "    try:\n",
    "        book = client.Book.title(title=titleName)\n",
    "    except KeyError:\n",
    "        print('Cannot find book ' + titleName)\n",
    "    else:\n",
    "        reduced_book = {k:v for k, v in book.items() if k in keys_wanted}\n",
    "        if not any(reduced_book[\"id\"] in ids for ids in reduced_book_list):\n",
    "            reduced_book.update({'movie_ref': movieId})\n",
    "            reduced_book_list.append(reduced_book)\n",
    "            with open('Goodreads_files/Goodreads_'+movieId+'.json', 'w') as outfile:\n",
    "                json.dump(book, outfile)"
   ]
  },
  {
   "cell_type": "code",
   "execution_count": 22,
   "metadata": {},
   "outputs": [],
   "source": [
    "col_list = ['movie_id','avg_ratings','votes','name','book_name']\n",
    "df_books_list = pd.read_csv(\"booksListLatest.csv\", usecols=col_list)"
   ]
  },
  {
   "cell_type": "code",
   "execution_count": null,
   "metadata": {},
   "outputs": [],
   "source": [
    "now = datetime.now()\n",
    "for index, row in df_books_list.iterrows():\n",
    "    time.sleep(1)\n",
    "    getBookInfo(row['movie_id'], row['book_name'])\n",
    "then = datetime.now()"
   ]
  },
  {
   "cell_type": "code",
   "execution_count": 27,
   "metadata": {},
   "outputs": [
    {
     "data": {
      "text/plain": [
       "2105"
      ]
     },
     "execution_count": 27,
     "metadata": {},
     "output_type": "execute_result"
    }
   ],
   "source": [
    "len(reduced_book_list)"
   ]
  },
  {
   "cell_type": "code",
   "execution_count": null,
   "metadata": {},
   "outputs": [],
   "source": []
  },
  {
   "cell_type": "code",
   "execution_count": 28,
   "metadata": {},
   "outputs": [],
   "source": [
    "f = open(\"goodread_books_latest.csv\", \"w\")\n",
    "writer = csv.DictWriter(\n",
    "    f, fieldnames=['id', 'title', 'isbn', 'num_pages', 'ratings_count', 'average_rating','text_reviews_count','movie_ref'])\n",
    "writer.writeheader()\n",
    "writer.writerows(reduced_book_list)\n",
    "f.close()"
   ]
  },
  {
   "cell_type": "code",
   "execution_count": null,
   "metadata": {},
   "outputs": [],
   "source": []
  }
 ],
 "metadata": {
  "kernelspec": {
   "display_name": "Python 3",
   "language": "python",
   "name": "python3"
  },
  "language_info": {
   "codemirror_mode": {
    "name": "ipython",
    "version": 3
   },
   "file_extension": ".py",
   "mimetype": "text/x-python",
   "name": "python",
   "nbconvert_exporter": "python",
   "pygments_lexer": "ipython3",
   "version": "3.7.6"
  }
 },
 "nbformat": 4,
 "nbformat_minor": 4
}
