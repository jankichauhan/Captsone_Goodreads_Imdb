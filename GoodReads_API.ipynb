{
 "cells": [
  {
   "cell_type": "code",
   "execution_count": 5,
   "metadata": {},
   "outputs": [],
   "source": [
    "import goodreads_api_client as gr\n",
    "import json\n",
    "import pandas as pd\n",
    "import urllib.request\n",
    "from urllib.error import HTTPError\n",
    "import time\n",
    "from datetime import datetime\n",
    "import csv"
   ]
  },
  {
   "cell_type": "code",
   "execution_count": 2,
   "metadata": {},
   "outputs": [],
   "source": [
    "client = gr.Client()"
   ]
  },
  {
   "cell_type": "code",
   "execution_count": 37,
   "metadata": {},
   "outputs": [],
   "source": [
    "keys_wanted = ['id', 'title', 'isbn', 'num_pages', 'ratings_count', 'average_rating','text_reviews_count']\n",
    "reduced_book_list = []\n",
    "def getBookInfo(movieId, titleName, authorName):\n",
    "    try:\n",
    "        book = client.Book.title(title=titleName)\n",
    "    except KeyError:\n",
    "        print('Cannot find book ' + titleName)\n",
    "    else:\n",
    "        reduced_book = {k:v for k, v in book.items() if k in keys_wanted}\n",
    "        reduced_book.update({'movie_ref': movieId})\n",
    "        reduced_book.update({'author_name': authorName})\n",
    "        reduced_book_list.append(reduced_book)\n",
    "        with open('Goodreads_files/Goodreads_'+movieId+'.json', 'w') as outfile:\n",
    "            json.dump(book, outfile)"
   ]
  },
  {
   "cell_type": "code",
   "execution_count": 39,
   "metadata": {},
   "outputs": [
    {
     "data": {
      "text/plain": [
       "movie_id       2443\n",
       "avg_ratings    2443\n",
       "votes          2443\n",
       "name           2443\n",
       "book_name      2443\n",
       "dtype: int64"
      ]
     },
     "execution_count": 39,
     "metadata": {},
     "output_type": "execute_result"
    }
   ],
   "source": [
    "col_list = ['movie_id','avg_ratings','votes','name','book_name']\n",
    "df_books_list = pd.read_csv(\"booksListLatest.csv\", usecols=col_list)\n",
    "df_books_list.count()"
   ]
  },
  {
   "cell_type": "code",
   "execution_count": null,
   "metadata": {},
   "outputs": [
    {
     "name": "stdout",
     "output_type": "stream",
     "text": [
      "404 Client Error: Not Found for url: https://www.goodreads.com/book/title?format=xml&key=PpTgXSfAtvmDFDtz7EKtbg&title=Kouga+Ninpouchou\n",
      "Cannot find book Kouga Ninpouchou\n",
      "404 Client Error: Not Found for url: https://www.goodreads.com/book/title?format=xml&key=PpTgXSfAtvmDFDtz7EKtbg&title=Go+Find+a+Psychic%21\n",
      "Cannot find book Go Find a Psychic!\n",
      "404 Client Error: Not Found for url: https://www.goodreads.com/book/title?format=xml&key=PpTgXSfAtvmDFDtz7EKtbg&title=The+Lion+Standing+in+the+Wind\n",
      "Cannot find book The Lion Standing in the Wind\n",
      "404 Client Error: Not Found for url: https://www.goodreads.com/book/title?format=xml&key=PpTgXSfAtvmDFDtz7EKtbg&title=Sisterakas\n",
      "Cannot find book Sisterakas\n",
      "404 Client Error: Not Found for url: https://www.goodreads.com/book/title?format=xml&key=PpTgXSfAtvmDFDtz7EKtbg&title=Filosofi+Kopi+2%3A+Ben+%26+Jody\n",
      "Cannot find book Filosofi Kopi 2: Ben & Jody\n",
      "404 Client Error: Not Found for url: https://www.goodreads.com/book/title?format=xml&key=PpTgXSfAtvmDFDtz7EKtbg&title=The+Wings+of+the+Kirin\n",
      "Cannot find book The Wings of the Kirin\n",
      "404 Client Error: Not Found for url: https://www.goodreads.com/book/title?format=xml&key=PpTgXSfAtvmDFDtz7EKtbg&title=Mortadelo+and+Filemon%3A+Mission+Implausible\n",
      "Cannot find book Mortadelo and Filemon: Mission Implausible\n",
      "404 Client Error: Not Found for url: https://www.goodreads.com/book/title?format=xml&key=PpTgXSfAtvmDFDtz7EKtbg&title=Until+the+Break+of+Dawn\n",
      "Cannot find book Until the Break of Dawn\n",
      "404 Client Error: Not Found for url: https://www.goodreads.com/book/title?format=xml&key=PpTgXSfAtvmDFDtz7EKtbg&title=Oppai+Volleyball\n",
      "Cannot find book Oppai Volleyball\n",
      "404 Client Error: Not Found for url: https://www.goodreads.com/book/title?format=xml&key=PpTgXSfAtvmDFDtz7EKtbg&title=Garage+Sale+Mystery%3A+The+Deadly+Room\n",
      "Cannot find book Garage Sale Mystery: The Deadly Room\n",
      "404 Client Error: Not Found for url: https://www.goodreads.com/book/title?format=xml&key=PpTgXSfAtvmDFDtz7EKtbg&title=Hellraiser%3A+Revelations\n",
      "Cannot find book Hellraiser: Revelations\n",
      "404 Client Error: Not Found for url: https://www.goodreads.com/book/title?format=xml&key=PpTgXSfAtvmDFDtz7EKtbg&title=Time+for+You+to+Come+Home+for+Christmas\n",
      "Cannot find book Time for You to Come Home for Christmas\n",
      "404 Client Error: Not Found for url: https://www.goodreads.com/book/title?format=xml&key=PpTgXSfAtvmDFDtz7EKtbg&title=A+Very+Unsettled+Summer\n",
      "Cannot find book A Very Unsettled Summer\n",
      "404 Client Error: Not Found for url: https://www.goodreads.com/book/title?format=xml&key=PpTgXSfAtvmDFDtz7EKtbg&title=Night%27s+Tightrope\n",
      "Cannot find book Night's Tightrope\n",
      "404 Client Error: Not Found for url: https://www.goodreads.com/book/title?format=xml&key=PpTgXSfAtvmDFDtz7EKtbg&title=The+Boy+with+the+Golden+Pants\n",
      "Cannot find book The Boy with the Golden Pants\n",
      "404 Client Error: Not Found for url: https://www.goodreads.com/book/title?format=xml&key=PpTgXSfAtvmDFDtz7EKtbg&title=Disney%27s+Newsies%3A+The+Broadway+Musical%21\n",
      "Cannot find book Disney's Newsies: The Broadway Musical!\n",
      "404 Client Error: Not Found for url: https://www.goodreads.com/book/title?format=xml&key=PpTgXSfAtvmDFDtz7EKtbg&title=Disney%27s+Newsies%3A+The+Broadway+Musical%21\n",
      "Cannot find book Disney's Newsies: The Broadway Musical!\n",
      "404 Client Error: Not Found for url: https://www.goodreads.com/book/title?format=xml&key=PpTgXSfAtvmDFDtz7EKtbg&title=Don%27t+Laugh+at+My+Sex\n",
      "Cannot find book Don't Laugh at My Sex\n",
      "404 Client Error: Not Found for url: https://www.goodreads.com/book/title?format=xml&key=PpTgXSfAtvmDFDtz7EKtbg&title=Isn%27t+Anyone+Alive%3F\n",
      "Cannot find book Isn't Anyone Alive?\n",
      "404 Client Error: Not Found for url: https://www.goodreads.com/book/title?format=xml&key=PpTgXSfAtvmDFDtz7EKtbg&title=Sudniy+den\n",
      "Cannot find book Sudniy den\n",
      "404 Client Error: Not Found for url: https://www.goodreads.com/book/title?format=xml&key=PpTgXSfAtvmDFDtz7EKtbg&title=Horrid+Henry%3A+The+Movie\n",
      "Cannot find book Horrid Henry: The Movie\n",
      "404 Client Error: Not Found for url: https://www.goodreads.com/book/title?format=xml&key=PpTgXSfAtvmDFDtz7EKtbg&title=The+Drudgery+Train\n",
      "Cannot find book The Drudgery Train\n",
      "404 Client Error: Not Found for url: https://www.goodreads.com/book/title?format=xml&key=PpTgXSfAtvmDFDtz7EKtbg&title=Kono+subarashii+sekai+ni+shukufuku+o%21+5\n",
      "Cannot find book Kono subarashii sekai ni shukufuku o! 5\n",
      "404 Client Error: Not Found for url: https://www.goodreads.com/book/title?format=xml&key=PpTgXSfAtvmDFDtz7EKtbg&title=Kono+subarashii+sekai+ni+shukufuku+o%21+5\n",
      "Cannot find book Kono subarashii sekai ni shukufuku o! 5\n",
      "404 Client Error: Not Found for url: https://www.goodreads.com/book/title?format=xml&key=PpTgXSfAtvmDFDtz7EKtbg&title=The+Nut+Job+2%3A+Nutty+by+Nature\n",
      "Cannot find book The Nut Job 2: Nutty by Nature\n",
      "404 Client Error: Not Found for url: https://www.goodreads.com/book/title?format=xml&key=PpTgXSfAtvmDFDtz7EKtbg&title=No+manches+Frida\n",
      "Cannot find book No manches Frida\n",
      "404 Client Error: Not Found for url: https://www.goodreads.com/book/title?format=xml&key=PpTgXSfAtvmDFDtz7EKtbg&title=Ittsu+onr%C3%AE+t%C3%B4ku\n",
      "Cannot find book Ittsu onrî tôku\n",
      "404 Client Error: Not Found for url: https://www.goodreads.com/book/title?format=xml&key=PpTgXSfAtvmDFDtz7EKtbg&title=Genji+monogatari%3A+Sennen+no+nazo\n",
      "Cannot find book Genji monogatari: Sennen no nazo\n",
      "404 Client Error: Not Found for url: https://www.goodreads.com/book/title?format=xml&key=PpTgXSfAtvmDFDtz7EKtbg&title=Twilight%3A+Saya+in+Sasara\n",
      "Cannot find book Twilight: Saya in Sasara\n",
      "404 Client Error: Not Found for url: https://www.goodreads.com/book/title?format=xml&key=PpTgXSfAtvmDFDtz7EKtbg&title=Beyond+the+Boundary+Movie%3A+I%27ll+Be+Here+-+Kako-hen\n",
      "Cannot find book Beyond the Boundary Movie: I'll Be Here - Kako-hen\n",
      "404 Client Error: Not Found for url: https://www.goodreads.com/book/title?format=xml&key=PpTgXSfAtvmDFDtz7EKtbg&title=Asako+I+%26+II\n",
      "Cannot find book Asako I & II\n",
      "404 Client Error: Not Found for url: https://www.goodreads.com/book/title?format=xml&key=PpTgXSfAtvmDFDtz7EKtbg&title=Love+Is+the+Perfect+Crime\n",
      "Cannot find book Love Is the Perfect Crime\n",
      "404 Client Error: Not Found for url: https://www.goodreads.com/book/title?format=xml&key=PpTgXSfAtvmDFDtz7EKtbg&title=Violent+Shit%3A+The+Movie\n",
      "Cannot find book Violent Shit: The Movie\n",
      "404 Client Error: Not Found for url: https://www.goodreads.com/book/title?format=xml&key=PpTgXSfAtvmDFDtz7EKtbg&title=Violent+Shit%3A+The+Movie\n",
      "Cannot find book Violent Shit: The Movie\n",
      "404 Client Error: Not Found for url: https://www.goodreads.com/book/title?format=xml&key=PpTgXSfAtvmDFDtz7EKtbg&title=The+Totenwackers\n",
      "Cannot find book The Totenwackers\n",
      "404 Client Error: Not Found for url: https://www.goodreads.com/book/title?format=xml&key=PpTgXSfAtvmDFDtz7EKtbg&title=The+Totenwackers\n",
      "Cannot find book The Totenwackers\n",
      "404 Client Error: Not Found for url: https://www.goodreads.com/book/title?format=xml&key=PpTgXSfAtvmDFDtz7EKtbg&title=The+Oogieloves+in+the+Big+Balloon+Adventure\n",
      "Cannot find book The Oogieloves in the Big Balloon Adventure\n",
      "404 Client Error: Not Found for url: https://www.goodreads.com/book/title?format=xml&key=PpTgXSfAtvmDFDtz7EKtbg&title=The+Oogieloves+in+the+Big+Balloon+Adventure\n",
      "Cannot find book The Oogieloves in the Big Balloon Adventure\n",
      "404 Client Error: Not Found for url: https://www.goodreads.com/book/title?format=xml&key=PpTgXSfAtvmDFDtz7EKtbg&title=Joler+Ghurni+O+Bokbok+Shobdo\n",
      "Cannot find book Joler Ghurni O Bokbok Shobdo\n",
      "404 Client Error: Not Found for url: https://www.goodreads.com/book/title?format=xml&key=PpTgXSfAtvmDFDtz7EKtbg&title=Im+Yesh+Gan+Eden\n",
      "Cannot find book Im Yesh Gan Eden\n",
      "404 Client Error: Not Found for url: https://www.goodreads.com/book/title?format=xml&key=PpTgXSfAtvmDFDtz7EKtbg&title=The+Siege+of+Jadotville\n",
      "Cannot find book The Siege of Jadotville\n",
      "404 Client Error: Not Found for url: https://www.goodreads.com/book/title?format=xml&key=PpTgXSfAtvmDFDtz7EKtbg&title=Mozu+the+Movie\n",
      "Cannot find book Mozu the Movie\n",
      "404 Client Error: Not Found for url: https://www.goodreads.com/book/title?format=xml&key=PpTgXSfAtvmDFDtz7EKtbg&title=Provinces+of+the+Night\n",
      "Cannot find book Provinces of the Night\n",
      "404 Client Error: Not Found for url: https://www.goodreads.com/book/title?format=xml&key=PpTgXSfAtvmDFDtz7EKtbg&title=Y%C3%BBbae+Sh%C3%B4jo\n",
      "Cannot find book Yûbae Shôjo\n",
      "404 Client Error: Not Found for url: https://www.goodreads.com/book/title?format=xml&key=PpTgXSfAtvmDFDtz7EKtbg&title=Gotowi+na+wszystko.+Exterminator\n",
      "Cannot find book Gotowi na wszystko. Exterminator\n",
      "404 Client Error: Not Found for url: https://www.goodreads.com/book/title?format=xml&key=PpTgXSfAtvmDFDtz7EKtbg&title=Kizumonogatari+Part+1%3A+Tekketsu\n",
      "Cannot find book Kizumonogatari Part 1: Tekketsu\n",
      "404 Client Error: Not Found for url: https://www.goodreads.com/book/title?format=xml&key=PpTgXSfAtvmDFDtz7EKtbg&title=Neuilly+Yo+Mama%21\n",
      "Cannot find book Neuilly Yo Mama!\n",
      "404 Client Error: Not Found for url: https://www.goodreads.com/book/title?format=xml&key=PpTgXSfAtvmDFDtz7EKtbg&title=National+Theatre+Live%3A+Follies\n",
      "Cannot find book National Theatre Live: Follies\n",
      "404 Client Error: Not Found for url: https://www.goodreads.com/book/title?format=xml&key=PpTgXSfAtvmDFDtz7EKtbg&title=Magic+Beyond+Words%3A+The+J.K.+Rowling+Story\n",
      "Cannot find book Magic Beyond Words: The J.K. Rowling Story\n",
      "404 Client Error: Not Found for url: https://www.goodreads.com/book/title?format=xml&key=PpTgXSfAtvmDFDtz7EKtbg&title=Dawn+Wind+in+My+Poncho\n",
      "Cannot find book Dawn Wind in My Poncho\n",
      "404 Client Error: Not Found for url: https://www.goodreads.com/book/title?format=xml&key=PpTgXSfAtvmDFDtz7EKtbg&title=Pretty+Little+Stalker\n",
      "Cannot find book Pretty Little Stalker\n",
      "404 Client Error: Not Found for url: https://www.goodreads.com/book/title?format=xml&key=PpTgXSfAtvmDFDtz7EKtbg&title=Pretty+Little+Stalker\n",
      "Cannot find book Pretty Little Stalker\n",
      "404 Client Error: Not Found for url: https://www.goodreads.com/book/title?format=xml&key=PpTgXSfAtvmDFDtz7EKtbg&title=Mystery+101%3A+Playing+Dead\n",
      "Cannot find book Mystery 101: Playing Dead\n",
      "404 Client Error: Not Found for url: https://www.goodreads.com/book/title?format=xml&key=PpTgXSfAtvmDFDtz7EKtbg&title=Mystery+101%3A+Playing+Dead\n",
      "Cannot find book Mystery 101: Playing Dead\n",
      "404 Client Error: Not Found for url: https://www.goodreads.com/book/title?format=xml&key=PpTgXSfAtvmDFDtz7EKtbg&title=Ghosthunters%3A+On+Icy+Trails\n",
      "Cannot find book Ghosthunters: On Icy Trails\n",
      "404 Client Error: Not Found for url: https://www.goodreads.com/book/title?format=xml&key=PpTgXSfAtvmDFDtz7EKtbg&title=Kickboxer%3A+Vengeance\n",
      "Cannot find book Kickboxer: Vengeance\n",
      "404 Client Error: Not Found for url: https://www.goodreads.com/book/title?format=xml&key=PpTgXSfAtvmDFDtz7EKtbg&title=Baifa+Mon%C3%BC+Zhuan\n",
      "Cannot find book Baifa Monü Zhuan\n",
      "404 Client Error: Not Found for url: https://www.goodreads.com/book/title?format=xml&key=PpTgXSfAtvmDFDtz7EKtbg&title=Gukoroku+-+Traces+of+Sin\n",
      "Cannot find book Gukoroku - Traces of Sin\n",
      "404 Client Error: Not Found for url: https://www.goodreads.com/book/title?format=xml&key=PpTgXSfAtvmDFDtz7EKtbg&title=Mumon%3A+The+Land+of+Stealth\n",
      "Cannot find book Mumon: The Land of Stealth\n",
      "404 Client Error: Not Found for url: https://www.goodreads.com/book/title?format=xml&key=PpTgXSfAtvmDFDtz7EKtbg&title=Yurigokoro\n",
      "Cannot find book Yurigokoro\n",
      "404 Client Error: Not Found for url: https://www.goodreads.com/book/title?format=xml&key=PpTgXSfAtvmDFDtz7EKtbg&title=Dancing+on+Her+Grace\n",
      "Cannot find book Dancing on Her Grace\n",
      "404 Client Error: Not Found for url: https://www.goodreads.com/book/title?format=xml&key=PpTgXSfAtvmDFDtz7EKtbg&title=Dancing+on+Her+Grace\n",
      "Cannot find book Dancing on Her Grace\n",
      "404 Client Error: Not Found for url: https://www.goodreads.com/book/title?format=xml&key=PpTgXSfAtvmDFDtz7EKtbg&title=Cop+and+a+Half%3A+New+Recruit\n",
      "Cannot find book Cop and a Half: New Recruit\n",
      "404 Client Error: Not Found for url: https://www.goodreads.com/book/title?format=xml&key=PpTgXSfAtvmDFDtz7EKtbg&title=Seven+Swordsmen+from+Mountain+Tian\n",
      "Cannot find book Seven Swordsmen from Mountain Tian\n",
      "404 Client Error: Not Found for url: https://www.goodreads.com/book/title?format=xml&key=PpTgXSfAtvmDFDtz7EKtbg&title=Battle+Under+Orion\n",
      "Cannot find book Battle Under Orion\n",
      "404 Client Error: Not Found for url: https://www.goodreads.com/book/title?format=xml&key=PpTgXSfAtvmDFDtz7EKtbg&title=Battle+Under+Orion\n",
      "Cannot find book Battle Under Orion\n",
      "404 Client Error: Not Found for url: https://www.goodreads.com/book/title?format=xml&key=PpTgXSfAtvmDFDtz7EKtbg&title=Fus%C3%A9%3A+Memoirs+of+a+Huntress\n",
      "Cannot find book Fusé: Memoirs of a Huntress\n",
      "404 Client Error: Not Found for url: https://www.goodreads.com/book/title?format=xml&key=PpTgXSfAtvmDFDtz7EKtbg&title=Legend+of+the+Demon+Cat\n",
      "Cannot find book Legend of the Demon Cat\n",
      "404 Client Error: Not Found for url: https://www.goodreads.com/book/title?format=xml&key=PpTgXSfAtvmDFDtz7EKtbg&title=The+Librarian+III%3A+The+Curse+of+the+Judas+Chalice\n",
      "Cannot find book The Librarian III: The Curse of the Judas Chalice\n",
      "404 Client Error: Not Found for url: https://www.goodreads.com/book/title?format=xml&key=PpTgXSfAtvmDFDtz7EKtbg&title=Scooby-Doo+%26+Batman%3A+The+Brave+and+the+Bold\n",
      "Cannot find book Scooby-Doo & Batman: The Brave and the Bold\n",
      "404 Client Error: Not Found for url: https://www.goodreads.com/book/title?format=xml&key=PpTgXSfAtvmDFDtz7EKtbg&title=Scooby-Doo+%26+Batman%3A+The+Brave+and+the+Bold\n",
      "Cannot find book Scooby-Doo & Batman: The Brave and the Bold\n",
      "404 Client Error: Not Found for url: https://www.goodreads.com/book/title?format=xml&key=PpTgXSfAtvmDFDtz7EKtbg&title=Scooby-Doo+%26+Batman%3A+The+Brave+and+the+Bold\n",
      "Cannot find book Scooby-Doo & Batman: The Brave and the Bold\n",
      "404 Client Error: Not Found for url: https://www.goodreads.com/book/title?format=xml&key=PpTgXSfAtvmDFDtz7EKtbg&title=Doraemon%3A+Nobita%27s+Secret+Gadget+Museum\n",
      "Cannot find book Doraemon: Nobita's Secret Gadget Museum\n",
      "404 Client Error: Not Found for url: https://www.goodreads.com/book/title?format=xml&key=PpTgXSfAtvmDFDtz7EKtbg&title=Sailor+Suit+and+Machine+Gun%3A+Graduation\n",
      "Cannot find book Sailor Suit and Machine Gun: Graduation\n",
      "404 Client Error: Not Found for url: https://www.goodreads.com/book/title?format=xml&key=PpTgXSfAtvmDFDtz7EKtbg&title=Michael+Jackson%3A+Searching+for+Neverland\n",
      "Cannot find book Michael Jackson: Searching for Neverland\n",
      "404 Client Error: Not Found for url: https://www.goodreads.com/book/title?format=xml&key=PpTgXSfAtvmDFDtz7EKtbg&title=Bernie+The+Dolphin\n",
      "Cannot find book Bernie The Dolphin\n",
      "404 Client Error: Not Found for url: https://www.goodreads.com/book/title?format=xml&key=PpTgXSfAtvmDFDtz7EKtbg&title=One+Piece%3A+Baron+Omatsuri+and+the+Secret+Island\n",
      "Cannot find book One Piece: Baron Omatsuri and the Secret Island\n",
      "404 Client Error: Not Found for url: https://www.goodreads.com/book/title?format=xml&key=PpTgXSfAtvmDFDtz7EKtbg&title=Well+Done+Abba%21\n",
      "Cannot find book Well Done Abba!\n",
      "404 Client Error: Not Found for url: https://www.goodreads.com/book/title?format=xml&key=PpTgXSfAtvmDFDtz7EKtbg&title=Nondito+Noroke\n",
      "Cannot find book Nondito Noroke\n",
      "404 Client Error: Not Found for url: https://www.goodreads.com/book/title?format=xml&key=PpTgXSfAtvmDFDtz7EKtbg&title=Onigamiden+-+Legend+of+the+Millennium+Dragon\n",
      "Cannot find book Onigamiden - Legend of the Millennium Dragon\n",
      "404 Client Error: Not Found for url: https://www.goodreads.com/book/title?format=xml&key=PpTgXSfAtvmDFDtz7EKtbg&title=Color+betulla+giovane\n",
      "Cannot find book Color betulla giovane\n",
      "404 Client Error: Not Found for url: https://www.goodreads.com/book/title?format=xml&key=PpTgXSfAtvmDFDtz7EKtbg&title=Hailey+Dean+Mystery%3A+Murder%2C+with+Love\n",
      "Cannot find book Hailey Dean Mystery: Murder, with Love\n",
      "404 Client Error: Not Found for url: https://www.goodreads.com/book/title?format=xml&key=PpTgXSfAtvmDFDtz7EKtbg&title=Deux+freres%2C+un+flic%2C+un+truand\n",
      "Cannot find book Deux freres, un flic, un truand\n"
     ]
    }
   ],
   "source": [
    "movie_list = []\n",
    "now = datetime.now()\n",
    "for index, row in df_books_list.iterrows():\n",
    "    if row['movie_id'] not in movie_list:\n",
    "        getBookInfo(row['movie_id'], row['book_name'], row['name'])\n",
    "        time.sleep(1)\n",
    "then = datetime.now()"
   ]
  },
  {
   "cell_type": "code",
   "execution_count": 35,
   "metadata": {},
   "outputs": [
    {
     "data": {
      "text/plain": [
       "480"
      ]
     },
     "execution_count": 35,
     "metadata": {},
     "output_type": "execute_result"
    }
   ],
   "source": [
    "len(reduced_book_list)"
   ]
  },
  {
   "cell_type": "code",
   "execution_count": null,
   "metadata": {},
   "outputs": [],
   "source": [
    "# Converting the list of dictionaries to csv"
   ]
  },
  {
   "cell_type": "code",
   "execution_count": 28,
   "metadata": {},
   "outputs": [],
   "source": [
    "f = open(\"goodread_books_latest.csv\", \"w\")\n",
    "writer = csv.DictWriter(\n",
    "    f, fieldnames=['id', 'title', 'isbn', 'num_pages', 'ratings_count', 'average_rating','text_reviews_count','movie_ref'])\n",
    "writer.writeheader()\n",
    "writer.writerows(reduced_book_list)\n",
    "f.close()"
   ]
  },
  {
   "cell_type": "code",
   "execution_count": null,
   "metadata": {},
   "outputs": [],
   "source": []
  }
 ],
 "metadata": {
  "kernelspec": {
   "display_name": "Python 3",
   "language": "python",
   "name": "python3"
  },
  "language_info": {
   "codemirror_mode": {
    "name": "ipython",
    "version": 3
   },
   "file_extension": ".py",
   "mimetype": "text/x-python",
   "name": "python",
   "nbconvert_exporter": "python",
   "pygments_lexer": "ipython3",
   "version": "3.7.6"
  }
 },
 "nbformat": 4,
 "nbformat_minor": 4
}
